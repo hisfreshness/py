{
  "nbformat": 4,
  "nbformat_minor": 0,
  "metadata": {
    "colab": {
      "name": "DM CIA 3",
      "provenance": [],
      "collapsed_sections": [],
      "authorship_tag": "ABX9TyOb3vyK4eT4xoFfszX1wCKk",
      "include_colab_link": true
    },
    "kernelspec": {
      "name": "python3",
      "display_name": "Python 3"
    }
  },
  "cells": [
    {
      "cell_type": "markdown",
      "metadata": {
        "id": "view-in-github",
        "colab_type": "text"
      },
      "source": [
        "<a href=\"https://colab.research.google.com/github/hisfreshness/py/blob/master/DM_CIA_3.ipynb\" target=\"_parent\"><img src=\"https://colab.research.google.com/assets/colab-badge.svg\" alt=\"Open In Colab\"/></a>"
      ]
    },
    {
      "cell_type": "code",
      "metadata": {
        "id": "60Z0SyzfW_vF"
      },
      "source": [
        "import pandas_datareader as pr\r\n",
        "key=\"\""
      ],
      "execution_count": null,
      "outputs": []
    },
    {
      "cell_type": "code",
      "metadata": {
        "id": "ONv1wNzgYQBn"
      },
      "source": [
        " df = pr.get_data_tiingo('NTRS', api_key='f01d84b8b98d037af34648845cf56bcf602afd44')\r\n"
      ],
      "execution_count": null,
      "outputs": []
    },
    {
      "cell_type": "code",
      "metadata": {
        "id": "9cZgHoa8gdtj"
      },
      "source": [
        " df.to_csv('NTRS.csv')"
      ],
      "execution_count": null,
      "outputs": []
    },
    {
      "cell_type": "code",
      "metadata": {
        "id": "qVz2PvOogf1Q"
      },
      "source": [
        "import pandas as pd\r\n",
        "x = pd.read_csv('NTRS.csv')"
      ],
      "execution_count": null,
      "outputs": []
    },
    {
      "cell_type": "code",
      "metadata": {
        "id": "WnOR3M_grm7w"
      },
      "source": [
        "import matplotlib.pyplot as plt"
      ],
      "execution_count": null,
      "outputs": []
    },
    {
      "cell_type": "code",
      "metadata": {
        "id": "WrXlBuw7r-P1"
      },
      "source": [
        "import numpy as np\r\n",
        "from sklearn.preprocessing import MinMaxScaler\r\n",
        "scale= MinMaxScaler(feature_range=(0,1))\r\n",
        "\r\n"
      ],
      "execution_count": null,
      "outputs": []
    },
    {
      "cell_type": "code",
      "metadata": {
        "colab": {
          "base_uri": "https://localhost:8080/",
          "height": 424
        },
        "id": "9AdLJDoBiIn6",
        "outputId": "e8cd8114-de6d-4319-e1bb-5f4afc4b4d8f"
      },
      "source": [
        "x\r\n"
      ],
      "execution_count": null,
      "outputs": [
        {
          "output_type": "execute_result",
          "data": {
            "text/html": [
              "<div>\n",
              "<style scoped>\n",
              "    .dataframe tbody tr th:only-of-type {\n",
              "        vertical-align: middle;\n",
              "    }\n",
              "\n",
              "    .dataframe tbody tr th {\n",
              "        vertical-align: top;\n",
              "    }\n",
              "\n",
              "    .dataframe thead th {\n",
              "        text-align: right;\n",
              "    }\n",
              "</style>\n",
              "<table border=\"1\" class=\"dataframe\">\n",
              "  <thead>\n",
              "    <tr style=\"text-align: right;\">\n",
              "      <th></th>\n",
              "      <th>symbol</th>\n",
              "      <th>date</th>\n",
              "      <th>close</th>\n",
              "      <th>high</th>\n",
              "      <th>low</th>\n",
              "      <th>open</th>\n",
              "      <th>volume</th>\n",
              "      <th>adjClose</th>\n",
              "      <th>adjHigh</th>\n",
              "      <th>adjLow</th>\n",
              "      <th>adjOpen</th>\n",
              "      <th>adjVolume</th>\n",
              "      <th>divCash</th>\n",
              "      <th>splitFactor</th>\n",
              "    </tr>\n",
              "  </thead>\n",
              "  <tbody>\n",
              "    <tr>\n",
              "      <th>0</th>\n",
              "      <td>NTRS</td>\n",
              "      <td>2016-01-06 00:00:00+00:00</td>\n",
              "      <td>69.01</td>\n",
              "      <td>69.580</td>\n",
              "      <td>68.6900</td>\n",
              "      <td>69.19</td>\n",
              "      <td>1186560</td>\n",
              "      <td>61.172258</td>\n",
              "      <td>61.677521</td>\n",
              "      <td>60.888602</td>\n",
              "      <td>61.331815</td>\n",
              "      <td>1186560</td>\n",
              "      <td>0.0</td>\n",
              "      <td>1.0</td>\n",
              "    </tr>\n",
              "    <tr>\n",
              "      <th>1</th>\n",
              "      <td>NTRS</td>\n",
              "      <td>2016-01-07 00:00:00+00:00</td>\n",
              "      <td>67.18</td>\n",
              "      <td>68.200</td>\n",
              "      <td>66.8100</td>\n",
              "      <td>67.37</td>\n",
              "      <td>1355254</td>\n",
              "      <td>59.550098</td>\n",
              "      <td>60.454253</td>\n",
              "      <td>59.222121</td>\n",
              "      <td>59.718519</td>\n",
              "      <td>1355254</td>\n",
              "      <td>0.0</td>\n",
              "      <td>1.0</td>\n",
              "    </tr>\n",
              "    <tr>\n",
              "      <th>2</th>\n",
              "      <td>NTRS</td>\n",
              "      <td>2016-01-08 00:00:00+00:00</td>\n",
              "      <td>65.93</td>\n",
              "      <td>68.010</td>\n",
              "      <td>65.8400</td>\n",
              "      <td>68.01</td>\n",
              "      <td>1275322</td>\n",
              "      <td>58.442066</td>\n",
              "      <td>60.285832</td>\n",
              "      <td>58.362288</td>\n",
              "      <td>60.285832</td>\n",
              "      <td>1275322</td>\n",
              "      <td>0.0</td>\n",
              "      <td>1.0</td>\n",
              "    </tr>\n",
              "    <tr>\n",
              "      <th>3</th>\n",
              "      <td>NTRS</td>\n",
              "      <td>2016-01-11 00:00:00+00:00</td>\n",
              "      <td>65.89</td>\n",
              "      <td>67.595</td>\n",
              "      <td>65.1237</td>\n",
              "      <td>66.68</td>\n",
              "      <td>1148881</td>\n",
              "      <td>58.406609</td>\n",
              "      <td>59.917965</td>\n",
              "      <td>57.727341</td>\n",
              "      <td>59.106885</td>\n",
              "      <td>1148881</td>\n",
              "      <td>0.0</td>\n",
              "      <td>1.0</td>\n",
              "    </tr>\n",
              "    <tr>\n",
              "      <th>4</th>\n",
              "      <td>NTRS</td>\n",
              "      <td>2016-01-12 00:00:00+00:00</td>\n",
              "      <td>66.31</td>\n",
              "      <td>66.830</td>\n",
              "      <td>65.3300</td>\n",
              "      <td>66.77</td>\n",
              "      <td>1332653</td>\n",
              "      <td>58.778908</td>\n",
              "      <td>59.239849</td>\n",
              "      <td>57.910210</td>\n",
              "      <td>59.186664</td>\n",
              "      <td>1332653</td>\n",
              "      <td>0.0</td>\n",
              "      <td>1.0</td>\n",
              "    </tr>\n",
              "    <tr>\n",
              "      <th>...</th>\n",
              "      <td>...</td>\n",
              "      <td>...</td>\n",
              "      <td>...</td>\n",
              "      <td>...</td>\n",
              "      <td>...</td>\n",
              "      <td>...</td>\n",
              "      <td>...</td>\n",
              "      <td>...</td>\n",
              "      <td>...</td>\n",
              "      <td>...</td>\n",
              "      <td>...</td>\n",
              "      <td>...</td>\n",
              "      <td>...</td>\n",
              "      <td>...</td>\n",
              "    </tr>\n",
              "    <tr>\n",
              "      <th>1252</th>\n",
              "      <td>NTRS</td>\n",
              "      <td>2020-12-24 00:00:00+00:00</td>\n",
              "      <td>91.59</td>\n",
              "      <td>92.230</td>\n",
              "      <td>90.1800</td>\n",
              "      <td>92.23</td>\n",
              "      <td>269320</td>\n",
              "      <td>91.590000</td>\n",
              "      <td>92.230000</td>\n",
              "      <td>90.180000</td>\n",
              "      <td>92.230000</td>\n",
              "      <td>269320</td>\n",
              "      <td>0.0</td>\n",
              "      <td>1.0</td>\n",
              "    </tr>\n",
              "    <tr>\n",
              "      <th>1253</th>\n",
              "      <td>NTRS</td>\n",
              "      <td>2020-12-28 00:00:00+00:00</td>\n",
              "      <td>92.48</td>\n",
              "      <td>93.595</td>\n",
              "      <td>91.8300</td>\n",
              "      <td>92.09</td>\n",
              "      <td>626080</td>\n",
              "      <td>92.480000</td>\n",
              "      <td>93.595000</td>\n",
              "      <td>91.830000</td>\n",
              "      <td>92.090000</td>\n",
              "      <td>626080</td>\n",
              "      <td>0.0</td>\n",
              "      <td>1.0</td>\n",
              "    </tr>\n",
              "    <tr>\n",
              "      <th>1254</th>\n",
              "      <td>NTRS</td>\n",
              "      <td>2020-12-29 00:00:00+00:00</td>\n",
              "      <td>91.91</td>\n",
              "      <td>92.850</td>\n",
              "      <td>91.4356</td>\n",
              "      <td>92.84</td>\n",
              "      <td>500542</td>\n",
              "      <td>91.910000</td>\n",
              "      <td>92.850000</td>\n",
              "      <td>91.435600</td>\n",
              "      <td>92.840000</td>\n",
              "      <td>500542</td>\n",
              "      <td>0.0</td>\n",
              "      <td>1.0</td>\n",
              "    </tr>\n",
              "    <tr>\n",
              "      <th>1255</th>\n",
              "      <td>NTRS</td>\n",
              "      <td>2020-12-30 00:00:00+00:00</td>\n",
              "      <td>91.92</td>\n",
              "      <td>92.840</td>\n",
              "      <td>91.0705</td>\n",
              "      <td>91.61</td>\n",
              "      <td>385780</td>\n",
              "      <td>91.920000</td>\n",
              "      <td>92.840000</td>\n",
              "      <td>91.070500</td>\n",
              "      <td>91.610000</td>\n",
              "      <td>385780</td>\n",
              "      <td>0.0</td>\n",
              "      <td>1.0</td>\n",
              "    </tr>\n",
              "    <tr>\n",
              "      <th>1256</th>\n",
              "      <td>NTRS</td>\n",
              "      <td>2020-12-31 00:00:00+00:00</td>\n",
              "      <td>93.14</td>\n",
              "      <td>93.290</td>\n",
              "      <td>91.3900</td>\n",
              "      <td>92.16</td>\n",
              "      <td>514221</td>\n",
              "      <td>93.140000</td>\n",
              "      <td>93.290000</td>\n",
              "      <td>91.390000</td>\n",
              "      <td>92.160000</td>\n",
              "      <td>514221</td>\n",
              "      <td>0.0</td>\n",
              "      <td>1.0</td>\n",
              "    </tr>\n",
              "  </tbody>\n",
              "</table>\n",
              "<p>1257 rows × 14 columns</p>\n",
              "</div>"
            ],
            "text/plain": [
              "     symbol                       date  close  ...  adjVolume  divCash  splitFactor\n",
              "0      NTRS  2016-01-06 00:00:00+00:00  69.01  ...    1186560      0.0          1.0\n",
              "1      NTRS  2016-01-07 00:00:00+00:00  67.18  ...    1355254      0.0          1.0\n",
              "2      NTRS  2016-01-08 00:00:00+00:00  65.93  ...    1275322      0.0          1.0\n",
              "3      NTRS  2016-01-11 00:00:00+00:00  65.89  ...    1148881      0.0          1.0\n",
              "4      NTRS  2016-01-12 00:00:00+00:00  66.31  ...    1332653      0.0          1.0\n",
              "...     ...                        ...    ...  ...        ...      ...          ...\n",
              "1252   NTRS  2020-12-24 00:00:00+00:00  91.59  ...     269320      0.0          1.0\n",
              "1253   NTRS  2020-12-28 00:00:00+00:00  92.48  ...     626080      0.0          1.0\n",
              "1254   NTRS  2020-12-29 00:00:00+00:00  91.91  ...     500542      0.0          1.0\n",
              "1255   NTRS  2020-12-30 00:00:00+00:00  91.92  ...     385780      0.0          1.0\n",
              "1256   NTRS  2020-12-31 00:00:00+00:00  93.14  ...     514221      0.0          1.0\n",
              "\n",
              "[1257 rows x 14 columns]"
            ]
          },
          "metadata": {
            "tags": []
          },
          "execution_count": 12
        }
      ]
    },
    {
      "cell_type": "code",
      "metadata": {
        "id": "WRM4FdgZm0pI"
      },
      "source": [
        "x1= x.reset_index()['close']"
      ],
      "execution_count": null,
      "outputs": []
    },
    {
      "cell_type": "code",
      "metadata": {
        "colab": {
          "base_uri": "https://localhost:8080/",
          "height": 284
        },
        "id": "3EAoiQfcrZ9O",
        "outputId": "647521f5-f0a7-4593-941f-e93a318c6040"
      },
      "source": [
        "x1.shape\r\n",
        "plt.plot(x1)"
      ],
      "execution_count": null,
      "outputs": [
        {
          "output_type": "execute_result",
          "data": {
            "text/plain": [
              "[<matplotlib.lines.Line2D at 0x7f57b8753048>]"
            ]
          },
          "metadata": {
            "tags": []
          },
          "execution_count": 19
        },
        {
          "output_type": "display_data",
          "data": {
            "image/png": "[encoded data removed]",
            "text/plain": [
              "<Figure size 432x288 with 1 Axes>"
            ]
          },
          "metadata": {
            "tags": [],
            "needs_background": "light"
          }
        }
      ]
    },
    {
      "cell_type": "code",
      "metadata": {
        "id": "SQF_jfBXuxpQ"
      },
      "source": [
        "x1= scale.fit_transform(np.array(x1).reshape(-1,1))"
      ],
      "execution_count": null,
      "outputs": []
    },
    {
      "cell_type": "code",
      "metadata": {
        "colab": {
          "base_uri": "https://localhost:8080/"
        },
        "id": "apszkbIxuz7p",
        "outputId": "43ae0f8d-1eff-42e1-d953-dc79f5b39cd1"
      },
      "source": [
        "x1"
      ],
      "execution_count": null,
      "outputs": [
        {
          "output_type": "execute_result",
          "data": {
            "text/plain": [
              "array([[0.25398215],\n",
              "       [0.22194994],\n",
              "       [0.20007002],\n",
              "       ...,\n",
              "       [0.65482234],\n",
              "       [0.65499737],\n",
              "       [0.67635218]])"
            ]
          },
          "metadata": {
            "tags": []
          },
          "execution_count": 23
        }
      ]
    },
    {
      "cell_type": "code",
      "metadata": {
        "id": "n5grrPHvyT2V"
      },
      "source": [
        "##splitting dataset into train and test data as it a time series it is divided in 2 halves 65% and 35%\r\n",
        "training_size=int(len(x1)*0.65)\r\n",
        "test_size=len(x1)-training_size\r\n",
        "train,test=x1[0:training_size,:],x1[training_size:len(x1),:1]"
      ],
      "execution_count": null,
      "outputs": []
    },
    {
      "cell_type": "code",
      "metadata": {
        "colab": {
          "base_uri": "https://localhost:8080/"
        },
        "id": "JDx07CD1zJKK",
        "outputId": "6b7fef14-1274-41ae-f8f4-e694f4bd185a"
      },
      "source": [
        "len(test),len(train)"
      ],
      "execution_count": null,
      "outputs": [
        {
          "output_type": "execute_result",
          "data": {
            "text/plain": [
              "(440, 817)"
            ]
          },
          "metadata": {
            "tags": []
          },
          "execution_count": 26
        }
      ]
    },
    {
      "cell_type": "code",
      "metadata": {
        "id": "GEyEaJQZ3a6W"
      },
      "source": [
        "#Creating a time step split  for the data\r\n",
        "def time_split(data, time_step=1):\r\n",
        "\tX, Y = [], []\r\n",
        "\tfor i in range(len(data)-time_step-1):\r\n",
        "\t\ta = data[i:(i+time_step), 0] \r\n",
        "\t\tX.append(a)\r\n",
        "\t\tY.append(data[i + time_step, 0])\r\n",
        "\treturn np.array(X), np.array(Y)"
      ],
      "execution_count": null,
      "outputs": []
    },
    {
      "cell_type": "code",
      "metadata": {
        "id": "j6oWqrgk41eD"
      },
      "source": [
        "#fitting the data \r\n",
        "time_step = 100\r\n",
        "X_train, y_train = time_split(train, time_step)\r\n",
        "X_test, ytest = time_split(test, time_step)"
      ],
      "execution_count": null,
      "outputs": []
    },
    {
      "cell_type": "code",
      "metadata": {
        "colab": {
          "base_uri": "https://localhost:8080/"
        },
        "id": "GhlD2EoA701n",
        "outputId": "95406e0c-dbb8-4c00-c8f6-657333c26194"
      },
      "source": [
        "print(X_train.shape), print(y_train.shape)"
      ],
      "execution_count": null,
      "outputs": [
        {
          "output_type": "stream",
          "text": [
            "(716, 100)\n",
            "(716,)\n"
          ],
          "name": "stdout"
        },
        {
          "output_type": "execute_result",
          "data": {
            "text/plain": [
              "(None, None)"
            ]
          },
          "metadata": {
            "tags": []
          },
          "execution_count": 34
        }
      ]
    },
    {
      "cell_type": "code",
      "metadata": {
        "colab": {
          "base_uri": "https://localhost:8080/"
        },
        "id": "ys4nMFQT-RzN",
        "outputId": "69b01177-0d66-4a7b-ae7d-6c5ff679c5e6"
      },
      "source": [
        "print(X_test.shape), print(ytest.shape)"
      ],
      "execution_count": null,
      "outputs": [
        {
          "output_type": "stream",
          "text": [
            "(339, 100)\n",
            "(339,)\n"
          ],
          "name": "stdout"
        },
        {
          "output_type": "execute_result",
          "data": {
            "text/plain": [
              "(None, None)"
            ]
          },
          "metadata": {
            "tags": []
          },
          "execution_count": 35
        }
      ]
    },
    {
      "cell_type": "code",
      "metadata": {
        "id": "9Iohd13qJDhm"
      },
      "source": [
        "# reshape input to be as the LSTM requires3 dimensions [samples, time steps, features] which is required for LSTM\r\n",
        "X_train =X_train.reshape(X_train.shape[0],X_train.shape[1] , 1)\r\n",
        "X_test = X_test.reshape(X_test.shape[0],X_test.shape[1] , 1)"
      ],
      "execution_count": null,
      "outputs": []
    },
    {
      "cell_type": "code",
      "metadata": {
        "id": "-8U8gqraNUJd"
      },
      "source": [
        "### Create the Stacked LSTM model\r\n",
        "from tensorflow.keras.models import Sequential\r\n",
        "from tensorflow.keras.layers import Dense\r\n",
        "from tensorflow.keras.layers import LSTM"
      ],
      "execution_count": null,
      "outputs": []
    },
    {
      "cell_type": "code",
      "metadata": {
        "id": "T6WpyzNJSSiF"
      },
      "source": [
        "model=Sequential()\r\n",
        "model.add(LSTM(50,return_sequences=True,input_shape=(100,1)))\r\n",
        "model.add(LSTM(50,return_sequences=True))\r\n",
        "model.add(LSTM(50))\r\n",
        "model.add(Dense(1))\r\n",
        "model.compile(loss='mean_squared_error',optimizer='adam')"
      ],
      "execution_count": null,
      "outputs": []
    },
    {
      "cell_type": "code",
      "metadata": {
        "colab": {
          "base_uri": "https://localhost:8080/"
        },
        "id": "dMufuGlgSYdB",
        "outputId": "53b0a579-cf7f-427b-cb43-0fc8ec18b688"
      },
      "source": [
        "model.summary()"
      ],
      "execution_count": null,
      "outputs": [
        {
          "output_type": "stream",
          "text": [
            "Model: \"sequential\"\n",
            "_________________________________________________________________\n",
            "Layer (type)                 Output Shape              Param #   \n",
            "=================================================================\n",
            "lstm (LSTM)                  (None, 100, 50)           10400     \n",
            "_________________________________________________________________\n",
            "lstm_1 (LSTM)                (None, 100, 50)           20200     \n",
            "_________________________________________________________________\n",
            "lstm_2 (LSTM)                (None, 50)                20200     \n",
            "_________________________________________________________________\n",
            "dense (Dense)                (None, 1)                 51        \n",
            "=================================================================\n",
            "Total params: 50,851\n",
            "Trainable params: 50,851\n",
            "Non-trainable params: 0\n",
            "_________________________________________________________________\n"
          ],
          "name": "stdout"
        }
      ]
    },
    {
      "cell_type": "code",
      "metadata": {
        "colab": {
          "base_uri": "https://localhost:8080/"
        },
        "id": "NLRpsfZ1TdlA",
        "outputId": "7dc9127a-b6bb-4632-9fab-5a4110f26f9f"
      },
      "source": [
        "model.fit(X_train,y_train,validation_data=(X_test,ytest),epochs=100,batch_size=64,verbose=1)"
      ],
      "execution_count": null,
      "outputs": [
        {
          "output_type": "stream",
          "text": [
            "Epoch 1/100\n",
            "12/12 [==============================] - 8s 291ms/step - loss: 0.2762 - val_loss: 0.0158\n",
            "Epoch 2/100\n",
            "12/12 [==============================] - 2s 194ms/step - loss: 0.0172 - val_loss: 0.0232\n",
            "Epoch 3/100\n",
            "12/12 [==============================] - 2s 194ms/step - loss: 0.0099 - val_loss: 0.0141\n",
            "Epoch 4/100\n",
            "12/12 [==============================] - 2s 195ms/step - loss: 0.0072 - val_loss: 0.0128\n",
            "Epoch 5/100\n",
            "12/12 [==============================] - 2s 197ms/step - loss: 0.0053 - val_loss: 0.0135\n",
            "Epoch 6/100\n",
            "12/12 [==============================] - 2s 194ms/step - loss: 0.0045 - val_loss: 0.0121\n",
            "Epoch 7/100\n",
            "12/12 [==============================] - 2s 195ms/step - loss: 0.0043 - val_loss: 0.0119\n",
            "Epoch 8/100\n",
            "12/12 [==============================] - 2s 199ms/step - loss: 0.0040 - val_loss: 0.0119\n",
            "Epoch 9/100\n",
            "12/12 [==============================] - 2s 195ms/step - loss: 0.0043 - val_loss: 0.0119\n",
            "Epoch 10/100\n",
            "12/12 [==============================] - 2s 194ms/step - loss: 0.0039 - val_loss: 0.0116\n",
            "Epoch 11/100\n",
            "12/12 [==============================] - 2s 197ms/step - loss: 0.0038 - val_loss: 0.0111\n",
            "Epoch 12/100\n",
            "12/12 [==============================] - 2s 197ms/step - loss: 0.0035 - val_loss: 0.0108\n",
            "Epoch 13/100\n",
            "12/12 [==============================] - 2s 195ms/step - loss: 0.0037 - val_loss: 0.0105\n",
            "Epoch 14/100\n",
            "12/12 [==============================] - 2s 196ms/step - loss: 0.0039 - val_loss: 0.0107\n",
            "Epoch 15/100\n",
            "12/12 [==============================] - 2s 197ms/step - loss: 0.0041 - val_loss: 0.0102\n",
            "Epoch 16/100\n",
            "12/12 [==============================] - 2s 195ms/step - loss: 0.0039 - val_loss: 0.0097\n",
            "Epoch 17/100\n",
            "12/12 [==============================] - 2s 199ms/step - loss: 0.0034 - val_loss: 0.0097\n",
            "Epoch 18/100\n",
            "12/12 [==============================] - 2s 199ms/step - loss: 0.0033 - val_loss: 0.0093\n",
            "Epoch 19/100\n",
            "12/12 [==============================] - 2s 199ms/step - loss: 0.0031 - val_loss: 0.0102\n",
            "Epoch 20/100\n",
            "12/12 [==============================] - 2s 198ms/step - loss: 0.0034 - val_loss: 0.0088\n",
            "Epoch 21/100\n",
            "12/12 [==============================] - 2s 201ms/step - loss: 0.0032 - val_loss: 0.0083\n",
            "Epoch 22/100\n",
            "12/12 [==============================] - 2s 200ms/step - loss: 0.0028 - val_loss: 0.0081\n",
            "Epoch 23/100\n",
            "12/12 [==============================] - 2s 204ms/step - loss: 0.0028 - val_loss: 0.0078\n",
            "Epoch 24/100\n",
            "12/12 [==============================] - 3s 221ms/step - loss: 0.0025 - val_loss: 0.0074\n",
            "Epoch 25/100\n",
            "12/12 [==============================] - 3s 219ms/step - loss: 0.0027 - val_loss: 0.0071\n",
            "Epoch 26/100\n",
            "12/12 [==============================] - 3s 220ms/step - loss: 0.0025 - val_loss: 0.0070\n",
            "Epoch 27/100\n",
            "12/12 [==============================] - 3s 229ms/step - loss: 0.0022 - val_loss: 0.0066\n",
            "Epoch 28/100\n",
            "12/12 [==============================] - 3s 218ms/step - loss: 0.0022 - val_loss: 0.0063\n",
            "Epoch 29/100\n",
            "12/12 [==============================] - 3s 220ms/step - loss: 0.0022 - val_loss: 0.0061\n",
            "Epoch 30/100\n",
            "12/12 [==============================] - 3s 219ms/step - loss: 0.0021 - val_loss: 0.0058\n",
            "Epoch 31/100\n",
            "12/12 [==============================] - 3s 222ms/step - loss: 0.0020 - val_loss: 0.0057\n",
            "Epoch 32/100\n",
            "12/12 [==============================] - 2s 207ms/step - loss: 0.0019 - val_loss: 0.0057\n",
            "Epoch 33/100\n",
            "12/12 [==============================] - 2s 204ms/step - loss: 0.0019 - val_loss: 0.0052\n",
            "Epoch 34/100\n",
            "12/12 [==============================] - 2s 201ms/step - loss: 0.0019 - val_loss: 0.0050\n",
            "Epoch 35/100\n",
            "12/12 [==============================] - 2s 199ms/step - loss: 0.0019 - val_loss: 0.0054\n",
            "Epoch 36/100\n",
            "12/12 [==============================] - 2s 201ms/step - loss: 0.0021 - val_loss: 0.0048\n",
            "Epoch 37/100\n",
            "12/12 [==============================] - 2s 201ms/step - loss: 0.0020 - val_loss: 0.0048\n",
            "Epoch 38/100\n",
            "12/12 [==============================] - 2s 202ms/step - loss: 0.0017 - val_loss: 0.0046\n",
            "Epoch 39/100\n",
            "12/12 [==============================] - 2s 201ms/step - loss: 0.0018 - val_loss: 0.0045\n",
            "Epoch 40/100\n",
            "12/12 [==============================] - 2s 198ms/step - loss: 0.0018 - val_loss: 0.0043\n",
            "Epoch 41/100\n",
            "12/12 [==============================] - 2s 198ms/step - loss: 0.0016 - val_loss: 0.0042\n",
            "Epoch 42/100\n",
            "12/12 [==============================] - 2s 204ms/step - loss: 0.0017 - val_loss: 0.0048\n",
            "Epoch 43/100\n",
            "12/12 [==============================] - 2s 198ms/step - loss: 0.0017 - val_loss: 0.0041\n",
            "Epoch 44/100\n",
            "12/12 [==============================] - 2s 199ms/step - loss: 0.0016 - val_loss: 0.0039\n",
            "Epoch 45/100\n",
            "12/12 [==============================] - 2s 201ms/step - loss: 0.0014 - val_loss: 0.0040\n",
            "Epoch 46/100\n",
            "12/12 [==============================] - 2s 201ms/step - loss: 0.0014 - val_loss: 0.0037\n",
            "Epoch 47/100\n",
            "12/12 [==============================] - 2s 202ms/step - loss: 0.0015 - val_loss: 0.0042\n",
            "Epoch 48/100\n",
            "12/12 [==============================] - 2s 199ms/step - loss: 0.0017 - val_loss: 0.0037\n",
            "Epoch 49/100\n",
            "12/12 [==============================] - 2s 204ms/step - loss: 0.0021 - val_loss: 0.0046\n",
            "Epoch 50/100\n",
            "12/12 [==============================] - 2s 202ms/step - loss: 0.0021 - val_loss: 0.0043\n",
            "Epoch 51/100\n",
            "12/12 [==============================] - 2s 202ms/step - loss: 0.0017 - val_loss: 0.0042\n",
            "Epoch 52/100\n",
            "12/12 [==============================] - 2s 202ms/step - loss: 0.0015 - val_loss: 0.0038\n",
            "Epoch 53/100\n",
            "12/12 [==============================] - 2s 202ms/step - loss: 0.0014 - val_loss: 0.0039\n",
            "Epoch 54/100\n",
            "12/12 [==============================] - 2s 201ms/step - loss: 0.0015 - val_loss: 0.0043\n",
            "Epoch 55/100\n",
            "12/12 [==============================] - 2s 200ms/step - loss: 0.0016 - val_loss: 0.0035\n",
            "Epoch 56/100\n",
            "12/12 [==============================] - 2s 202ms/step - loss: 0.0014 - val_loss: 0.0036\n",
            "Epoch 57/100\n",
            "12/12 [==============================] - 2s 206ms/step - loss: 0.0012 - val_loss: 0.0034\n",
            "Epoch 58/100\n",
            "12/12 [==============================] - 2s 205ms/step - loss: 0.0013 - val_loss: 0.0033\n",
            "Epoch 59/100\n",
            "12/12 [==============================] - 2s 205ms/step - loss: 0.0014 - val_loss: 0.0033\n",
            "Epoch 60/100\n",
            "12/12 [==============================] - 2s 203ms/step - loss: 0.0013 - val_loss: 0.0035\n",
            "Epoch 61/100\n",
            "12/12 [==============================] - 2s 203ms/step - loss: 0.0014 - val_loss: 0.0033\n",
            "Epoch 62/100\n",
            "12/12 [==============================] - 2s 203ms/step - loss: 0.0012 - val_loss: 0.0031\n",
            "Epoch 63/100\n",
            "12/12 [==============================] - 2s 203ms/step - loss: 0.0012 - val_loss: 0.0031\n",
            "Epoch 64/100\n",
            "12/12 [==============================] - 2s 203ms/step - loss: 0.0013 - val_loss: 0.0032\n",
            "Epoch 65/100\n",
            "12/12 [==============================] - 2s 201ms/step - loss: 0.0013 - val_loss: 0.0030\n",
            "Epoch 66/100\n",
            "12/12 [==============================] - 2s 199ms/step - loss: 0.0012 - val_loss: 0.0030\n",
            "Epoch 67/100\n",
            "12/12 [==============================] - 2s 201ms/step - loss: 0.0013 - val_loss: 0.0029\n",
            "Epoch 68/100\n",
            "12/12 [==============================] - 2s 199ms/step - loss: 0.0011 - val_loss: 0.0029\n",
            "Epoch 69/100\n",
            "12/12 [==============================] - 2s 198ms/step - loss: 0.0011 - val_loss: 0.0029\n",
            "Epoch 70/100\n",
            "12/12 [==============================] - 2s 201ms/step - loss: 0.0011 - val_loss: 0.0029\n",
            "Epoch 71/100\n",
            "12/12 [==============================] - 2s 200ms/step - loss: 0.0012 - val_loss: 0.0029\n",
            "Epoch 72/100\n",
            "12/12 [==============================] - 2s 199ms/step - loss: 0.0010 - val_loss: 0.0028\n",
            "Epoch 73/100\n",
            "12/12 [==============================] - 2s 203ms/step - loss: 0.0010 - val_loss: 0.0027\n",
            "Epoch 74/100\n",
            "12/12 [==============================] - 2s 201ms/step - loss: 0.0012 - val_loss: 0.0030\n",
            "Epoch 75/100\n",
            "12/12 [==============================] - 2s 202ms/step - loss: 0.0012 - val_loss: 0.0028\n",
            "Epoch 76/100\n",
            "12/12 [==============================] - 2s 196ms/step - loss: 0.0011 - val_loss: 0.0027\n",
            "Epoch 77/100\n",
            "12/12 [==============================] - 2s 199ms/step - loss: 0.0010 - val_loss: 0.0027\n",
            "Epoch 78/100\n",
            "12/12 [==============================] - 2s 197ms/step - loss: 0.0011 - val_loss: 0.0027\n",
            "Epoch 79/100\n",
            "12/12 [==============================] - 2s 198ms/step - loss: 9.8601e-04 - val_loss: 0.0028\n",
            "Epoch 80/100\n",
            "12/12 [==============================] - 2s 197ms/step - loss: 0.0011 - val_loss: 0.0026\n",
            "Epoch 81/100\n",
            "12/12 [==============================] - 2s 198ms/step - loss: 0.0010 - val_loss: 0.0036\n",
            "Epoch 82/100\n",
            "12/12 [==============================] - 2s 200ms/step - loss: 0.0015 - val_loss: 0.0029\n",
            "Epoch 83/100\n",
            "12/12 [==============================] - 2s 199ms/step - loss: 0.0015 - val_loss: 0.0029\n",
            "Epoch 84/100\n",
            "12/12 [==============================] - 2s 199ms/step - loss: 0.0010 - val_loss: 0.0027\n",
            "Epoch 85/100\n",
            "12/12 [==============================] - 2s 197ms/step - loss: 0.0010 - val_loss: 0.0025\n",
            "Epoch 86/100\n",
            "12/12 [==============================] - 2s 201ms/step - loss: 9.4514e-04 - val_loss: 0.0027\n",
            "Epoch 87/100\n",
            "12/12 [==============================] - 2s 200ms/step - loss: 0.0011 - val_loss: 0.0032\n",
            "Epoch 88/100\n",
            "12/12 [==============================] - 2s 198ms/step - loss: 0.0015 - val_loss: 0.0025\n",
            "Epoch 89/100\n",
            "12/12 [==============================] - 2s 200ms/step - loss: 0.0012 - val_loss: 0.0025\n",
            "Epoch 90/100\n",
            "12/12 [==============================] - 2s 199ms/step - loss: 8.8084e-04 - val_loss: 0.0025\n",
            "Epoch 91/100\n",
            "12/12 [==============================] - 2s 198ms/step - loss: 0.0011 - val_loss: 0.0025\n",
            "Epoch 92/100\n",
            "12/12 [==============================] - 2s 198ms/step - loss: 8.7003e-04 - val_loss: 0.0024\n",
            "Epoch 93/100\n",
            "12/12 [==============================] - 2s 196ms/step - loss: 9.0994e-04 - val_loss: 0.0027\n",
            "Epoch 94/100\n",
            "12/12 [==============================] - 2s 198ms/step - loss: 9.1524e-04 - val_loss: 0.0024\n",
            "Epoch 95/100\n",
            "12/12 [==============================] - 2s 200ms/step - loss: 0.0011 - val_loss: 0.0027\n",
            "Epoch 96/100\n",
            "12/12 [==============================] - 2s 200ms/step - loss: 0.0010 - val_loss: 0.0023\n",
            "Epoch 97/100\n",
            "12/12 [==============================] - 3s 211ms/step - loss: 9.6010e-04 - val_loss: 0.0023\n",
            "Epoch 98/100\n",
            "12/12 [==============================] - 2s 199ms/step - loss: 8.3659e-04 - val_loss: 0.0024\n",
            "Epoch 99/100\n",
            "12/12 [==============================] - 2s 201ms/step - loss: 9.3888e-04 - val_loss: 0.0023\n",
            "Epoch 100/100\n",
            "12/12 [==============================] - 2s 200ms/step - loss: 9.1164e-04 - val_loss: 0.0024\n"
          ],
          "name": "stdout"
        },
        {
          "output_type": "execute_result",
          "data": {
            "text/plain": [
              "<tensorflow.python.keras.callbacks.History at 0x7f577370a748>"
            ]
          },
          "metadata": {
            "tags": []
          },
          "execution_count": 40
        }
      ]
    },
    {
      "cell_type": "code",
      "metadata": {
        "id": "DRcFPqgg67-9"
      },
      "source": [
        "import tensorflow as tf"
      ],
      "execution_count": 41,
      "outputs": []
    },
    {
      "cell_type": "code",
      "metadata": {
        "id": "-8JN2jbzfm44",
        "colab": {
          "base_uri": "https://localhost:8080/",
          "height": 36
        },
        "outputId": "d886d830-d9be-43b4-f4c3-12e29e929322"
      },
      "source": [
        "tf.__version__"
      ],
      "execution_count": 42,
      "outputs": [
        {
          "output_type": "execute_result",
          "data": {
            "application/vnd.google.colaboratory.intrinsic+json": {
              "type": "string"
            },
            "text/plain": [
              "'2.4.0'"
            ]
          },
          "metadata": {
            "tags": []
          },
          "execution_count": 42
        }
      ]
    },
    {
      "cell_type": "code",
      "metadata": {
        "id": "9-rALEwK7ZYT"
      },
      "source": [
        "train_predict=model.predict(X_train)\r\n",
        "test_predict=model.predict(X_test)"
      ],
      "execution_count": 47,
      "outputs": []
    },
    {
      "cell_type": "code",
      "metadata": {
        "id": "N9PHnwHq8Qho"
      },
      "source": [
        "#getting back the original values\r\n",
        "train_predict=scale.inverse_transform(train_predict)\r\n",
        "test_predict=scale.inverse_transform(test_predict)"
      ],
      "execution_count": 48,
      "outputs": []
    },
    {
      "cell_type": "code",
      "metadata": {
        "colab": {
          "base_uri": "https://localhost:8080/"
        },
        "id": "Eh6NSzSQ8hiv",
        "outputId": "d4d3c4cf-6b41-4d44-a308-a398c5441fc9"
      },
      "source": [
        "#Calculating the performance matrix\r\n",
        "import math\r\n",
        "from sklearn.metrics import mean_squared_error\r\n",
        "math.sqrt(mean_squared_error(y_train,train_predict))"
      ],
      "execution_count": 49,
      "outputs": [
        {
          "output_type": "execute_result",
          "data": {
            "text/plain": [
              "0.031564609959846654"
            ]
          },
          "metadata": {
            "tags": []
          },
          "execution_count": 49
        }
      ]
    },
    {
      "cell_type": "code",
      "metadata": {
        "colab": {
          "base_uri": "https://localhost:8080/"
        },
        "id": "xHm7xyp89Rtp",
        "outputId": "d156dd69-0455-41c7-fc79-5ca82da01970"
      },
      "source": [
        "math.sqrt(mean_squared_error(ytest,test_predict))"
      ],
      "execution_count": 51,
      "outputs": [
        {
          "output_type": "execute_result",
          "data": {
            "text/plain": [
              "0.049436629239366675"
            ]
          },
          "metadata": {
            "tags": []
          },
          "execution_count": 51
        }
      ]
    },
    {
      "cell_type": "code",
      "metadata": {
        "colab": {
          "base_uri": "https://localhost:8080/",
          "height": 265
        },
        "id": "A2XB9nssCpKx",
        "outputId": "d7e82ecc-8946-424b-9be2-89f1b45f79d7"
      },
      "source": [
        "### Plotting \r\n",
        "# shift train predictions for plotting\r\n",
        "look_back=100\r\n",
        "trainPredictPlot = np.empty_like(x1)\r\n",
        "trainPredictPlot[:, :] = np.nan\r\n",
        "trainPredictPlot[look_back:len(train_predict)+look_back, :] = train_predict\r\n",
        "# shift test predictions for plotting\r\n",
        "testPredictPlot = np.empty_like(x1)\r\n",
        "testPredictPlot[:, :] = np.nan\r\n",
        "testPredictPlot[len(train_predict)+(look_back*2)+1:len(x1)-1, :] = test_predict\r\n",
        "# plot baseline and predictions\r\n",
        "plt.plot(scale.inverse_transform(x1))\r\n",
        "plt.plot(trainPredictPlot)\r\n",
        "plt.plot(testPredictPlot)\r\n",
        "plt.show()"
      ],
      "execution_count": 54,
      "outputs": [
        {
          "output_type": "display_data",
          "data": {
            "image/png": "[encoded data removed]",
            "text/plain": [
              "<Figure size 432x288 with 1 Axes>"
            ]
          },
          "metadata": {
            "tags": [],
            "needs_background": "light"
          }
        }
      ]
    },
    {
      "cell_type": "code",
      "metadata": {
        "colab": {
          "base_uri": "https://localhost:8080/"
        },
        "id": "gLzZyg2FFbhB",
        "outputId": "4108e775-ca16-46f0-fe46-f179fca29fd4"
      },
      "source": [
        "len(test),len(train)"
      ],
      "execution_count": 55,
      "outputs": [
        {
          "output_type": "execute_result",
          "data": {
            "text/plain": [
              "(440, 817)"
            ]
          },
          "metadata": {
            "tags": []
          },
          "execution_count": 55
        }
      ]
    },
    {
      "cell_type": "code",
      "metadata": {
        "colab": {
          "base_uri": "https://localhost:8080/"
        },
        "id": "WWQpFsG9GeXo",
        "outputId": "03e77bea-185b-4d26-9e5a-769b7aa31422"
      },
      "source": [
        "#as input for the next 30 days\r\n",
        "input=test[340:].reshape(1,-1)\r\n",
        "input.shape"
      ],
      "execution_count": 56,
      "outputs": [
        {
          "output_type": "execute_result",
          "data": {
            "text/plain": [
              "(1, 100)"
            ]
          },
          "metadata": {
            "tags": []
          },
          "execution_count": 56
        }
      ]
    },
    {
      "cell_type": "code",
      "metadata": {
        "colab": {
          "base_uri": "https://localhost:8080/"
        },
        "id": "ierYuth1Gzqj",
        "outputId": "6de64160-c5b8-4347-b260-701d767b468a"
      },
      "source": [
        "#conversion to a list\r\n",
        "temp=list(input)\r\n",
        "temp=temp[0].tolist()\r\n",
        "temp"
      ],
      "execution_count": 58,
      "outputs": [
        {
          "output_type": "execute_result",
          "data": {
            "text/plain": [
              "[0.5210922457552949,\n",
              " 0.5175914580780676,\n",
              " 0.49273586556975335,\n",
              " 0.5062138981270787,\n",
              " 0.49151058988272367,\n",
              " 0.4852091720637144,\n",
              " 0.4988622440049013,\n",
              " 0.47138106073866637,\n",
              " 0.4766322422545075,\n",
              " 0.5209172063714338,\n",
              " 0.5163661823910382,\n",
              " 0.49431122002450545,\n",
              " 0.5212672851391564,\n",
              " 0.5147908279362856,\n",
              " 0.4794328723962893,\n",
              " 0.48275862068965525,\n",
              " 0.5149658673201472,\n",
              " 0.5104148433397515,\n",
              " 0.5242429546647998,\n",
              " 0.474531769648171,\n",
              " 0.4654297216873797,\n",
              " 0.42272011202520576,\n",
              " 0.4437248380885699,\n",
              " 0.455102398039559,\n",
              " 0.42464554524768094,\n",
              " 0.5027131104498512,\n",
              " 0.49711185016628767,\n",
              " 0.4768072816383686,\n",
              " 0.43759845965342214,\n",
              " 0.40766672501312806,\n",
              " 0.37615963591808166,\n",
              " 0.3626816033607563,\n",
              " 0.3843864869595659,\n",
              " 0.42201995448976026,\n",
              " 0.40189042534570274,\n",
              " 0.4108174339226327,\n",
              " 0.39471381060738664,\n",
              " 0.41851916681253276,\n",
              " 0.4608786977069841,\n",
              " 0.4496761771398565,\n",
              " 0.48555925083143703,\n",
              " 0.5207421669875723,\n",
              " 0.5377209872221251,\n",
              " 0.5568002800630143,\n",
              " 0.5151409067040087,\n",
              " 0.5231927183616314,\n",
              " 0.5692280763171713,\n",
              " 0.5755294941361806,\n",
              " 0.5410467355154911,\n",
              " 0.5471731139506391,\n",
              " 0.5473481533345004,\n",
              " 0.5471731139506391,\n",
              " 0.5235427971293543,\n",
              " 0.48538421144757593,\n",
              " 0.4586031857167865,\n",
              " 0.4078417643969894,\n",
              " 0.4164186942061967,\n",
              " 0.4160686154384736,\n",
              " 0.42972168737966054,\n",
              " 0.4908104323472784,\n",
              " 0.42692105723787854,\n",
              " 0.47400665149658683,\n",
              " 0.47540696656747783,\n",
              " 0.6353929634167688,\n",
              " 0.6537720987222124,\n",
              " 0.6075617013828112,\n",
              " 0.5788552424295466,\n",
              " 0.6353929634167688,\n",
              " 0.6763521792403293,\n",
              " 0.6877297391913182,\n",
              " 0.6684754069665675,\n",
              " 0.6802030456852792,\n",
              " 0.6457202870645897,\n",
              " 0.6837038333625067,\n",
              " 0.7545947838263611,\n",
              " 0.741816908804481,\n",
              " 0.7288639943987398,\n",
              " 0.6760021004726064,\n",
              " 0.6786276912305269,\n",
              " 0.6896551724137934,\n",
              " 0.6737265884824086,\n",
              " 0.7055837563451779,\n",
              " 0.6987572203745844,\n",
              " 0.702433047435673,\n",
              " 0.6777524943112201,\n",
              " 0.6514965867320148,\n",
              " 0.6231402065464731,\n",
              " 0.5965342201995449,\n",
              " 0.6341676877297393,\n",
              " 0.6352179240329077,\n",
              " 0.6581480833187467,\n",
              " 0.6546472956415195,\n",
              " 0.6397689480133031,\n",
              " 0.6318921757395415,\n",
              " 0.6562226500962718,\n",
              " 0.649221074741817,\n",
              " 0.6647995799054789,\n",
              " 0.6548223350253808,\n",
              " 0.6549973744092423,\n",
              " 0.6763521792403293]"
            ]
          },
          "metadata": {
            "tags": []
          },
          "execution_count": 58
        }
      ]
    },
    {
      "cell_type": "code",
      "metadata": {
        "colab": {
          "base_uri": "https://localhost:8080/"
        },
        "id": "jq5816FeIc1I",
        "outputId": "978afb0f-7868-46f9-a74c-40f3adb76872"
      },
      "source": [
        "# prediction for next 30 days\r\n",
        "from numpy import array\r\n",
        "\r\n",
        "output1=[]\r\n",
        "n_steps=100\r\n",
        "i=0\r\n",
        "while(i<30):\r\n",
        "    \r\n",
        "    if(len(temp)>100):\r\n",
        "        #print(temp)\r\n",
        "        input=np.array(temp[1:])\r\n",
        "        print(\"{} day input {}\".format(i,input))\r\n",
        "        input=input.reshape(1,-1)\r\n",
        "        input = input.reshape((1, n_steps, 1))\r\n",
        "        #print(input)\r\n",
        "        yhat = model.predict(input, verbose=0)\r\n",
        "        print(\"{} day output {}\".format(i,yhat))\r\n",
        "        temp.extend(yhat[0].tolist())\r\n",
        "        temp=temp[1:]\r\n",
        "        #print(temp)\r\n",
        "        output1.extend(yhat.tolist())\r\n",
        "        i=i+1\r\n",
        "    else:\r\n",
        "        input = input.reshape((1, n_steps,1))\r\n",
        "        yhat = model.predict(input, verbose=0)\r\n",
        "        print(yhat[0])\r\n",
        "        temp.extend(yhat[0].tolist())\r\n",
        "        print(len(input))\r\n",
        "        output1.extend(yhat.tolist())\r\n",
        "        i=i+1\r\n",
        "        print(output1)"
      ],
      "execution_count": 60,
      "outputs": [
        {
          "output_type": "stream",
          "text": [
            "[0.68249947]\n",
            "1\n",
            "[[0.6824994683265686]]\n",
            "1 day input [0.51759146 0.49273587 0.5062139  0.49151059 0.48520917 0.49886224\n",
            " 0.47138106 0.47663224 0.52091721 0.51636618 0.49431122 0.52126729\n",
            " 0.51479083 0.47943287 0.48275862 0.51496587 0.51041484 0.52424295\n",
            " 0.47453177 0.46542972 0.42272011 0.44372484 0.4551024  0.42464555\n",
            " 0.50271311 0.49711185 0.47680728 0.43759846 0.40766673 0.37615964\n",
            " 0.3626816  0.38438649 0.42201995 0.40189043 0.41081743 0.39471381\n",
            " 0.41851917 0.4608787  0.44967618 0.48555925 0.52074217 0.53772099\n",
            " 0.55680028 0.51514091 0.52319272 0.56922808 0.57552949 0.54104674\n",
            " 0.54717311 0.54734815 0.54717311 0.5235428  0.48538421 0.45860319\n",
            " 0.40784176 0.41641869 0.41606862 0.42972169 0.49081043 0.42692106\n",
            " 0.47400665 0.47540697 0.63539296 0.6537721  0.6075617  0.57885524\n",
            " 0.63539296 0.67635218 0.68772974 0.66847541 0.68020305 0.64572029\n",
            " 0.68370383 0.75459478 0.74181691 0.72886399 0.6760021  0.67862769\n",
            " 0.68965517 0.67372659 0.70558376 0.69875722 0.70243305 0.67775249\n",
            " 0.65149659 0.62314021 0.59653422 0.63416769 0.63521792 0.65814808\n",
            " 0.6546473  0.63976895 0.63189218 0.65622265 0.64922107 0.66479958\n",
            " 0.65482234 0.65499737 0.67635218 0.68249947]\n",
            "1 day output [[0.6915452]]\n",
            "2 day input [0.49273587 0.5062139  0.49151059 0.48520917 0.49886224 0.47138106\n",
            " 0.47663224 0.52091721 0.51636618 0.49431122 0.52126729 0.51479083\n",
            " 0.47943287 0.48275862 0.51496587 0.51041484 0.52424295 0.47453177\n",
            " 0.46542972 0.42272011 0.44372484 0.4551024  0.42464555 0.50271311\n",
            " 0.49711185 0.47680728 0.43759846 0.40766673 0.37615964 0.3626816\n",
            " 0.38438649 0.42201995 0.40189043 0.41081743 0.39471381 0.41851917\n",
            " 0.4608787  0.44967618 0.48555925 0.52074217 0.53772099 0.55680028\n",
            " 0.51514091 0.52319272 0.56922808 0.57552949 0.54104674 0.54717311\n",
            " 0.54734815 0.54717311 0.5235428  0.48538421 0.45860319 0.40784176\n",
            " 0.41641869 0.41606862 0.42972169 0.49081043 0.42692106 0.47400665\n",
            " 0.47540697 0.63539296 0.6537721  0.6075617  0.57885524 0.63539296\n",
            " 0.67635218 0.68772974 0.66847541 0.68020305 0.64572029 0.68370383\n",
            " 0.75459478 0.74181691 0.72886399 0.6760021  0.67862769 0.68965517\n",
            " 0.67372659 0.70558376 0.69875722 0.70243305 0.67775249 0.65149659\n",
            " 0.62314021 0.59653422 0.63416769 0.63521792 0.65814808 0.6546473\n",
            " 0.63976895 0.63189218 0.65622265 0.64922107 0.66479958 0.65482234\n",
            " 0.65499737 0.67635218 0.68249947 0.69154519]\n",
            "2 day output [[0.7015185]]\n",
            "3 day input [0.5062139  0.49151059 0.48520917 0.49886224 0.47138106 0.47663224\n",
            " 0.52091721 0.51636618 0.49431122 0.52126729 0.51479083 0.47943287\n",
            " 0.48275862 0.51496587 0.51041484 0.52424295 0.47453177 0.46542972\n",
            " 0.42272011 0.44372484 0.4551024  0.42464555 0.50271311 0.49711185\n",
            " 0.47680728 0.43759846 0.40766673 0.37615964 0.3626816  0.38438649\n",
            " 0.42201995 0.40189043 0.41081743 0.39471381 0.41851917 0.4608787\n",
            " 0.44967618 0.48555925 0.52074217 0.53772099 0.55680028 0.51514091\n",
            " 0.52319272 0.56922808 0.57552949 0.54104674 0.54717311 0.54734815\n",
            " 0.54717311 0.5235428  0.48538421 0.45860319 0.40784176 0.41641869\n",
            " 0.41606862 0.42972169 0.49081043 0.42692106 0.47400665 0.47540697\n",
            " 0.63539296 0.6537721  0.6075617  0.57885524 0.63539296 0.67635218\n",
            " 0.68772974 0.66847541 0.68020305 0.64572029 0.68370383 0.75459478\n",
            " 0.74181691 0.72886399 0.6760021  0.67862769 0.68965517 0.67372659\n",
            " 0.70558376 0.69875722 0.70243305 0.67775249 0.65149659 0.62314021\n",
            " 0.59653422 0.63416769 0.63521792 0.65814808 0.6546473  0.63976895\n",
            " 0.63189218 0.65622265 0.64922107 0.66479958 0.65482234 0.65499737\n",
            " 0.67635218 0.68249947 0.69154519 0.70151848]\n",
            "3 day output [[0.71175826]]\n",
            "4 day input [0.49151059 0.48520917 0.49886224 0.47138106 0.47663224 0.52091721\n",
            " 0.51636618 0.49431122 0.52126729 0.51479083 0.47943287 0.48275862\n",
            " 0.51496587 0.51041484 0.52424295 0.47453177 0.46542972 0.42272011\n",
            " 0.44372484 0.4551024  0.42464555 0.50271311 0.49711185 0.47680728\n",
            " 0.43759846 0.40766673 0.37615964 0.3626816  0.38438649 0.42201995\n",
            " 0.40189043 0.41081743 0.39471381 0.41851917 0.4608787  0.44967618\n",
            " 0.48555925 0.52074217 0.53772099 0.55680028 0.51514091 0.52319272\n",
            " 0.56922808 0.57552949 0.54104674 0.54717311 0.54734815 0.54717311\n",
            " 0.5235428  0.48538421 0.45860319 0.40784176 0.41641869 0.41606862\n",
            " 0.42972169 0.49081043 0.42692106 0.47400665 0.47540697 0.63539296\n",
            " 0.6537721  0.6075617  0.57885524 0.63539296 0.67635218 0.68772974\n",
            " 0.66847541 0.68020305 0.64572029 0.68370383 0.75459478 0.74181691\n",
            " 0.72886399 0.6760021  0.67862769 0.68965517 0.67372659 0.70558376\n",
            " 0.69875722 0.70243305 0.67775249 0.65149659 0.62314021 0.59653422\n",
            " 0.63416769 0.63521792 0.65814808 0.6546473  0.63976895 0.63189218\n",
            " 0.65622265 0.64922107 0.66479958 0.65482234 0.65499737 0.67635218\n",
            " 0.68249947 0.69154519 0.70151848 0.71175826]\n",
            "4 day output [[0.7220301]]\n",
            "5 day input [0.48520917 0.49886224 0.47138106 0.47663224 0.52091721 0.51636618\n",
            " 0.49431122 0.52126729 0.51479083 0.47943287 0.48275862 0.51496587\n",
            " 0.51041484 0.52424295 0.47453177 0.46542972 0.42272011 0.44372484\n",
            " 0.4551024  0.42464555 0.50271311 0.49711185 0.47680728 0.43759846\n",
            " 0.40766673 0.37615964 0.3626816  0.38438649 0.42201995 0.40189043\n",
            " 0.41081743 0.39471381 0.41851917 0.4608787  0.44967618 0.48555925\n",
            " 0.52074217 0.53772099 0.55680028 0.51514091 0.52319272 0.56922808\n",
            " 0.57552949 0.54104674 0.54717311 0.54734815 0.54717311 0.5235428\n",
            " 0.48538421 0.45860319 0.40784176 0.41641869 0.41606862 0.42972169\n",
            " 0.49081043 0.42692106 0.47400665 0.47540697 0.63539296 0.6537721\n",
            " 0.6075617  0.57885524 0.63539296 0.67635218 0.68772974 0.66847541\n",
            " 0.68020305 0.64572029 0.68370383 0.75459478 0.74181691 0.72886399\n",
            " 0.6760021  0.67862769 0.68965517 0.67372659 0.70558376 0.69875722\n",
            " 0.70243305 0.67775249 0.65149659 0.62314021 0.59653422 0.63416769\n",
            " 0.63521792 0.65814808 0.6546473  0.63976895 0.63189218 0.65622265\n",
            " 0.64922107 0.66479958 0.65482234 0.65499737 0.67635218 0.68249947\n",
            " 0.69154519 0.70151848 0.71175826 0.7220301 ]\n",
            "5 day output [[0.73219305]]\n",
            "6 day input [0.49886224 0.47138106 0.47663224 0.52091721 0.51636618 0.49431122\n",
            " 0.52126729 0.51479083 0.47943287 0.48275862 0.51496587 0.51041484\n",
            " 0.52424295 0.47453177 0.46542972 0.42272011 0.44372484 0.4551024\n",
            " 0.42464555 0.50271311 0.49711185 0.47680728 0.43759846 0.40766673\n",
            " 0.37615964 0.3626816  0.38438649 0.42201995 0.40189043 0.41081743\n",
            " 0.39471381 0.41851917 0.4608787  0.44967618 0.48555925 0.52074217\n",
            " 0.53772099 0.55680028 0.51514091 0.52319272 0.56922808 0.57552949\n",
            " 0.54104674 0.54717311 0.54734815 0.54717311 0.5235428  0.48538421\n",
            " 0.45860319 0.40784176 0.41641869 0.41606862 0.42972169 0.49081043\n",
            " 0.42692106 0.47400665 0.47540697 0.63539296 0.6537721  0.6075617\n",
            " 0.57885524 0.63539296 0.67635218 0.68772974 0.66847541 0.68020305\n",
            " 0.64572029 0.68370383 0.75459478 0.74181691 0.72886399 0.6760021\n",
            " 0.67862769 0.68965517 0.67372659 0.70558376 0.69875722 0.70243305\n",
            " 0.67775249 0.65149659 0.62314021 0.59653422 0.63416769 0.63521792\n",
            " 0.65814808 0.6546473  0.63976895 0.63189218 0.65622265 0.64922107\n",
            " 0.66479958 0.65482234 0.65499737 0.67635218 0.68249947 0.69154519\n",
            " 0.70151848 0.71175826 0.7220301  0.73219305]\n",
            "6 day output [[0.7421315]]\n",
            "7 day input [0.47138106 0.47663224 0.52091721 0.51636618 0.49431122 0.52126729\n",
            " 0.51479083 0.47943287 0.48275862 0.51496587 0.51041484 0.52424295\n",
            " 0.47453177 0.46542972 0.42272011 0.44372484 0.4551024  0.42464555\n",
            " 0.50271311 0.49711185 0.47680728 0.43759846 0.40766673 0.37615964\n",
            " 0.3626816  0.38438649 0.42201995 0.40189043 0.41081743 0.39471381\n",
            " 0.41851917 0.4608787  0.44967618 0.48555925 0.52074217 0.53772099\n",
            " 0.55680028 0.51514091 0.52319272 0.56922808 0.57552949 0.54104674\n",
            " 0.54717311 0.54734815 0.54717311 0.5235428  0.48538421 0.45860319\n",
            " 0.40784176 0.41641869 0.41606862 0.42972169 0.49081043 0.42692106\n",
            " 0.47400665 0.47540697 0.63539296 0.6537721  0.6075617  0.57885524\n",
            " 0.63539296 0.67635218 0.68772974 0.66847541 0.68020305 0.64572029\n",
            " 0.68370383 0.75459478 0.74181691 0.72886399 0.6760021  0.67862769\n",
            " 0.68965517 0.67372659 0.70558376 0.69875722 0.70243305 0.67775249\n",
            " 0.65149659 0.62314021 0.59653422 0.63416769 0.63521792 0.65814808\n",
            " 0.6546473  0.63976895 0.63189218 0.65622265 0.64922107 0.66479958\n",
            " 0.65482234 0.65499737 0.67635218 0.68249947 0.69154519 0.70151848\n",
            " 0.71175826 0.7220301  0.73219305 0.74213147]\n",
            "7 day output [[0.75175244]]\n",
            "8 day input [0.47663224 0.52091721 0.51636618 0.49431122 0.52126729 0.51479083\n",
            " 0.47943287 0.48275862 0.51496587 0.51041484 0.52424295 0.47453177\n",
            " 0.46542972 0.42272011 0.44372484 0.4551024  0.42464555 0.50271311\n",
            " 0.49711185 0.47680728 0.43759846 0.40766673 0.37615964 0.3626816\n",
            " 0.38438649 0.42201995 0.40189043 0.41081743 0.39471381 0.41851917\n",
            " 0.4608787  0.44967618 0.48555925 0.52074217 0.53772099 0.55680028\n",
            " 0.51514091 0.52319272 0.56922808 0.57552949 0.54104674 0.54717311\n",
            " 0.54734815 0.54717311 0.5235428  0.48538421 0.45860319 0.40784176\n",
            " 0.41641869 0.41606862 0.42972169 0.49081043 0.42692106 0.47400665\n",
            " 0.47540697 0.63539296 0.6537721  0.6075617  0.57885524 0.63539296\n",
            " 0.67635218 0.68772974 0.66847541 0.68020305 0.64572029 0.68370383\n",
            " 0.75459478 0.74181691 0.72886399 0.6760021  0.67862769 0.68965517\n",
            " 0.67372659 0.70558376 0.69875722 0.70243305 0.67775249 0.65149659\n",
            " 0.62314021 0.59653422 0.63416769 0.63521792 0.65814808 0.6546473\n",
            " 0.63976895 0.63189218 0.65622265 0.64922107 0.66479958 0.65482234\n",
            " 0.65499737 0.67635218 0.68249947 0.69154519 0.70151848 0.71175826\n",
            " 0.7220301  0.73219305 0.74213147 0.75175244]\n",
            "8 day output [[0.76098776]]\n",
            "9 day input [0.52091721 0.51636618 0.49431122 0.52126729 0.51479083 0.47943287\n",
            " 0.48275862 0.51496587 0.51041484 0.52424295 0.47453177 0.46542972\n",
            " 0.42272011 0.44372484 0.4551024  0.42464555 0.50271311 0.49711185\n",
            " 0.47680728 0.43759846 0.40766673 0.37615964 0.3626816  0.38438649\n",
            " 0.42201995 0.40189043 0.41081743 0.39471381 0.41851917 0.4608787\n",
            " 0.44967618 0.48555925 0.52074217 0.53772099 0.55680028 0.51514091\n",
            " 0.52319272 0.56922808 0.57552949 0.54104674 0.54717311 0.54734815\n",
            " 0.54717311 0.5235428  0.48538421 0.45860319 0.40784176 0.41641869\n",
            " 0.41606862 0.42972169 0.49081043 0.42692106 0.47400665 0.47540697\n",
            " 0.63539296 0.6537721  0.6075617  0.57885524 0.63539296 0.67635218\n",
            " 0.68772974 0.66847541 0.68020305 0.64572029 0.68370383 0.75459478\n",
            " 0.74181691 0.72886399 0.6760021  0.67862769 0.68965517 0.67372659\n",
            " 0.70558376 0.69875722 0.70243305 0.67775249 0.65149659 0.62314021\n",
            " 0.59653422 0.63416769 0.63521792 0.65814808 0.6546473  0.63976895\n",
            " 0.63189218 0.65622265 0.64922107 0.66479958 0.65482234 0.65499737\n",
            " 0.67635218 0.68249947 0.69154519 0.70151848 0.71175826 0.7220301\n",
            " 0.73219305 0.74213147 0.75175244 0.76098776]\n",
            "9 day output [[0.7697952]]\n",
            "10 day input [0.51636618 0.49431122 0.52126729 0.51479083 0.47943287 0.48275862\n",
            " 0.51496587 0.51041484 0.52424295 0.47453177 0.46542972 0.42272011\n",
            " 0.44372484 0.4551024  0.42464555 0.50271311 0.49711185 0.47680728\n",
            " 0.43759846 0.40766673 0.37615964 0.3626816  0.38438649 0.42201995\n",
            " 0.40189043 0.41081743 0.39471381 0.41851917 0.4608787  0.44967618\n",
            " 0.48555925 0.52074217 0.53772099 0.55680028 0.51514091 0.52319272\n",
            " 0.56922808 0.57552949 0.54104674 0.54717311 0.54734815 0.54717311\n",
            " 0.5235428  0.48538421 0.45860319 0.40784176 0.41641869 0.41606862\n",
            " 0.42972169 0.49081043 0.42692106 0.47400665 0.47540697 0.63539296\n",
            " 0.6537721  0.6075617  0.57885524 0.63539296 0.67635218 0.68772974\n",
            " 0.66847541 0.68020305 0.64572029 0.68370383 0.75459478 0.74181691\n",
            " 0.72886399 0.6760021  0.67862769 0.68965517 0.67372659 0.70558376\n",
            " 0.69875722 0.70243305 0.67775249 0.65149659 0.62314021 0.59653422\n",
            " 0.63416769 0.63521792 0.65814808 0.6546473  0.63976895 0.63189218\n",
            " 0.65622265 0.64922107 0.66479958 0.65482234 0.65499737 0.67635218\n",
            " 0.68249947 0.69154519 0.70151848 0.71175826 0.7220301  0.73219305\n",
            " 0.74213147 0.75175244 0.76098776 0.76979518]\n",
            "10 day output [[0.77815574]]\n",
            "11 day input [0.49431122 0.52126729 0.51479083 0.47943287 0.48275862 0.51496587\n",
            " 0.51041484 0.52424295 0.47453177 0.46542972 0.42272011 0.44372484\n",
            " 0.4551024  0.42464555 0.50271311 0.49711185 0.47680728 0.43759846\n",
            " 0.40766673 0.37615964 0.3626816  0.38438649 0.42201995 0.40189043\n",
            " 0.41081743 0.39471381 0.41851917 0.4608787  0.44967618 0.48555925\n",
            " 0.52074217 0.53772099 0.55680028 0.51514091 0.52319272 0.56922808\n",
            " 0.57552949 0.54104674 0.54717311 0.54734815 0.54717311 0.5235428\n",
            " 0.48538421 0.45860319 0.40784176 0.41641869 0.41606862 0.42972169\n",
            " 0.49081043 0.42692106 0.47400665 0.47540697 0.63539296 0.6537721\n",
            " 0.6075617  0.57885524 0.63539296 0.67635218 0.68772974 0.66847541\n",
            " 0.68020305 0.64572029 0.68370383 0.75459478 0.74181691 0.72886399\n",
            " 0.6760021  0.67862769 0.68965517 0.67372659 0.70558376 0.69875722\n",
            " 0.70243305 0.67775249 0.65149659 0.62314021 0.59653422 0.63416769\n",
            " 0.63521792 0.65814808 0.6546473  0.63976895 0.63189218 0.65622265\n",
            " 0.64922107 0.66479958 0.65482234 0.65499737 0.67635218 0.68249947\n",
            " 0.69154519 0.70151848 0.71175826 0.7220301  0.73219305 0.74213147\n",
            " 0.75175244 0.76098776 0.76979518 0.77815574]\n",
            "11 day output [[0.78607225]]\n",
            "12 day input [0.52126729 0.51479083 0.47943287 0.48275862 0.51496587 0.51041484\n",
            " 0.52424295 0.47453177 0.46542972 0.42272011 0.44372484 0.4551024\n",
            " 0.42464555 0.50271311 0.49711185 0.47680728 0.43759846 0.40766673\n",
            " 0.37615964 0.3626816  0.38438649 0.42201995 0.40189043 0.41081743\n",
            " 0.39471381 0.41851917 0.4608787  0.44967618 0.48555925 0.52074217\n",
            " 0.53772099 0.55680028 0.51514091 0.52319272 0.56922808 0.57552949\n",
            " 0.54104674 0.54717311 0.54734815 0.54717311 0.5235428  0.48538421\n",
            " 0.45860319 0.40784176 0.41641869 0.41606862 0.42972169 0.49081043\n",
            " 0.42692106 0.47400665 0.47540697 0.63539296 0.6537721  0.6075617\n",
            " 0.57885524 0.63539296 0.67635218 0.68772974 0.66847541 0.68020305\n",
            " 0.64572029 0.68370383 0.75459478 0.74181691 0.72886399 0.6760021\n",
            " 0.67862769 0.68965517 0.67372659 0.70558376 0.69875722 0.70243305\n",
            " 0.67775249 0.65149659 0.62314021 0.59653422 0.63416769 0.63521792\n",
            " 0.65814808 0.6546473  0.63976895 0.63189218 0.65622265 0.64922107\n",
            " 0.66479958 0.65482234 0.65499737 0.67635218 0.68249947 0.69154519\n",
            " 0.70151848 0.71175826 0.7220301  0.73219305 0.74213147 0.75175244\n",
            " 0.76098776 0.76979518 0.77815574 0.78607225]\n",
            "12 day output [[0.79356515]]\n",
            "13 day input [0.51479083 0.47943287 0.48275862 0.51496587 0.51041484 0.52424295\n",
            " 0.47453177 0.46542972 0.42272011 0.44372484 0.4551024  0.42464555\n",
            " 0.50271311 0.49711185 0.47680728 0.43759846 0.40766673 0.37615964\n",
            " 0.3626816  0.38438649 0.42201995 0.40189043 0.41081743 0.39471381\n",
            " 0.41851917 0.4608787  0.44967618 0.48555925 0.52074217 0.53772099\n",
            " 0.55680028 0.51514091 0.52319272 0.56922808 0.57552949 0.54104674\n",
            " 0.54717311 0.54734815 0.54717311 0.5235428  0.48538421 0.45860319\n",
            " 0.40784176 0.41641869 0.41606862 0.42972169 0.49081043 0.42692106\n",
            " 0.47400665 0.47540697 0.63539296 0.6537721  0.6075617  0.57885524\n",
            " 0.63539296 0.67635218 0.68772974 0.66847541 0.68020305 0.64572029\n",
            " 0.68370383 0.75459478 0.74181691 0.72886399 0.6760021  0.67862769\n",
            " 0.68965517 0.67372659 0.70558376 0.69875722 0.70243305 0.67775249\n",
            " 0.65149659 0.62314021 0.59653422 0.63416769 0.63521792 0.65814808\n",
            " 0.6546473  0.63976895 0.63189218 0.65622265 0.64922107 0.66479958\n",
            " 0.65482234 0.65499737 0.67635218 0.68249947 0.69154519 0.70151848\n",
            " 0.71175826 0.7220301  0.73219305 0.74213147 0.75175244 0.76098776\n",
            " 0.76979518 0.77815574 0.78607225 0.79356515]\n",
            "13 day output [[0.80066913]]\n",
            "14 day input [0.47943287 0.48275862 0.51496587 0.51041484 0.52424295 0.47453177\n",
            " 0.46542972 0.42272011 0.44372484 0.4551024  0.42464555 0.50271311\n",
            " 0.49711185 0.47680728 0.43759846 0.40766673 0.37615964 0.3626816\n",
            " 0.38438649 0.42201995 0.40189043 0.41081743 0.39471381 0.41851917\n",
            " 0.4608787  0.44967618 0.48555925 0.52074217 0.53772099 0.55680028\n",
            " 0.51514091 0.52319272 0.56922808 0.57552949 0.54104674 0.54717311\n",
            " 0.54734815 0.54717311 0.5235428  0.48538421 0.45860319 0.40784176\n",
            " 0.41641869 0.41606862 0.42972169 0.49081043 0.42692106 0.47400665\n",
            " 0.47540697 0.63539296 0.6537721  0.6075617  0.57885524 0.63539296\n",
            " 0.67635218 0.68772974 0.66847541 0.68020305 0.64572029 0.68370383\n",
            " 0.75459478 0.74181691 0.72886399 0.6760021  0.67862769 0.68965517\n",
            " 0.67372659 0.70558376 0.69875722 0.70243305 0.67775249 0.65149659\n",
            " 0.62314021 0.59653422 0.63416769 0.63521792 0.65814808 0.6546473\n",
            " 0.63976895 0.63189218 0.65622265 0.64922107 0.66479958 0.65482234\n",
            " 0.65499737 0.67635218 0.68249947 0.69154519 0.70151848 0.71175826\n",
            " 0.7220301  0.73219305 0.74213147 0.75175244 0.76098776 0.76979518\n",
            " 0.77815574 0.78607225 0.79356515 0.80066913]\n",
            "14 day output [[0.80742806]]\n",
            "15 day input [0.48275862 0.51496587 0.51041484 0.52424295 0.47453177 0.46542972\n",
            " 0.42272011 0.44372484 0.4551024  0.42464555 0.50271311 0.49711185\n",
            " 0.47680728 0.43759846 0.40766673 0.37615964 0.3626816  0.38438649\n",
            " 0.42201995 0.40189043 0.41081743 0.39471381 0.41851917 0.4608787\n",
            " 0.44967618 0.48555925 0.52074217 0.53772099 0.55680028 0.51514091\n",
            " 0.52319272 0.56922808 0.57552949 0.54104674 0.54717311 0.54734815\n",
            " 0.54717311 0.5235428  0.48538421 0.45860319 0.40784176 0.41641869\n",
            " 0.41606862 0.42972169 0.49081043 0.42692106 0.47400665 0.47540697\n",
            " 0.63539296 0.6537721  0.6075617  0.57885524 0.63539296 0.67635218\n",
            " 0.68772974 0.66847541 0.68020305 0.64572029 0.68370383 0.75459478\n",
            " 0.74181691 0.72886399 0.6760021  0.67862769 0.68965517 0.67372659\n",
            " 0.70558376 0.69875722 0.70243305 0.67775249 0.65149659 0.62314021\n",
            " 0.59653422 0.63416769 0.63521792 0.65814808 0.6546473  0.63976895\n",
            " 0.63189218 0.65622265 0.64922107 0.66479958 0.65482234 0.65499737\n",
            " 0.67635218 0.68249947 0.69154519 0.70151848 0.71175826 0.7220301\n",
            " 0.73219305 0.74213147 0.75175244 0.76098776 0.76979518 0.77815574\n",
            " 0.78607225 0.79356515 0.80066913 0.80742806]\n",
            "15 day output [[0.81389296]]\n",
            "16 day input [0.51496587 0.51041484 0.52424295 0.47453177 0.46542972 0.42272011\n",
            " 0.44372484 0.4551024  0.42464555 0.50271311 0.49711185 0.47680728\n",
            " 0.43759846 0.40766673 0.37615964 0.3626816  0.38438649 0.42201995\n",
            " 0.40189043 0.41081743 0.39471381 0.41851917 0.4608787  0.44967618\n",
            " 0.48555925 0.52074217 0.53772099 0.55680028 0.51514091 0.52319272\n",
            " 0.56922808 0.57552949 0.54104674 0.54717311 0.54734815 0.54717311\n",
            " 0.5235428  0.48538421 0.45860319 0.40784176 0.41641869 0.41606862\n",
            " 0.42972169 0.49081043 0.42692106 0.47400665 0.47540697 0.63539296\n",
            " 0.6537721  0.6075617  0.57885524 0.63539296 0.67635218 0.68772974\n",
            " 0.66847541 0.68020305 0.64572029 0.68370383 0.75459478 0.74181691\n",
            " 0.72886399 0.6760021  0.67862769 0.68965517 0.67372659 0.70558376\n",
            " 0.69875722 0.70243305 0.67775249 0.65149659 0.62314021 0.59653422\n",
            " 0.63416769 0.63521792 0.65814808 0.6546473  0.63976895 0.63189218\n",
            " 0.65622265 0.64922107 0.66479958 0.65482234 0.65499737 0.67635218\n",
            " 0.68249947 0.69154519 0.70151848 0.71175826 0.7220301  0.73219305\n",
            " 0.74213147 0.75175244 0.76098776 0.76979518 0.77815574 0.78607225\n",
            " 0.79356515 0.80066913 0.80742806 0.81389296]\n",
            "16 day output [[0.8201159]]\n",
            "17 day input [0.51041484 0.52424295 0.47453177 0.46542972 0.42272011 0.44372484\n",
            " 0.4551024  0.42464555 0.50271311 0.49711185 0.47680728 0.43759846\n",
            " 0.40766673 0.37615964 0.3626816  0.38438649 0.42201995 0.40189043\n",
            " 0.41081743 0.39471381 0.41851917 0.4608787  0.44967618 0.48555925\n",
            " 0.52074217 0.53772099 0.55680028 0.51514091 0.52319272 0.56922808\n",
            " 0.57552949 0.54104674 0.54717311 0.54734815 0.54717311 0.5235428\n",
            " 0.48538421 0.45860319 0.40784176 0.41641869 0.41606862 0.42972169\n",
            " 0.49081043 0.42692106 0.47400665 0.47540697 0.63539296 0.6537721\n",
            " 0.6075617  0.57885524 0.63539296 0.67635218 0.68772974 0.66847541\n",
            " 0.68020305 0.64572029 0.68370383 0.75459478 0.74181691 0.72886399\n",
            " 0.6760021  0.67862769 0.68965517 0.67372659 0.70558376 0.69875722\n",
            " 0.70243305 0.67775249 0.65149659 0.62314021 0.59653422 0.63416769\n",
            " 0.63521792 0.65814808 0.6546473  0.63976895 0.63189218 0.65622265\n",
            " 0.64922107 0.66479958 0.65482234 0.65499737 0.67635218 0.68249947\n",
            " 0.69154519 0.70151848 0.71175826 0.7220301  0.73219305 0.74213147\n",
            " 0.75175244 0.76098776 0.76979518 0.77815574 0.78607225 0.79356515\n",
            " 0.80066913 0.80742806 0.81389296 0.82011592]\n",
            "17 day output [[0.82614934]]\n",
            "18 day input [0.52424295 0.47453177 0.46542972 0.42272011 0.44372484 0.4551024\n",
            " 0.42464555 0.50271311 0.49711185 0.47680728 0.43759846 0.40766673\n",
            " 0.37615964 0.3626816  0.38438649 0.42201995 0.40189043 0.41081743\n",
            " 0.39471381 0.41851917 0.4608787  0.44967618 0.48555925 0.52074217\n",
            " 0.53772099 0.55680028 0.51514091 0.52319272 0.56922808 0.57552949\n",
            " 0.54104674 0.54717311 0.54734815 0.54717311 0.5235428  0.48538421\n",
            " 0.45860319 0.40784176 0.41641869 0.41606862 0.42972169 0.49081043\n",
            " 0.42692106 0.47400665 0.47540697 0.63539296 0.6537721  0.6075617\n",
            " 0.57885524 0.63539296 0.67635218 0.68772974 0.66847541 0.68020305\n",
            " 0.64572029 0.68370383 0.75459478 0.74181691 0.72886399 0.6760021\n",
            " 0.67862769 0.68965517 0.67372659 0.70558376 0.69875722 0.70243305\n",
            " 0.67775249 0.65149659 0.62314021 0.59653422 0.63416769 0.63521792\n",
            " 0.65814808 0.6546473  0.63976895 0.63189218 0.65622265 0.64922107\n",
            " 0.66479958 0.65482234 0.65499737 0.67635218 0.68249947 0.69154519\n",
            " 0.70151848 0.71175826 0.7220301  0.73219305 0.74213147 0.75175244\n",
            " 0.76098776 0.76979518 0.77815574 0.78607225 0.79356515 0.80066913\n",
            " 0.80742806 0.81389296 0.82011592 0.82614934]\n",
            "18 day output [[0.83204156]]\n",
            "19 day input [0.47453177 0.46542972 0.42272011 0.44372484 0.4551024  0.42464555\n",
            " 0.50271311 0.49711185 0.47680728 0.43759846 0.40766673 0.37615964\n",
            " 0.3626816  0.38438649 0.42201995 0.40189043 0.41081743 0.39471381\n",
            " 0.41851917 0.4608787  0.44967618 0.48555925 0.52074217 0.53772099\n",
            " 0.55680028 0.51514091 0.52319272 0.56922808 0.57552949 0.54104674\n",
            " 0.54717311 0.54734815 0.54717311 0.5235428  0.48538421 0.45860319\n",
            " 0.40784176 0.41641869 0.41606862 0.42972169 0.49081043 0.42692106\n",
            " 0.47400665 0.47540697 0.63539296 0.6537721  0.6075617  0.57885524\n",
            " 0.63539296 0.67635218 0.68772974 0.66847541 0.68020305 0.64572029\n",
            " 0.68370383 0.75459478 0.74181691 0.72886399 0.6760021  0.67862769\n",
            " 0.68965517 0.67372659 0.70558376 0.69875722 0.70243305 0.67775249\n",
            " 0.65149659 0.62314021 0.59653422 0.63416769 0.63521792 0.65814808\n",
            " 0.6546473  0.63976895 0.63189218 0.65622265 0.64922107 0.66479958\n",
            " 0.65482234 0.65499737 0.67635218 0.68249947 0.69154519 0.70151848\n",
            " 0.71175826 0.7220301  0.73219305 0.74213147 0.75175244 0.76098776\n",
            " 0.76979518 0.77815574 0.78607225 0.79356515 0.80066913 0.80742806\n",
            " 0.81389296 0.82011592 0.82614934 0.83204156]\n",
            "19 day output [[0.83783615]]\n",
            "20 day input [0.46542972 0.42272011 0.44372484 0.4551024  0.42464555 0.50271311\n",
            " 0.49711185 0.47680728 0.43759846 0.40766673 0.37615964 0.3626816\n",
            " 0.38438649 0.42201995 0.40189043 0.41081743 0.39471381 0.41851917\n",
            " 0.4608787  0.44967618 0.48555925 0.52074217 0.53772099 0.55680028\n",
            " 0.51514091 0.52319272 0.56922808 0.57552949 0.54104674 0.54717311\n",
            " 0.54734815 0.54717311 0.5235428  0.48538421 0.45860319 0.40784176\n",
            " 0.41641869 0.41606862 0.42972169 0.49081043 0.42692106 0.47400665\n",
            " 0.47540697 0.63539296 0.6537721  0.6075617  0.57885524 0.63539296\n",
            " 0.67635218 0.68772974 0.66847541 0.68020305 0.64572029 0.68370383\n",
            " 0.75459478 0.74181691 0.72886399 0.6760021  0.67862769 0.68965517\n",
            " 0.67372659 0.70558376 0.69875722 0.70243305 0.67775249 0.65149659\n",
            " 0.62314021 0.59653422 0.63416769 0.63521792 0.65814808 0.6546473\n",
            " 0.63976895 0.63189218 0.65622265 0.64922107 0.66479958 0.65482234\n",
            " 0.65499737 0.67635218 0.68249947 0.69154519 0.70151848 0.71175826\n",
            " 0.7220301  0.73219305 0.74213147 0.75175244 0.76098776 0.76979518\n",
            " 0.77815574 0.78607225 0.79356515 0.80066913 0.80742806 0.81389296\n",
            " 0.82011592 0.82614934 0.83204156 0.83783615]\n",
            "20 day output [[0.84356934]]\n",
            "21 day input [0.42272011 0.44372484 0.4551024  0.42464555 0.50271311 0.49711185\n",
            " 0.47680728 0.43759846 0.40766673 0.37615964 0.3626816  0.38438649\n",
            " 0.42201995 0.40189043 0.41081743 0.39471381 0.41851917 0.4608787\n",
            " 0.44967618 0.48555925 0.52074217 0.53772099 0.55680028 0.51514091\n",
            " 0.52319272 0.56922808 0.57552949 0.54104674 0.54717311 0.54734815\n",
            " 0.54717311 0.5235428  0.48538421 0.45860319 0.40784176 0.41641869\n",
            " 0.41606862 0.42972169 0.49081043 0.42692106 0.47400665 0.47540697\n",
            " 0.63539296 0.6537721  0.6075617  0.57885524 0.63539296 0.67635218\n",
            " 0.68772974 0.66847541 0.68020305 0.64572029 0.68370383 0.75459478\n",
            " 0.74181691 0.72886399 0.6760021  0.67862769 0.68965517 0.67372659\n",
            " 0.70558376 0.69875722 0.70243305 0.67775249 0.65149659 0.62314021\n",
            " 0.59653422 0.63416769 0.63521792 0.65814808 0.6546473  0.63976895\n",
            " 0.63189218 0.65622265 0.64922107 0.66479958 0.65482234 0.65499737\n",
            " 0.67635218 0.68249947 0.69154519 0.70151848 0.71175826 0.7220301\n",
            " 0.73219305 0.74213147 0.75175244 0.76098776 0.76979518 0.77815574\n",
            " 0.78607225 0.79356515 0.80066913 0.80742806 0.81389296 0.82011592\n",
            " 0.82614934 0.83204156 0.83783615 0.84356934]\n",
            "21 day output [[0.84927106]]\n",
            "22 day input [0.44372484 0.4551024  0.42464555 0.50271311 0.49711185 0.47680728\n",
            " 0.43759846 0.40766673 0.37615964 0.3626816  0.38438649 0.42201995\n",
            " 0.40189043 0.41081743 0.39471381 0.41851917 0.4608787  0.44967618\n",
            " 0.48555925 0.52074217 0.53772099 0.55680028 0.51514091 0.52319272\n",
            " 0.56922808 0.57552949 0.54104674 0.54717311 0.54734815 0.54717311\n",
            " 0.5235428  0.48538421 0.45860319 0.40784176 0.41641869 0.41606862\n",
            " 0.42972169 0.49081043 0.42692106 0.47400665 0.47540697 0.63539296\n",
            " 0.6537721  0.6075617  0.57885524 0.63539296 0.67635218 0.68772974\n",
            " 0.66847541 0.68020305 0.64572029 0.68370383 0.75459478 0.74181691\n",
            " 0.72886399 0.6760021  0.67862769 0.68965517 0.67372659 0.70558376\n",
            " 0.69875722 0.70243305 0.67775249 0.65149659 0.62314021 0.59653422\n",
            " 0.63416769 0.63521792 0.65814808 0.6546473  0.63976895 0.63189218\n",
            " 0.65622265 0.64922107 0.66479958 0.65482234 0.65499737 0.67635218\n",
            " 0.68249947 0.69154519 0.70151848 0.71175826 0.7220301  0.73219305\n",
            " 0.74213147 0.75175244 0.76098776 0.76979518 0.77815574 0.78607225\n",
            " 0.79356515 0.80066913 0.80742806 0.81389296 0.82011592 0.82614934\n",
            " 0.83204156 0.83783615 0.84356934 0.84927106]\n",
            "22 day output [[0.8549631]]\n",
            "23 day input [0.4551024  0.42464555 0.50271311 0.49711185 0.47680728 0.43759846\n",
            " 0.40766673 0.37615964 0.3626816  0.38438649 0.42201995 0.40189043\n",
            " 0.41081743 0.39471381 0.41851917 0.4608787  0.44967618 0.48555925\n",
            " 0.52074217 0.53772099 0.55680028 0.51514091 0.52319272 0.56922808\n",
            " 0.57552949 0.54104674 0.54717311 0.54734815 0.54717311 0.5235428\n",
            " 0.48538421 0.45860319 0.40784176 0.41641869 0.41606862 0.42972169\n",
            " 0.49081043 0.42692106 0.47400665 0.47540697 0.63539296 0.6537721\n",
            " 0.6075617  0.57885524 0.63539296 0.67635218 0.68772974 0.66847541\n",
            " 0.68020305 0.64572029 0.68370383 0.75459478 0.74181691 0.72886399\n",
            " 0.6760021  0.67862769 0.68965517 0.67372659 0.70558376 0.69875722\n",
            " 0.70243305 0.67775249 0.65149659 0.62314021 0.59653422 0.63416769\n",
            " 0.63521792 0.65814808 0.6546473  0.63976895 0.63189218 0.65622265\n",
            " 0.64922107 0.66479958 0.65482234 0.65499737 0.67635218 0.68249947\n",
            " 0.69154519 0.70151848 0.71175826 0.7220301  0.73219305 0.74213147\n",
            " 0.75175244 0.76098776 0.76979518 0.77815574 0.78607225 0.79356515\n",
            " 0.80066913 0.80742806 0.81389296 0.82011592 0.82614934 0.83204156\n",
            " 0.83783615 0.84356934 0.84927106 0.85496312]\n",
            "23 day output [[0.8606604]]\n",
            "24 day input [0.42464555 0.50271311 0.49711185 0.47680728 0.43759846 0.40766673\n",
            " 0.37615964 0.3626816  0.38438649 0.42201995 0.40189043 0.41081743\n",
            " 0.39471381 0.41851917 0.4608787  0.44967618 0.48555925 0.52074217\n",
            " 0.53772099 0.55680028 0.51514091 0.52319272 0.56922808 0.57552949\n",
            " 0.54104674 0.54717311 0.54734815 0.54717311 0.5235428  0.48538421\n",
            " 0.45860319 0.40784176 0.41641869 0.41606862 0.42972169 0.49081043\n",
            " 0.42692106 0.47400665 0.47540697 0.63539296 0.6537721  0.6075617\n",
            " 0.57885524 0.63539296 0.67635218 0.68772974 0.66847541 0.68020305\n",
            " 0.64572029 0.68370383 0.75459478 0.74181691 0.72886399 0.6760021\n",
            " 0.67862769 0.68965517 0.67372659 0.70558376 0.69875722 0.70243305\n",
            " 0.67775249 0.65149659 0.62314021 0.59653422 0.63416769 0.63521792\n",
            " 0.65814808 0.6546473  0.63976895 0.63189218 0.65622265 0.64922107\n",
            " 0.66479958 0.65482234 0.65499737 0.67635218 0.68249947 0.69154519\n",
            " 0.70151848 0.71175826 0.7220301  0.73219305 0.74213147 0.75175244\n",
            " 0.76098776 0.76979518 0.77815574 0.78607225 0.79356515 0.80066913\n",
            " 0.80742806 0.81389296 0.82011592 0.82614934 0.83204156 0.83783615\n",
            " 0.84356934 0.84927106 0.85496312 0.86066037]\n",
            "24 day output [[0.86637074]]\n",
            "25 day input [0.50271311 0.49711185 0.47680728 0.43759846 0.40766673 0.37615964\n",
            " 0.3626816  0.38438649 0.42201995 0.40189043 0.41081743 0.39471381\n",
            " 0.41851917 0.4608787  0.44967618 0.48555925 0.52074217 0.53772099\n",
            " 0.55680028 0.51514091 0.52319272 0.56922808 0.57552949 0.54104674\n",
            " 0.54717311 0.54734815 0.54717311 0.5235428  0.48538421 0.45860319\n",
            " 0.40784176 0.41641869 0.41606862 0.42972169 0.49081043 0.42692106\n",
            " 0.47400665 0.47540697 0.63539296 0.6537721  0.6075617  0.57885524\n",
            " 0.63539296 0.67635218 0.68772974 0.66847541 0.68020305 0.64572029\n",
            " 0.68370383 0.75459478 0.74181691 0.72886399 0.6760021  0.67862769\n",
            " 0.68965517 0.67372659 0.70558376 0.69875722 0.70243305 0.67775249\n",
            " 0.65149659 0.62314021 0.59653422 0.63416769 0.63521792 0.65814808\n",
            " 0.6546473  0.63976895 0.63189218 0.65622265 0.64922107 0.66479958\n",
            " 0.65482234 0.65499737 0.67635218 0.68249947 0.69154519 0.70151848\n",
            " 0.71175826 0.7220301  0.73219305 0.74213147 0.75175244 0.76098776\n",
            " 0.76979518 0.77815574 0.78607225 0.79356515 0.80066913 0.80742806\n",
            " 0.81389296 0.82011592 0.82614934 0.83204156 0.83783615 0.84356934\n",
            " 0.84927106 0.85496312 0.86066037 0.86637074]\n",
            "25 day output [[0.8720971]]\n",
            "26 day input [0.49711185 0.47680728 0.43759846 0.40766673 0.37615964 0.3626816\n",
            " 0.38438649 0.42201995 0.40189043 0.41081743 0.39471381 0.41851917\n",
            " 0.4608787  0.44967618 0.48555925 0.52074217 0.53772099 0.55680028\n",
            " 0.51514091 0.52319272 0.56922808 0.57552949 0.54104674 0.54717311\n",
            " 0.54734815 0.54717311 0.5235428  0.48538421 0.45860319 0.40784176\n",
            " 0.41641869 0.41606862 0.42972169 0.49081043 0.42692106 0.47400665\n",
            " 0.47540697 0.63539296 0.6537721  0.6075617  0.57885524 0.63539296\n",
            " 0.67635218 0.68772974 0.66847541 0.68020305 0.64572029 0.68370383\n",
            " 0.75459478 0.74181691 0.72886399 0.6760021  0.67862769 0.68965517\n",
            " 0.67372659 0.70558376 0.69875722 0.70243305 0.67775249 0.65149659\n",
            " 0.62314021 0.59653422 0.63416769 0.63521792 0.65814808 0.6546473\n",
            " 0.63976895 0.63189218 0.65622265 0.64922107 0.66479958 0.65482234\n",
            " 0.65499737 0.67635218 0.68249947 0.69154519 0.70151848 0.71175826\n",
            " 0.7220301  0.73219305 0.74213147 0.75175244 0.76098776 0.76979518\n",
            " 0.77815574 0.78607225 0.79356515 0.80066913 0.80742806 0.81389296\n",
            " 0.82011592 0.82614934 0.83204156 0.83783615 0.84356934 0.84927106\n",
            " 0.85496312 0.86066037 0.86637074 0.87209707]\n",
            "26 day output [[0.8778367]]\n",
            "27 day input [0.47680728 0.43759846 0.40766673 0.37615964 0.3626816  0.38438649\n",
            " 0.42201995 0.40189043 0.41081743 0.39471381 0.41851917 0.4608787\n",
            " 0.44967618 0.48555925 0.52074217 0.53772099 0.55680028 0.51514091\n",
            " 0.52319272 0.56922808 0.57552949 0.54104674 0.54717311 0.54734815\n",
            " 0.54717311 0.5235428  0.48538421 0.45860319 0.40784176 0.41641869\n",
            " 0.41606862 0.42972169 0.49081043 0.42692106 0.47400665 0.47540697\n",
            " 0.63539296 0.6537721  0.6075617  0.57885524 0.63539296 0.67635218\n",
            " 0.68772974 0.66847541 0.68020305 0.64572029 0.68370383 0.75459478\n",
            " 0.74181691 0.72886399 0.6760021  0.67862769 0.68965517 0.67372659\n",
            " 0.70558376 0.69875722 0.70243305 0.67775249 0.65149659 0.62314021\n",
            " 0.59653422 0.63416769 0.63521792 0.65814808 0.6546473  0.63976895\n",
            " 0.63189218 0.65622265 0.64922107 0.66479958 0.65482234 0.65499737\n",
            " 0.67635218 0.68249947 0.69154519 0.70151848 0.71175826 0.7220301\n",
            " 0.73219305 0.74213147 0.75175244 0.76098776 0.76979518 0.77815574\n",
            " 0.78607225 0.79356515 0.80066913 0.80742806 0.81389296 0.82011592\n",
            " 0.82614934 0.83204156 0.83783615 0.84356934 0.84927106 0.85496312\n",
            " 0.86066037 0.86637074 0.87209707 0.8778367 ]\n",
            "27 day output [[0.88358366]]\n",
            "28 day input [0.43759846 0.40766673 0.37615964 0.3626816  0.38438649 0.42201995\n",
            " 0.40189043 0.41081743 0.39471381 0.41851917 0.4608787  0.44967618\n",
            " 0.48555925 0.52074217 0.53772099 0.55680028 0.51514091 0.52319272\n",
            " 0.56922808 0.57552949 0.54104674 0.54717311 0.54734815 0.54717311\n",
            " 0.5235428  0.48538421 0.45860319 0.40784176 0.41641869 0.41606862\n",
            " 0.42972169 0.49081043 0.42692106 0.47400665 0.47540697 0.63539296\n",
            " 0.6537721  0.6075617  0.57885524 0.63539296 0.67635218 0.68772974\n",
            " 0.66847541 0.68020305 0.64572029 0.68370383 0.75459478 0.74181691\n",
            " 0.72886399 0.6760021  0.67862769 0.68965517 0.67372659 0.70558376\n",
            " 0.69875722 0.70243305 0.67775249 0.65149659 0.62314021 0.59653422\n",
            " 0.63416769 0.63521792 0.65814808 0.6546473  0.63976895 0.63189218\n",
            " 0.65622265 0.64922107 0.66479958 0.65482234 0.65499737 0.67635218\n",
            " 0.68249947 0.69154519 0.70151848 0.71175826 0.7220301  0.73219305\n",
            " 0.74213147 0.75175244 0.76098776 0.76979518 0.77815574 0.78607225\n",
            " 0.79356515 0.80066913 0.80742806 0.81389296 0.82011592 0.82614934\n",
            " 0.83204156 0.83783615 0.84356934 0.84927106 0.85496312 0.86066037\n",
            " 0.86637074 0.87209707 0.8778367  0.88358366]\n",
            "28 day output [[0.88932884]]\n",
            "29 day input [0.40766673 0.37615964 0.3626816  0.38438649 0.42201995 0.40189043\n",
            " 0.41081743 0.39471381 0.41851917 0.4608787  0.44967618 0.48555925\n",
            " 0.52074217 0.53772099 0.55680028 0.51514091 0.52319272 0.56922808\n",
            " 0.57552949 0.54104674 0.54717311 0.54734815 0.54717311 0.5235428\n",
            " 0.48538421 0.45860319 0.40784176 0.41641869 0.41606862 0.42972169\n",
            " 0.49081043 0.42692106 0.47400665 0.47540697 0.63539296 0.6537721\n",
            " 0.6075617  0.57885524 0.63539296 0.67635218 0.68772974 0.66847541\n",
            " 0.68020305 0.64572029 0.68370383 0.75459478 0.74181691 0.72886399\n",
            " 0.6760021  0.67862769 0.68965517 0.67372659 0.70558376 0.69875722\n",
            " 0.70243305 0.67775249 0.65149659 0.62314021 0.59653422 0.63416769\n",
            " 0.63521792 0.65814808 0.6546473  0.63976895 0.63189218 0.65622265\n",
            " 0.64922107 0.66479958 0.65482234 0.65499737 0.67635218 0.68249947\n",
            " 0.69154519 0.70151848 0.71175826 0.7220301  0.73219305 0.74213147\n",
            " 0.75175244 0.76098776 0.76979518 0.77815574 0.78607225 0.79356515\n",
            " 0.80066913 0.80742806 0.81389296 0.82011592 0.82614934 0.83204156\n",
            " 0.83783615 0.84356934 0.84927106 0.85496312 0.86066037 0.86637074\n",
            " 0.87209707 0.8778367  0.88358366 0.88932884]\n",
            "29 day output [[0.8950617]]\n"
          ],
          "name": "stdout"
        }
      ]
    },
    {
      "cell_type": "code",
      "metadata": {
        "id": "kvtMCAqVLumg"
      },
      "source": [
        "day_new=np.arange(1,101)\r\n",
        "day_pred=np.arange(101,131)"
      ],
      "execution_count": 61,
      "outputs": []
    },
    {
      "cell_type": "code",
      "metadata": {
        "colab": {
          "base_uri": "https://localhost:8080/"
        },
        "id": "TDMtGPO1LvmS",
        "outputId": "aead8f31-c624-4ced-b213-6dfdcb42146b"
      },
      "source": [
        "len(x1)"
      ],
      "execution_count": 62,
      "outputs": [
        {
          "output_type": "execute_result",
          "data": {
            "text/plain": [
              "1257"
            ]
          },
          "metadata": {
            "tags": []
          },
          "execution_count": 62
        }
      ]
    },
    {
      "cell_type": "code",
      "metadata": {
        "colab": {
          "base_uri": "https://localhost:8080/",
          "height": 283
        },
        "id": "2Lynzk4eL0qF",
        "outputId": "3b959f6a-7b63-4aca-a8aa-57af1b2d84d0"
      },
      "source": [
        "plt.plot(day_new,scale.inverse_transform(x1[1157:]))\r\n",
        "plt.plot(day_pred,scale.inverse_transform(output1))"
      ],
      "execution_count": 64,
      "outputs": [
        {
          "output_type": "execute_result",
          "data": {
            "text/plain": [
              "[<matplotlib.lines.Line2D at 0x7f576e592a20>]"
            ]
          },
          "metadata": {
            "tags": []
          },
          "execution_count": 64
        },
        {
          "output_type": "display_data",
          "data": {
            "image/png": "[encoded data removed]",
            "text/plain": [
              "<Figure size 432x288 with 1 Axes>"
            ]
          },
          "metadata": {
            "tags": [],
            "needs_background": "light"
          }
        }
      ]
    },
    {
      "cell_type": "code",
      "metadata": {
        "id": "W_hL4j06Pj3N"
      },
      "source": [
        ""
      ],
      "execution_count": null,
      "outputs": []
    },
    {
      "cell_type": "code",
      "metadata": {
        "id": "1LzFO1aHPkDY"
      },
      "source": [
        ""
      ],
      "execution_count": null,
      "outputs": []
    }
  ]
}