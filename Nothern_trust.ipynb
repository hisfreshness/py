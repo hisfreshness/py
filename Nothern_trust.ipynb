{
  "nbformat": 4,
  "nbformat_minor": 0,
  "metadata": {
    "colab": {
      "name": "Nothern trust",
      "provenance": [],
      "collapsed_sections": [],
      "authorship_tag": "ABX9TyPbQ8VP9sR5CqXsl7u4FXY9",
      "include_colab_link": true
    },
    "kernelspec": {
      "display_name": "Python 3",
      "name": "python3"
    }
  },
  "cells": [
    {
      "cell_type": "markdown",
      "metadata": {
        "id": "view-in-github",
        "colab_type": "text"
      },
      "source": [
        "<a href=\"https://colab.research.google.com/github/hisfreshness/py/blob/master/Nothern_trust.ipynb\" target=\"_parent\"><img src=\"https://colab.research.google.com/assets/colab-badge.svg\" alt=\"Open In Colab\"/></a>"
      ]
    },
    {
      "cell_type": "code",
      "metadata": {
        "id": "l6h10xe7QDox"
      },
      "source": [
        "import pandas as pd\n",
        "import numpy as np"
      ],
      "execution_count": null,
      "outputs": []
    },
    {
      "cell_type": "code",
      "metadata": {
        "id": "c7pd5pQTTj9n"
      },
      "source": [
        "x=pd.read_csv('1niftynext50_mcwb.csv',header=2)"
      ],
      "execution_count": null,
      "outputs": []
    },
    {
      "cell_type": "code",
      "metadata": {
        "colab": {
          "base_uri": "https://localhost:8080/",
          "height": 563
        },
        "id": "7eloAQIWTwTB",
        "outputId": "d892b27e-21cf-4a1b-8b77-4d50ce5978f7"
      },
      "source": [
        "x"
      ],
      "execution_count": null,
      "outputs": [
        {
          "output_type": "execute_result",
          "data": {
            "text/html": [
              "<div>\n",
              "<style scoped>\n",
              "    .dataframe tbody tr th:only-of-type {\n",
              "        vertical-align: middle;\n",
              "    }\n",
              "\n",
              "    .dataframe tbody tr th {\n",
              "        vertical-align: top;\n",
              "    }\n",
              "\n",
              "    .dataframe thead th {\n",
              "        text-align: right;\n",
              "    }\n",
              "</style>\n",
              "<table border=\"1\" class=\"dataframe\">\n",
              "  <thead>\n",
              "    <tr style=\"text-align: right;\">\n",
              "      <th></th>\n",
              "      <th>Sr. No</th>\n",
              "      <th>Security Symbol</th>\n",
              "      <th>Security Name</th>\n",
              "      <th>Industry</th>\n",
              "      <th>Equity Capital (In Rs.)</th>\n",
              "      <th>Free Float Market Capitalisation (Rs. Crores)</th>\n",
              "      <th>Weightage (%)</th>\n",
              "      <th>Beta</th>\n",
              "      <th>R2</th>\n",
              "      <th>Volatility (%)</th>\n",
              "      <th>Monthly Return</th>\n",
              "      <th>Avg. Impact Cost (%)</th>\n",
              "    </tr>\n",
              "  </thead>\n",
              "  <tbody>\n",
              "    <tr>\n",
              "      <th>0</th>\n",
              "      <td>1</td>\n",
              "      <td>ABB</td>\n",
              "      <td>ABB India Ltd.</td>\n",
              "      <td>ELECTRICAL EQUIPMENT</td>\n",
              "      <td>4.238168e+08</td>\n",
              "      <td>7468.71</td>\n",
              "      <td>1.17</td>\n",
              "      <td>0.83</td>\n",
              "      <td>0.13</td>\n",
              "      <td>2.06</td>\n",
              "      <td>7.749924</td>\n",
              "      <td>0.08</td>\n",
              "    </tr>\n",
              "    <tr>\n",
              "      <th>1</th>\n",
              "      <td>2</td>\n",
              "      <td>ACC</td>\n",
              "      <td>ACC Ltd.</td>\n",
              "      <td>CEMENT AND CEMENT PRODUCTS</td>\n",
              "      <td>1.877872e+09</td>\n",
              "      <td>13118.01</td>\n",
              "      <td>2.05</td>\n",
              "      <td>1.13</td>\n",
              "      <td>0.20</td>\n",
              "      <td>1.90</td>\n",
              "      <td>-5.272311</td>\n",
              "      <td>0.04</td>\n",
              "    </tr>\n",
              "    <tr>\n",
              "      <th>2</th>\n",
              "      <td>3</td>\n",
              "      <td>ABCAPITAL</td>\n",
              "      <td>Aditya Birla Capital Ltd.</td>\n",
              "      <td>FINANCE</td>\n",
              "      <td>2.201330e+10</td>\n",
              "      <td>6309.56</td>\n",
              "      <td>0.99</td>\n",
              "      <td>1.11</td>\n",
              "      <td>0.18</td>\n",
              "      <td>1.70</td>\n",
              "      <td>-18.831858</td>\n",
              "      <td>0.08</td>\n",
              "    </tr>\n",
              "    <tr>\n",
              "      <th>3</th>\n",
              "      <td>4</td>\n",
              "      <td>AMBUJACEM</td>\n",
              "      <td>Ambuja Cements Ltd.</td>\n",
              "      <td>CEMENT AND CEMENT PRODUCTS</td>\n",
              "      <td>3.971290e+09</td>\n",
              "      <td>16423.97</td>\n",
              "      <td>2.57</td>\n",
              "      <td>1.16</td>\n",
              "      <td>0.20</td>\n",
              "      <td>2.07</td>\n",
              "      <td>-7.375181</td>\n",
              "      <td>0.05</td>\n",
              "    </tr>\n",
              "    <tr>\n",
              "      <th>4</th>\n",
              "      <td>5</td>\n",
              "      <td>ASHOKLEY</td>\n",
              "      <td>Ashok Leyland Ltd.</td>\n",
              "      <td>AUTOMOBILES - 4 WHEELERS</td>\n",
              "      <td>2.935527e+09</td>\n",
              "      <td>17131.44</td>\n",
              "      <td>2.68</td>\n",
              "      <td>0.98</td>\n",
              "      <td>0.09</td>\n",
              "      <td>1.95</td>\n",
              "      <td>-7.710190</td>\n",
              "      <td>0.03</td>\n",
              "    </tr>\n",
              "    <tr>\n",
              "      <th>...</th>\n",
              "      <td>...</td>\n",
              "      <td>...</td>\n",
              "      <td>...</td>\n",
              "      <td>...</td>\n",
              "      <td>...</td>\n",
              "      <td>...</td>\n",
              "      <td>...</td>\n",
              "      <td>...</td>\n",
              "      <td>...</td>\n",
              "      <td>...</td>\n",
              "      <td>...</td>\n",
              "      <td>...</td>\n",
              "    </tr>\n",
              "    <tr>\n",
              "      <th>62</th>\n",
              "      <td>* Last day of trading was 28-Sep 2018</td>\n",
              "      <td>NaN</td>\n",
              "      <td>NaN</td>\n",
              "      <td>NaN</td>\n",
              "      <td>NaN</td>\n",
              "      <td>NaN</td>\n",
              "      <td>NaN</td>\n",
              "      <td>NaN</td>\n",
              "      <td>NaN</td>\n",
              "      <td>NaN</td>\n",
              "      <td>NaN</td>\n",
              "      <td>NaN</td>\n",
              "    </tr>\n",
              "    <tr>\n",
              "      <th>63</th>\n",
              "      <td>NaN</td>\n",
              "      <td>NaN</td>\n",
              "      <td>NaN</td>\n",
              "      <td>NaN</td>\n",
              "      <td>NaN</td>\n",
              "      <td>NaN</td>\n",
              "      <td>NaN</td>\n",
              "      <td>NaN</td>\n",
              "      <td>NaN</td>\n",
              "      <td>NaN</td>\n",
              "      <td>NaN</td>\n",
              "      <td>NaN</td>\n",
              "    </tr>\n",
              "    <tr>\n",
              "      <th>64</th>\n",
              "      <td>* Impact Cost for Nifty Next 50 is for a portf...</td>\n",
              "      <td>NaN</td>\n",
              "      <td>NaN</td>\n",
              "      <td>NaN</td>\n",
              "      <td>NaN</td>\n",
              "      <td>NaN</td>\n",
              "      <td>NaN</td>\n",
              "      <td>NaN</td>\n",
              "      <td>NaN</td>\n",
              "      <td>NaN</td>\n",
              "      <td>NaN</td>\n",
              "      <td>NaN</td>\n",
              "    </tr>\n",
              "    <tr>\n",
              "      <th>65</th>\n",
              "      <td>NaN</td>\n",
              "      <td>NaN</td>\n",
              "      <td>NaN</td>\n",
              "      <td>NaN</td>\n",
              "      <td>NaN</td>\n",
              "      <td>NaN</td>\n",
              "      <td>NaN</td>\n",
              "      <td>NaN</td>\n",
              "      <td>NaN</td>\n",
              "      <td>NaN</td>\n",
              "      <td>NaN</td>\n",
              "      <td>NaN</td>\n",
              "    </tr>\n",
              "    <tr>\n",
              "      <th>66</th>\n",
              "      <td>* Impact Cost for Nifty Next 50 is the weighta...</td>\n",
              "      <td>NaN</td>\n",
              "      <td>NaN</td>\n",
              "      <td>NaN</td>\n",
              "      <td>NaN</td>\n",
              "      <td>NaN</td>\n",
              "      <td>NaN</td>\n",
              "      <td>NaN</td>\n",
              "      <td>NaN</td>\n",
              "      <td>NaN</td>\n",
              "      <td>NaN</td>\n",
              "      <td>NaN</td>\n",
              "    </tr>\n",
              "  </tbody>\n",
              "</table>\n",
              "<p>67 rows × 12 columns</p>\n",
              "</div>"
            ],
            "text/plain": [
              "                                               Sr. No  ... Avg. Impact Cost (%)\n",
              "0                                                   1  ...                 0.08\n",
              "1                                                   2  ...                 0.04\n",
              "2                                                   3  ...                 0.08\n",
              "3                                                   4  ...                 0.05\n",
              "4                                                   5  ...                 0.03\n",
              "..                                                ...  ...                  ...\n",
              "62              * Last day of trading was 28-Sep 2018  ...                  NaN\n",
              "63                                                NaN  ...                  NaN\n",
              "64  * Impact Cost for Nifty Next 50 is for a portf...  ...                  NaN\n",
              "65                                                NaN  ...                  NaN\n",
              "66  * Impact Cost for Nifty Next 50 is the weighta...  ...                  NaN\n",
              "\n",
              "[67 rows x 12 columns]"
            ]
          },
          "metadata": {
            "tags": []
          },
          "execution_count": 3
        }
      ]
    },
    {
      "cell_type": "code",
      "metadata": {
        "colab": {
          "base_uri": "https://localhost:8080/",
          "height": 1000
        },
        "id": "cSKiFNDgUNYN",
        "outputId": "0005f3a9-8d13-4a15-a9c0-8daa54fc2a5d"
      },
      "source": [
        "x.dropna()"
      ],
      "execution_count": null,
      "outputs": [
        {
          "output_type": "execute_result",
          "data": {
            "text/html": [
              "<div>\n",
              "<style scoped>\n",
              "    .dataframe tbody tr th:only-of-type {\n",
              "        vertical-align: middle;\n",
              "    }\n",
              "\n",
              "    .dataframe tbody tr th {\n",
              "        vertical-align: top;\n",
              "    }\n",
              "\n",
              "    .dataframe thead th {\n",
              "        text-align: right;\n",
              "    }\n",
              "</style>\n",
              "<table border=\"1\" class=\"dataframe\">\n",
              "  <thead>\n",
              "    <tr style=\"text-align: right;\">\n",
              "      <th></th>\n",
              "      <th>Sr. No</th>\n",
              "      <th>Security Symbol</th>\n",
              "      <th>Security Name</th>\n",
              "      <th>Industry</th>\n",
              "      <th>Equity Capital (In Rs.)</th>\n",
              "      <th>Free Float Market Capitalisation (Rs. Crores)</th>\n",
              "      <th>Weightage (%)</th>\n",
              "      <th>Beta</th>\n",
              "      <th>R2</th>\n",
              "      <th>Volatility (%)</th>\n",
              "      <th>Monthly Return</th>\n",
              "      <th>Avg. Impact Cost (%)</th>\n",
              "    </tr>\n",
              "  </thead>\n",
              "  <tbody>\n",
              "    <tr>\n",
              "      <th>0</th>\n",
              "      <td>1</td>\n",
              "      <td>ABB</td>\n",
              "      <td>ABB India Ltd.</td>\n",
              "      <td>ELECTRICAL EQUIPMENT</td>\n",
              "      <td>4.238168e+08</td>\n",
              "      <td>7468.71</td>\n",
              "      <td>1.17</td>\n",
              "      <td>0.83</td>\n",
              "      <td>0.13</td>\n",
              "      <td>2.06</td>\n",
              "      <td>7.749924</td>\n",
              "      <td>0.08</td>\n",
              "    </tr>\n",
              "    <tr>\n",
              "      <th>1</th>\n",
              "      <td>2</td>\n",
              "      <td>ACC</td>\n",
              "      <td>ACC Ltd.</td>\n",
              "      <td>CEMENT AND CEMENT PRODUCTS</td>\n",
              "      <td>1.877872e+09</td>\n",
              "      <td>13118.01</td>\n",
              "      <td>2.05</td>\n",
              "      <td>1.13</td>\n",
              "      <td>0.20</td>\n",
              "      <td>1.90</td>\n",
              "      <td>-5.272311</td>\n",
              "      <td>0.04</td>\n",
              "    </tr>\n",
              "    <tr>\n",
              "      <th>2</th>\n",
              "      <td>3</td>\n",
              "      <td>ABCAPITAL</td>\n",
              "      <td>Aditya Birla Capital Ltd.</td>\n",
              "      <td>FINANCE</td>\n",
              "      <td>2.201330e+10</td>\n",
              "      <td>6309.56</td>\n",
              "      <td>0.99</td>\n",
              "      <td>1.11</td>\n",
              "      <td>0.18</td>\n",
              "      <td>1.70</td>\n",
              "      <td>-18.831858</td>\n",
              "      <td>0.08</td>\n",
              "    </tr>\n",
              "    <tr>\n",
              "      <th>3</th>\n",
              "      <td>4</td>\n",
              "      <td>AMBUJACEM</td>\n",
              "      <td>Ambuja Cements Ltd.</td>\n",
              "      <td>CEMENT AND CEMENT PRODUCTS</td>\n",
              "      <td>3.971290e+09</td>\n",
              "      <td>16423.97</td>\n",
              "      <td>2.57</td>\n",
              "      <td>1.16</td>\n",
              "      <td>0.20</td>\n",
              "      <td>2.07</td>\n",
              "      <td>-7.375181</td>\n",
              "      <td>0.05</td>\n",
              "    </tr>\n",
              "    <tr>\n",
              "      <th>4</th>\n",
              "      <td>5</td>\n",
              "      <td>ASHOKLEY</td>\n",
              "      <td>Ashok Leyland Ltd.</td>\n",
              "      <td>AUTOMOBILES - 4 WHEELERS</td>\n",
              "      <td>2.935527e+09</td>\n",
              "      <td>17131.44</td>\n",
              "      <td>2.68</td>\n",
              "      <td>0.98</td>\n",
              "      <td>0.09</td>\n",
              "      <td>1.95</td>\n",
              "      <td>-7.710190</td>\n",
              "      <td>0.03</td>\n",
              "    </tr>\n",
              "    <tr>\n",
              "      <th>5</th>\n",
              "      <td>6</td>\n",
              "      <td>AUROPHARMA</td>\n",
              "      <td>Aurobindo Pharma Ltd.</td>\n",
              "      <td>PHARMACEUTICALS</td>\n",
              "      <td>5.859076e+08</td>\n",
              "      <td>20936.59</td>\n",
              "      <td>3.27</td>\n",
              "      <td>1.20</td>\n",
              "      <td>0.16</td>\n",
              "      <td>3.28</td>\n",
              "      <td>4.447562</td>\n",
              "      <td>0.03</td>\n",
              "    </tr>\n",
              "    <tr>\n",
              "      <th>6</th>\n",
              "      <td>7</td>\n",
              "      <td>DMART</td>\n",
              "      <td>Avenue Supermarts Ltd.</td>\n",
              "      <td>MISCELLANEOUS</td>\n",
              "      <td>6.240845e+09</td>\n",
              "      <td>14810.24</td>\n",
              "      <td>2.31</td>\n",
              "      <td>1.25</td>\n",
              "      <td>0.20</td>\n",
              "      <td>1.09</td>\n",
              "      <td>-12.997819</td>\n",
              "      <td>0.06</td>\n",
              "    </tr>\n",
              "    <tr>\n",
              "      <th>7</th>\n",
              "      <td>8</td>\n",
              "      <td>BANDHANBNK</td>\n",
              "      <td>Bandhan Bank Ltd.</td>\n",
              "      <td>BANKS</td>\n",
              "      <td>1.192805e+10</td>\n",
              "      <td>6742.33</td>\n",
              "      <td>1.05</td>\n",
              "      <td>1.54</td>\n",
              "      <td>0.15</td>\n",
              "      <td>2.68</td>\n",
              "      <td>-18.645653</td>\n",
              "      <td>0.06</td>\n",
              "    </tr>\n",
              "    <tr>\n",
              "      <th>8</th>\n",
              "      <td>9</td>\n",
              "      <td>BANKBARODA</td>\n",
              "      <td>Bank of Baroda</td>\n",
              "      <td>BANKS</td>\n",
              "      <td>5.291032e+09</td>\n",
              "      <td>9476.24</td>\n",
              "      <td>1.48</td>\n",
              "      <td>2.14</td>\n",
              "      <td>0.17</td>\n",
              "      <td>4.22</td>\n",
              "      <td>-34.946061</td>\n",
              "      <td>0.05</td>\n",
              "    </tr>\n",
              "    <tr>\n",
              "      <th>9</th>\n",
              "      <td>10</td>\n",
              "      <td>BEL</td>\n",
              "      <td>Bharat Electronics Ltd.</td>\n",
              "      <td>ELECTRONICS - INDUSTRIAL</td>\n",
              "      <td>2.436593e+09</td>\n",
              "      <td>6652.39</td>\n",
              "      <td>1.04</td>\n",
              "      <td>1.31</td>\n",
              "      <td>0.13</td>\n",
              "      <td>4.19</td>\n",
              "      <td>-29.251101</td>\n",
              "      <td>0.05</td>\n",
              "    </tr>\n",
              "    <tr>\n",
              "      <th>10</th>\n",
              "      <td>11</td>\n",
              "      <td>BHEL</td>\n",
              "      <td>Bharat Heavy Electricals Ltd.</td>\n",
              "      <td>ELECTRICAL EQUIPMENT</td>\n",
              "      <td>7.342800e+09</td>\n",
              "      <td>9305.16</td>\n",
              "      <td>1.45</td>\n",
              "      <td>1.36</td>\n",
              "      <td>0.18</td>\n",
              "      <td>2.22</td>\n",
              "      <td>-15.012407</td>\n",
              "      <td>0.05</td>\n",
              "    </tr>\n",
              "    <tr>\n",
              "      <th>11</th>\n",
              "      <td>12</td>\n",
              "      <td>BIOCON</td>\n",
              "      <td>Biocon Ltd.</td>\n",
              "      <td>PHARMACEUTICALS</td>\n",
              "      <td>3.000000e+09</td>\n",
              "      <td>14518.35</td>\n",
              "      <td>2.27</td>\n",
              "      <td>1.12</td>\n",
              "      <td>0.10</td>\n",
              "      <td>2.87</td>\n",
              "      <td>10.793269</td>\n",
              "      <td>0.04</td>\n",
              "    </tr>\n",
              "    <tr>\n",
              "      <th>12</th>\n",
              "      <td>13</td>\n",
              "      <td>BOSCHLTD</td>\n",
              "      <td>Bosch Ltd.</td>\n",
              "      <td>AUTO ANCILLARIES</td>\n",
              "      <td>3.052074e+08</td>\n",
              "      <td>18252.10</td>\n",
              "      <td>2.85</td>\n",
              "      <td>0.65</td>\n",
              "      <td>0.07</td>\n",
              "      <td>1.78</td>\n",
              "      <td>-9.350692</td>\n",
              "      <td>0.08</td>\n",
              "    </tr>\n",
              "    <tr>\n",
              "      <th>13</th>\n",
              "      <td>14</td>\n",
              "      <td>BRITANNIA</td>\n",
              "      <td>Britannia Industries Ltd.</td>\n",
              "      <td>FOOD AND FOOD PROCESSING</td>\n",
              "      <td>2.403183e+08</td>\n",
              "      <td>34287.59</td>\n",
              "      <td>5.36</td>\n",
              "      <td>0.76</td>\n",
              "      <td>0.16</td>\n",
              "      <td>1.97</td>\n",
              "      <td>-13.556240</td>\n",
              "      <td>0.05</td>\n",
              "    </tr>\n",
              "    <tr>\n",
              "      <th>14</th>\n",
              "      <td>15</td>\n",
              "      <td>CADILAHC</td>\n",
              "      <td>Cadila Healthcare Ltd.</td>\n",
              "      <td>PHARMACEUTICALS</td>\n",
              "      <td>1.023743e+09</td>\n",
              "      <td>9877.84</td>\n",
              "      <td>1.54</td>\n",
              "      <td>1.12</td>\n",
              "      <td>0.16</td>\n",
              "      <td>2.15</td>\n",
              "      <td>-4.171322</td>\n",
              "      <td>0.06</td>\n",
              "    </tr>\n",
              "    <tr>\n",
              "      <th>15</th>\n",
              "      <td>16</td>\n",
              "      <td>COLPAL</td>\n",
              "      <td>Colgate Palmolive (India) Ltd.</td>\n",
              "      <td>PERSONAL CARE</td>\n",
              "      <td>2.719856e+08</td>\n",
              "      <td>14412.80</td>\n",
              "      <td>2.25</td>\n",
              "      <td>0.47</td>\n",
              "      <td>0.08</td>\n",
              "      <td>1.16</td>\n",
              "      <td>-7.489307</td>\n",
              "      <td>0.06</td>\n",
              "    </tr>\n",
              "    <tr>\n",
              "      <th>16</th>\n",
              "      <td>17</td>\n",
              "      <td>CONCOR</td>\n",
              "      <td>Container Corporation of India Ltd.</td>\n",
              "      <td>TRAVEL AND TRANSPORT</td>\n",
              "      <td>2.437177e+09</td>\n",
              "      <td>13762.86</td>\n",
              "      <td>2.15</td>\n",
              "      <td>0.80</td>\n",
              "      <td>0.10</td>\n",
              "      <td>2.31</td>\n",
              "      <td>-3.743192</td>\n",
              "      <td>0.05</td>\n",
              "    </tr>\n",
              "    <tr>\n",
              "      <th>17</th>\n",
              "      <td>18</td>\n",
              "      <td>DLF</td>\n",
              "      <td>DLF Ltd.</td>\n",
              "      <td>CONSTRUCTION</td>\n",
              "      <td>3.568660e+09</td>\n",
              "      <td>7251.07</td>\n",
              "      <td>1.13</td>\n",
              "      <td>1.93</td>\n",
              "      <td>0.28</td>\n",
              "      <td>3.26</td>\n",
              "      <td>-26.381341</td>\n",
              "      <td>0.05</td>\n",
              "    </tr>\n",
              "    <tr>\n",
              "      <th>18</th>\n",
              "      <td>19</td>\n",
              "      <td>DABUR</td>\n",
              "      <td>Dabur India Ltd.</td>\n",
              "      <td>PERSONAL CARE</td>\n",
              "      <td>1.766264e+09</td>\n",
              "      <td>24128.59</td>\n",
              "      <td>3.77</td>\n",
              "      <td>0.88</td>\n",
              "      <td>0.16</td>\n",
              "      <td>2.42</td>\n",
              "      <td>-10.830287</td>\n",
              "      <td>0.05</td>\n",
              "    </tr>\n",
              "    <tr>\n",
              "      <th>19</th>\n",
              "      <td>20</td>\n",
              "      <td>GICRE</td>\n",
              "      <td>General Insurance Corporation of India</td>\n",
              "      <td>FINANCE</td>\n",
              "      <td>8.772000e+09</td>\n",
              "      <td>8058.66</td>\n",
              "      <td>1.26</td>\n",
              "      <td>0.06</td>\n",
              "      <td>0.00</td>\n",
              "      <td>2.14</td>\n",
              "      <td>-1.766467</td>\n",
              "      <td>0.11</td>\n",
              "    </tr>\n",
              "    <tr>\n",
              "      <th>20</th>\n",
              "      <td>21</td>\n",
              "      <td>GODREJCP</td>\n",
              "      <td>Godrej Consumer Products Ltd.</td>\n",
              "      <td>PERSONAL CARE</td>\n",
              "      <td>1.022166e+09</td>\n",
              "      <td>29070.45</td>\n",
              "      <td>4.54</td>\n",
              "      <td>0.55</td>\n",
              "      <td>0.05</td>\n",
              "      <td>2.22</td>\n",
              "      <td>-20.602211</td>\n",
              "      <td>0.07</td>\n",
              "    </tr>\n",
              "    <tr>\n",
              "      <th>21</th>\n",
              "      <td>22</td>\n",
              "      <td>HDFCLIFE</td>\n",
              "      <td>HDFC Standard Life Insurance Company Ltd.</td>\n",
              "      <td>FINANCE</td>\n",
              "      <td>2.013908e+10</td>\n",
              "      <td>12618.34</td>\n",
              "      <td>1.97</td>\n",
              "      <td>0.86</td>\n",
              "      <td>0.08</td>\n",
              "      <td>2.40</td>\n",
              "      <td>-15.192204</td>\n",
              "      <td>0.04</td>\n",
              "    </tr>\n",
              "    <tr>\n",
              "      <th>22</th>\n",
              "      <td>23</td>\n",
              "      <td>HAVELLS</td>\n",
              "      <td>Havells India Ltd.</td>\n",
              "      <td>ELECTRICAL EQUIPMENT</td>\n",
              "      <td>6.254729e+08</td>\n",
              "      <td>14873.75</td>\n",
              "      <td>2.32</td>\n",
              "      <td>1.25</td>\n",
              "      <td>0.19</td>\n",
              "      <td>2.68</td>\n",
              "      <td>-18.028266</td>\n",
              "      <td>0.05</td>\n",
              "    </tr>\n",
              "    <tr>\n",
              "      <th>23</th>\n",
              "      <td>24</td>\n",
              "      <td>HINDZINC</td>\n",
              "      <td>Hindustan Zinc Ltd.</td>\n",
              "      <td>METALS</td>\n",
              "      <td>8.450638e+09</td>\n",
              "      <td>7334.31</td>\n",
              "      <td>1.15</td>\n",
              "      <td>1.10</td>\n",
              "      <td>0.19</td>\n",
              "      <td>2.11</td>\n",
              "      <td>-3.421799</td>\n",
              "      <td>0.05</td>\n",
              "    </tr>\n",
              "    <tr>\n",
              "      <th>24</th>\n",
              "      <td>25</td>\n",
              "      <td>ICICIGI</td>\n",
              "      <td>ICICI Lombard General Insurance Company Ltd.</td>\n",
              "      <td>FINANCE</td>\n",
              "      <td>4.540584e+09</td>\n",
              "      <td>7340.76</td>\n",
              "      <td>1.15</td>\n",
              "      <td>0.57</td>\n",
              "      <td>0.04</td>\n",
              "      <td>3.19</td>\n",
              "      <td>1.570648</td>\n",
              "      <td>0.07</td>\n",
              "    </tr>\n",
              "    <tr>\n",
              "      <th>25</th>\n",
              "      <td>26</td>\n",
              "      <td>ICICIPRULI</td>\n",
              "      <td>ICICI Prudential Life Insurance Company Ltd.</td>\n",
              "      <td>FINANCE</td>\n",
              "      <td>1.435566e+10</td>\n",
              "      <td>10061.52</td>\n",
              "      <td>1.57</td>\n",
              "      <td>1.08</td>\n",
              "      <td>0.15</td>\n",
              "      <td>2.36</td>\n",
              "      <td>-11.082989</td>\n",
              "      <td>0.06</td>\n",
              "    </tr>\n",
              "    <tr>\n",
              "      <th>26</th>\n",
              "      <td>27</td>\n",
              "      <td>INDIGO</td>\n",
              "      <td>InterGlobe Aviation Ltd.</td>\n",
              "      <td>TRAVEL AND TRANSPORT</td>\n",
              "      <td>3.844068e+09</td>\n",
              "      <td>7938.96</td>\n",
              "      <td>1.24</td>\n",
              "      <td>0.88</td>\n",
              "      <td>0.07</td>\n",
              "      <td>2.29</td>\n",
              "      <td>-11.062066</td>\n",
              "      <td>0.04</td>\n",
              "    </tr>\n",
              "    <tr>\n",
              "      <th>27</th>\n",
              "      <td>28</td>\n",
              "      <td>L&amp;TFH</td>\n",
              "      <td>L&amp;T Finance Holdings Ltd.</td>\n",
              "      <td>FINANCE</td>\n",
              "      <td>1.997050e+10</td>\n",
              "      <td>8023.35</td>\n",
              "      <td>1.25</td>\n",
              "      <td>1.83</td>\n",
              "      <td>0.30</td>\n",
              "      <td>3.01</td>\n",
              "      <td>-28.555678</td>\n",
              "      <td>0.07</td>\n",
              "    </tr>\n",
              "    <tr>\n",
              "      <th>28</th>\n",
              "      <td>29</td>\n",
              "      <td>LICHSGFIN</td>\n",
              "      <td>LIC Housing Finance Ltd.</td>\n",
              "      <td>FINANCE - HOUSING</td>\n",
              "      <td>1.009326e+09</td>\n",
              "      <td>12638.78</td>\n",
              "      <td>1.97</td>\n",
              "      <td>1.29</td>\n",
              "      <td>0.25</td>\n",
              "      <td>1.73</td>\n",
              "      <td>-19.869457</td>\n",
              "      <td>0.04</td>\n",
              "    </tr>\n",
              "    <tr>\n",
              "      <th>29</th>\n",
              "      <td>30</td>\n",
              "      <td>LUPIN</td>\n",
              "      <td>Lupin Ltd.</td>\n",
              "      <td>PHARMACEUTICALS</td>\n",
              "      <td>9.043421e+08</td>\n",
              "      <td>21591.33</td>\n",
              "      <td>3.37</td>\n",
              "      <td>1.15</td>\n",
              "      <td>0.14</td>\n",
              "      <td>2.02</td>\n",
              "      <td>-3.274465</td>\n",
              "      <td>0.04</td>\n",
              "    </tr>\n",
              "    <tr>\n",
              "      <th>30</th>\n",
              "      <td>31</td>\n",
              "      <td>MRF</td>\n",
              "      <td>MRF Ltd.</td>\n",
              "      <td>TYRES</td>\n",
              "      <td>4.241143e+07</td>\n",
              "      <td>13216.80</td>\n",
              "      <td>2.07</td>\n",
              "      <td>1.04</td>\n",
              "      <td>0.24</td>\n",
              "      <td>1.43</td>\n",
              "      <td>-14.087070</td>\n",
              "      <td>0.04</td>\n",
              "    </tr>\n",
              "    <tr>\n",
              "      <th>31</th>\n",
              "      <td>32</td>\n",
              "      <td>MARICO</td>\n",
              "      <td>Marico Ltd.</td>\n",
              "      <td>PERSONAL CARE</td>\n",
              "      <td>1.290864e+09</td>\n",
              "      <td>17196.90</td>\n",
              "      <td>2.69</td>\n",
              "      <td>0.69</td>\n",
              "      <td>0.10</td>\n",
              "      <td>1.55</td>\n",
              "      <td>-9.852483</td>\n",
              "      <td>0.04</td>\n",
              "    </tr>\n",
              "    <tr>\n",
              "      <th>32</th>\n",
              "      <td>33</td>\n",
              "      <td>MOTHERSUMI</td>\n",
              "      <td>Motherson Sumi Systems Ltd.</td>\n",
              "      <td>AUTO ANCILLARIES</td>\n",
              "      <td>2.105289e+09</td>\n",
              "      <td>20544.26</td>\n",
              "      <td>3.21</td>\n",
              "      <td>1.36</td>\n",
              "      <td>0.23</td>\n",
              "      <td>2.90</td>\n",
              "      <td>-15.554094</td>\n",
              "      <td>0.05</td>\n",
              "    </tr>\n",
              "    <tr>\n",
              "      <th>33</th>\n",
              "      <td>34</td>\n",
              "      <td>NHPC</td>\n",
              "      <td>NHPC Ltd.</td>\n",
              "      <td>POWER</td>\n",
              "      <td>1.025930e+11</td>\n",
              "      <td>5100.93</td>\n",
              "      <td>0.80</td>\n",
              "      <td>0.93</td>\n",
              "      <td>0.16</td>\n",
              "      <td>1.37</td>\n",
              "      <td>-10.848126</td>\n",
              "      <td>0.11</td>\n",
              "    </tr>\n",
              "    <tr>\n",
              "      <th>34</th>\n",
              "      <td>35</td>\n",
              "      <td>NMDC</td>\n",
              "      <td>NMDC Ltd.</td>\n",
              "      <td>MINING</td>\n",
              "      <td>3.163890e+09</td>\n",
              "      <td>10028.27</td>\n",
              "      <td>1.57</td>\n",
              "      <td>1.35</td>\n",
              "      <td>0.21</td>\n",
              "      <td>2.29</td>\n",
              "      <td>1.524664</td>\n",
              "      <td>0.06</td>\n",
              "    </tr>\n",
              "    <tr>\n",
              "      <th>35</th>\n",
              "      <td>36</td>\n",
              "      <td>OIL</td>\n",
              "      <td>Oil India Ltd.</td>\n",
              "      <td>OIL EXPLORATION/PRODUCTION</td>\n",
              "      <td>1.134904e+10</td>\n",
              "      <td>5980.04</td>\n",
              "      <td>0.93</td>\n",
              "      <td>0.51</td>\n",
              "      <td>0.04</td>\n",
              "      <td>1.65</td>\n",
              "      <td>2.785581</td>\n",
              "      <td>0.05</td>\n",
              "    </tr>\n",
              "    <tr>\n",
              "      <th>36</th>\n",
              "      <td>37</td>\n",
              "      <td>OFSS</td>\n",
              "      <td>Oracle Financial Services Software Ltd.</td>\n",
              "      <td>COMPUTERS - SOFTWARE</td>\n",
              "      <td>4.283282e+08</td>\n",
              "      <td>8723.13</td>\n",
              "      <td>1.36</td>\n",
              "      <td>0.50</td>\n",
              "      <td>0.05</td>\n",
              "      <td>2.62</td>\n",
              "      <td>-5.859093</td>\n",
              "      <td>0.07</td>\n",
              "    </tr>\n",
              "    <tr>\n",
              "      <th>37</th>\n",
              "      <td>38</td>\n",
              "      <td>PETRONET</td>\n",
              "      <td>Petronet LNG Ltd.</td>\n",
              "      <td>GAS</td>\n",
              "      <td>1.500000e+10</td>\n",
              "      <td>16856.25</td>\n",
              "      <td>2.63</td>\n",
              "      <td>0.78</td>\n",
              "      <td>0.08</td>\n",
              "      <td>1.67</td>\n",
              "      <td>-9.393267</td>\n",
              "      <td>0.06</td>\n",
              "    </tr>\n",
              "    <tr>\n",
              "      <th>38</th>\n",
              "      <td>39</td>\n",
              "      <td>PIDILITIND</td>\n",
              "      <td>Pidilite Industries Ltd.</td>\n",
              "      <td>CHEMICALS - SPECIALITY</td>\n",
              "      <td>5.078367e+08</td>\n",
              "      <td>15933.63</td>\n",
              "      <td>2.49</td>\n",
              "      <td>0.85</td>\n",
              "      <td>0.15</td>\n",
              "      <td>1.92</td>\n",
              "      <td>-10.507851</td>\n",
              "      <td>0.04</td>\n",
              "    </tr>\n",
              "    <tr>\n",
              "      <th>39</th>\n",
              "      <td>40</td>\n",
              "      <td>PEL</td>\n",
              "      <td>Piramal Enterprises Ltd.</td>\n",
              "      <td>PHARMACEUTICALS</td>\n",
              "      <td>3.614204e+08</td>\n",
              "      <td>19944.77</td>\n",
              "      <td>3.12</td>\n",
              "      <td>1.50</td>\n",
              "      <td>0.26</td>\n",
              "      <td>2.95</td>\n",
              "      <td>-28.139698</td>\n",
              "      <td>0.05</td>\n",
              "    </tr>\n",
              "    <tr>\n",
              "      <th>40</th>\n",
              "      <td>41</td>\n",
              "      <td>PGHH</td>\n",
              "      <td>Procter &amp; Gamble Hygiene &amp; Health Care Ltd.</td>\n",
              "      <td>PERSONAL CARE</td>\n",
              "      <td>3.246074e+08</td>\n",
              "      <td>9149.56</td>\n",
              "      <td>1.43</td>\n",
              "      <td>0.07</td>\n",
              "      <td>0.00</td>\n",
              "      <td>1.27</td>\n",
              "      <td>-5.376396</td>\n",
              "      <td>0.14</td>\n",
              "    </tr>\n",
              "    <tr>\n",
              "      <th>41</th>\n",
              "      <td>42</td>\n",
              "      <td>SBILIFE</td>\n",
              "      <td>SBI Life Insurance Company Ltd.</td>\n",
              "      <td>FINANCE</td>\n",
              "      <td>1.000000e+10</td>\n",
              "      <td>6139.20</td>\n",
              "      <td>0.96</td>\n",
              "      <td>0.57</td>\n",
              "      <td>0.05</td>\n",
              "      <td>2.37</td>\n",
              "      <td>-23.914337</td>\n",
              "      <td>0.07</td>\n",
              "    </tr>\n",
              "    <tr>\n",
              "      <th>42</th>\n",
              "      <td>43</td>\n",
              "      <td>SHREECEM</td>\n",
              "      <td>Shree Cement Ltd.</td>\n",
              "      <td>CEMENT AND CEMENT PRODUCTS</td>\n",
              "      <td>3.483722e+08</td>\n",
              "      <td>20596.77</td>\n",
              "      <td>3.22</td>\n",
              "      <td>0.84</td>\n",
              "      <td>0.12</td>\n",
              "      <td>2.15</td>\n",
              "      <td>-10.744856</td>\n",
              "      <td>0.09</td>\n",
              "    </tr>\n",
              "    <tr>\n",
              "      <th>43</th>\n",
              "      <td>44</td>\n",
              "      <td>SRTRANSFIN</td>\n",
              "      <td>Shriram Transport Finance Co. Ltd.</td>\n",
              "      <td>FINANCE</td>\n",
              "      <td>2.268827e+09</td>\n",
              "      <td>16712.36</td>\n",
              "      <td>2.61</td>\n",
              "      <td>1.21</td>\n",
              "      <td>0.12</td>\n",
              "      <td>2.11</td>\n",
              "      <td>-13.838149</td>\n",
              "      <td>0.05</td>\n",
              "    </tr>\n",
              "    <tr>\n",
              "      <th>44</th>\n",
              "      <td>45</td>\n",
              "      <td>SIEMENS</td>\n",
              "      <td>Siemens Ltd.</td>\n",
              "      <td>ELECTRICAL EQUIPMENT</td>\n",
              "      <td>7.122405e+08</td>\n",
              "      <td>8414.68</td>\n",
              "      <td>1.31</td>\n",
              "      <td>1.05</td>\n",
              "      <td>0.22</td>\n",
              "      <td>1.68</td>\n",
              "      <td>-7.315519</td>\n",
              "      <td>0.06</td>\n",
              "    </tr>\n",
              "    <tr>\n",
              "      <th>45</th>\n",
              "      <td>46</td>\n",
              "      <td>SAIL</td>\n",
              "      <td>Steel Authority of India Ltd.</td>\n",
              "      <td>STEEL AND STEEL PRODUCTS</td>\n",
              "      <td>4.130525e+10</td>\n",
              "      <td>7047.71</td>\n",
              "      <td>1.10</td>\n",
              "      <td>2.30</td>\n",
              "      <td>0.26</td>\n",
              "      <td>2.83</td>\n",
              "      <td>-14.527239</td>\n",
              "      <td>0.05</td>\n",
              "    </tr>\n",
              "    <tr>\n",
              "      <th>46</th>\n",
              "      <td>47</td>\n",
              "      <td>SUNTV</td>\n",
              "      <td>Sun TV Network Ltd.</td>\n",
              "      <td>MEDIA &amp; ENTERTAINMENT</td>\n",
              "      <td>1.970423e+09</td>\n",
              "      <td>6051.66</td>\n",
              "      <td>0.95</td>\n",
              "      <td>1.46</td>\n",
              "      <td>0.20</td>\n",
              "      <td>2.33</td>\n",
              "      <td>-19.831637</td>\n",
              "      <td>0.05</td>\n",
              "    </tr>\n",
              "    <tr>\n",
              "      <th>47</th>\n",
              "      <td>48</td>\n",
              "      <td>NIACL</td>\n",
              "      <td>The New India Assurance Company Ltd.</td>\n",
              "      <td>FINANCE</td>\n",
              "      <td>8.240000e+09</td>\n",
              "      <td>5554.58</td>\n",
              "      <td>0.87</td>\n",
              "      <td>0.58</td>\n",
              "      <td>0.04</td>\n",
              "      <td>1.88</td>\n",
              "      <td>-10.155938</td>\n",
              "      <td>0.18</td>\n",
              "    </tr>\n",
              "    <tr>\n",
              "      <th>48</th>\n",
              "      <td>49</td>\n",
              "      <td>MCDOWELL-N</td>\n",
              "      <td>United Spirits Ltd.</td>\n",
              "      <td>BREW/DISTILLERIES</td>\n",
              "      <td>1.453277e+09</td>\n",
              "      <td>15322.12</td>\n",
              "      <td>2.39</td>\n",
              "      <td>1.37</td>\n",
              "      <td>0.16</td>\n",
              "      <td>1.79</td>\n",
              "      <td>-18.397461</td>\n",
              "      <td>0.06</td>\n",
              "    </tr>\n",
              "    <tr>\n",
              "      <th>49</th>\n",
              "      <td>50</td>\n",
              "      <td>IDEA</td>\n",
              "      <td>Vodafone Idea Ltd.</td>\n",
              "      <td>TELECOMMUNICATION - SERVICES</td>\n",
              "      <td>8.735139e+10</td>\n",
              "      <td>7071.53</td>\n",
              "      <td>1.10</td>\n",
              "      <td>1.23</td>\n",
              "      <td>0.08</td>\n",
              "      <td>3.04</td>\n",
              "      <td>-21.884498</td>\n",
              "      <td>0.07</td>\n",
              "    </tr>\n",
              "  </tbody>\n",
              "</table>\n",
              "</div>"
            ],
            "text/plain": [
              "   Sr. No Security Symbol  ... Monthly Return Avg. Impact Cost (%)\n",
              "0       1             ABB  ...       7.749924                 0.08\n",
              "1       2             ACC  ...      -5.272311                 0.04\n",
              "2       3       ABCAPITAL  ...     -18.831858                 0.08\n",
              "3       4       AMBUJACEM  ...      -7.375181                 0.05\n",
              "4       5        ASHOKLEY  ...      -7.710190                 0.03\n",
              "5       6      AUROPHARMA  ...       4.447562                 0.03\n",
              "6       7           DMART  ...     -12.997819                 0.06\n",
              "7       8      BANDHANBNK  ...     -18.645653                 0.06\n",
              "8       9      BANKBARODA  ...     -34.946061                 0.05\n",
              "9      10             BEL  ...     -29.251101                 0.05\n",
              "10     11            BHEL  ...     -15.012407                 0.05\n",
              "11     12          BIOCON  ...      10.793269                 0.04\n",
              "12     13        BOSCHLTD  ...      -9.350692                 0.08\n",
              "13     14       BRITANNIA  ...     -13.556240                 0.05\n",
              "14     15        CADILAHC  ...      -4.171322                 0.06\n",
              "15     16          COLPAL  ...      -7.489307                 0.06\n",
              "16     17          CONCOR  ...      -3.743192                 0.05\n",
              "17     18             DLF  ...     -26.381341                 0.05\n",
              "18     19           DABUR  ...     -10.830287                 0.05\n",
              "19     20           GICRE  ...      -1.766467                 0.11\n",
              "20     21        GODREJCP  ...     -20.602211                 0.07\n",
              "21     22        HDFCLIFE  ...     -15.192204                 0.04\n",
              "22     23         HAVELLS  ...     -18.028266                 0.05\n",
              "23     24        HINDZINC  ...      -3.421799                 0.05\n",
              "24     25         ICICIGI  ...       1.570648                 0.07\n",
              "25     26      ICICIPRULI  ...     -11.082989                 0.06\n",
              "26     27          INDIGO  ...     -11.062066                 0.04\n",
              "27     28           L&TFH  ...     -28.555678                 0.07\n",
              "28     29       LICHSGFIN  ...     -19.869457                 0.04\n",
              "29     30           LUPIN  ...      -3.274465                 0.04\n",
              "30     31             MRF  ...     -14.087070                 0.04\n",
              "31     32          MARICO  ...      -9.852483                 0.04\n",
              "32     33      MOTHERSUMI  ...     -15.554094                 0.05\n",
              "33     34            NHPC  ...     -10.848126                 0.11\n",
              "34     35            NMDC  ...       1.524664                 0.06\n",
              "35     36             OIL  ...       2.785581                 0.05\n",
              "36     37            OFSS  ...      -5.859093                 0.07\n",
              "37     38        PETRONET  ...      -9.393267                 0.06\n",
              "38     39      PIDILITIND  ...     -10.507851                 0.04\n",
              "39     40             PEL  ...     -28.139698                 0.05\n",
              "40     41            PGHH  ...      -5.376396                 0.14\n",
              "41     42         SBILIFE  ...     -23.914337                 0.07\n",
              "42     43        SHREECEM  ...     -10.744856                 0.09\n",
              "43     44      SRTRANSFIN  ...     -13.838149                 0.05\n",
              "44     45         SIEMENS  ...      -7.315519                 0.06\n",
              "45     46            SAIL  ...     -14.527239                 0.05\n",
              "46     47           SUNTV  ...     -19.831637                 0.05\n",
              "47     48           NIACL  ...     -10.155938                 0.18\n",
              "48     49      MCDOWELL-N  ...     -18.397461                 0.06\n",
              "49     50            IDEA  ...     -21.884498                 0.07\n",
              "\n",
              "[50 rows x 12 columns]"
            ]
          },
          "metadata": {
            "tags": []
          },
          "execution_count": 4
        }
      ]
    },
    {
      "cell_type": "code",
      "metadata": {
        "id": "DIAnsn0Jcbgo"
      },
      "source": [
        "x1=x.sort_values(by=['Monthly Return'])"
      ],
      "execution_count": null,
      "outputs": []
    },
    {
      "cell_type": "code",
      "metadata": {
        "colab": {
          "base_uri": "https://localhost:8080/",
          "height": 433
        },
        "id": "2Q9qpWUDhyi0",
        "outputId": "af7fe7a7-7a41-4f69-8a5e-ab8c98636265"
      },
      "source": [
        "x1.head(10)"
      ],
      "execution_count": null,
      "outputs": [
        {
          "output_type": "execute_result",
          "data": {
            "text/html": [
              "<div>\n",
              "<style scoped>\n",
              "    .dataframe tbody tr th:only-of-type {\n",
              "        vertical-align: middle;\n",
              "    }\n",
              "\n",
              "    .dataframe tbody tr th {\n",
              "        vertical-align: top;\n",
              "    }\n",
              "\n",
              "    .dataframe thead th {\n",
              "        text-align: right;\n",
              "    }\n",
              "</style>\n",
              "<table border=\"1\" class=\"dataframe\">\n",
              "  <thead>\n",
              "    <tr style=\"text-align: right;\">\n",
              "      <th></th>\n",
              "      <th>Sr. No</th>\n",
              "      <th>Security Symbol</th>\n",
              "      <th>Security Name</th>\n",
              "      <th>Industry</th>\n",
              "      <th>Equity Capital (In Rs.)</th>\n",
              "      <th>Free Float Market Capitalisation (Rs. Crores)</th>\n",
              "      <th>Weightage (%)</th>\n",
              "      <th>Beta</th>\n",
              "      <th>R2</th>\n",
              "      <th>Volatility (%)</th>\n",
              "      <th>Monthly Return</th>\n",
              "      <th>Avg. Impact Cost (%)</th>\n",
              "    </tr>\n",
              "  </thead>\n",
              "  <tbody>\n",
              "    <tr>\n",
              "      <th>8</th>\n",
              "      <td>9</td>\n",
              "      <td>BANKBARODA</td>\n",
              "      <td>Bank of Baroda</td>\n",
              "      <td>BANKS</td>\n",
              "      <td>5.291032e+09</td>\n",
              "      <td>9476.24</td>\n",
              "      <td>1.48</td>\n",
              "      <td>2.14</td>\n",
              "      <td>0.17</td>\n",
              "      <td>4.22</td>\n",
              "      <td>-34.946061</td>\n",
              "      <td>0.05</td>\n",
              "    </tr>\n",
              "    <tr>\n",
              "      <th>9</th>\n",
              "      <td>10</td>\n",
              "      <td>BEL</td>\n",
              "      <td>Bharat Electronics Ltd.</td>\n",
              "      <td>ELECTRONICS - INDUSTRIAL</td>\n",
              "      <td>2.436593e+09</td>\n",
              "      <td>6652.39</td>\n",
              "      <td>1.04</td>\n",
              "      <td>1.31</td>\n",
              "      <td>0.13</td>\n",
              "      <td>4.19</td>\n",
              "      <td>-29.251101</td>\n",
              "      <td>0.05</td>\n",
              "    </tr>\n",
              "    <tr>\n",
              "      <th>27</th>\n",
              "      <td>28</td>\n",
              "      <td>L&amp;TFH</td>\n",
              "      <td>L&amp;T Finance Holdings Ltd.</td>\n",
              "      <td>FINANCE</td>\n",
              "      <td>1.997050e+10</td>\n",
              "      <td>8023.35</td>\n",
              "      <td>1.25</td>\n",
              "      <td>1.83</td>\n",
              "      <td>0.30</td>\n",
              "      <td>3.01</td>\n",
              "      <td>-28.555678</td>\n",
              "      <td>0.07</td>\n",
              "    </tr>\n",
              "    <tr>\n",
              "      <th>39</th>\n",
              "      <td>40</td>\n",
              "      <td>PEL</td>\n",
              "      <td>Piramal Enterprises Ltd.</td>\n",
              "      <td>PHARMACEUTICALS</td>\n",
              "      <td>3.614204e+08</td>\n",
              "      <td>19944.77</td>\n",
              "      <td>3.12</td>\n",
              "      <td>1.50</td>\n",
              "      <td>0.26</td>\n",
              "      <td>2.95</td>\n",
              "      <td>-28.139698</td>\n",
              "      <td>0.05</td>\n",
              "    </tr>\n",
              "    <tr>\n",
              "      <th>17</th>\n",
              "      <td>18</td>\n",
              "      <td>DLF</td>\n",
              "      <td>DLF Ltd.</td>\n",
              "      <td>CONSTRUCTION</td>\n",
              "      <td>3.568660e+09</td>\n",
              "      <td>7251.07</td>\n",
              "      <td>1.13</td>\n",
              "      <td>1.93</td>\n",
              "      <td>0.28</td>\n",
              "      <td>3.26</td>\n",
              "      <td>-26.381341</td>\n",
              "      <td>0.05</td>\n",
              "    </tr>\n",
              "    <tr>\n",
              "      <th>41</th>\n",
              "      <td>42</td>\n",
              "      <td>SBILIFE</td>\n",
              "      <td>SBI Life Insurance Company Ltd.</td>\n",
              "      <td>FINANCE</td>\n",
              "      <td>1.000000e+10</td>\n",
              "      <td>6139.20</td>\n",
              "      <td>0.96</td>\n",
              "      <td>0.57</td>\n",
              "      <td>0.05</td>\n",
              "      <td>2.37</td>\n",
              "      <td>-23.914337</td>\n",
              "      <td>0.07</td>\n",
              "    </tr>\n",
              "    <tr>\n",
              "      <th>49</th>\n",
              "      <td>50</td>\n",
              "      <td>IDEA</td>\n",
              "      <td>Vodafone Idea Ltd.</td>\n",
              "      <td>TELECOMMUNICATION - SERVICES</td>\n",
              "      <td>8.735139e+10</td>\n",
              "      <td>7071.53</td>\n",
              "      <td>1.10</td>\n",
              "      <td>1.23</td>\n",
              "      <td>0.08</td>\n",
              "      <td>3.04</td>\n",
              "      <td>-21.884498</td>\n",
              "      <td>0.07</td>\n",
              "    </tr>\n",
              "    <tr>\n",
              "      <th>20</th>\n",
              "      <td>21</td>\n",
              "      <td>GODREJCP</td>\n",
              "      <td>Godrej Consumer Products Ltd.</td>\n",
              "      <td>PERSONAL CARE</td>\n",
              "      <td>1.022166e+09</td>\n",
              "      <td>29070.45</td>\n",
              "      <td>4.54</td>\n",
              "      <td>0.55</td>\n",
              "      <td>0.05</td>\n",
              "      <td>2.22</td>\n",
              "      <td>-20.602211</td>\n",
              "      <td>0.07</td>\n",
              "    </tr>\n",
              "    <tr>\n",
              "      <th>28</th>\n",
              "      <td>29</td>\n",
              "      <td>LICHSGFIN</td>\n",
              "      <td>LIC Housing Finance Ltd.</td>\n",
              "      <td>FINANCE - HOUSING</td>\n",
              "      <td>1.009326e+09</td>\n",
              "      <td>12638.78</td>\n",
              "      <td>1.97</td>\n",
              "      <td>1.29</td>\n",
              "      <td>0.25</td>\n",
              "      <td>1.73</td>\n",
              "      <td>-19.869457</td>\n",
              "      <td>0.04</td>\n",
              "    </tr>\n",
              "    <tr>\n",
              "      <th>46</th>\n",
              "      <td>47</td>\n",
              "      <td>SUNTV</td>\n",
              "      <td>Sun TV Network Ltd.</td>\n",
              "      <td>MEDIA &amp; ENTERTAINMENT</td>\n",
              "      <td>1.970423e+09</td>\n",
              "      <td>6051.66</td>\n",
              "      <td>0.95</td>\n",
              "      <td>1.46</td>\n",
              "      <td>0.20</td>\n",
              "      <td>2.33</td>\n",
              "      <td>-19.831637</td>\n",
              "      <td>0.05</td>\n",
              "    </tr>\n",
              "  </tbody>\n",
              "</table>\n",
              "</div>"
            ],
            "text/plain": [
              "   Sr. No Security Symbol  ... Monthly Return Avg. Impact Cost (%)\n",
              "8       9      BANKBARODA  ...     -34.946061                 0.05\n",
              "9      10             BEL  ...     -29.251101                 0.05\n",
              "27     28           L&TFH  ...     -28.555678                 0.07\n",
              "39     40             PEL  ...     -28.139698                 0.05\n",
              "17     18             DLF  ...     -26.381341                 0.05\n",
              "41     42         SBILIFE  ...     -23.914337                 0.07\n",
              "49     50            IDEA  ...     -21.884498                 0.07\n",
              "20     21        GODREJCP  ...     -20.602211                 0.07\n",
              "28     29       LICHSGFIN  ...     -19.869457                 0.04\n",
              "46     47           SUNTV  ...     -19.831637                 0.05\n",
              "\n",
              "[10 rows x 12 columns]"
            ]
          },
          "metadata": {
            "tags": []
          },
          "execution_count": 6
        }
      ]
    },
    {
      "cell_type": "code",
      "metadata": {
        "id": "DAJSBPeRix6E"
      },
      "source": [
        "x2=x.nlargest(5,['Monthly Return'])"
      ],
      "execution_count": null,
      "outputs": []
    },
    {
      "cell_type": "code",
      "metadata": {
        "colab": {
          "base_uri": "https://localhost:8080/",
          "height": 259
        },
        "id": "g0VkrpdHjKkF",
        "outputId": "37699888-2e61-4d9a-9019-085641f51bd6"
      },
      "source": [
        "x2"
      ],
      "execution_count": null,
      "outputs": [
        {
          "output_type": "execute_result",
          "data": {
            "text/html": [
              "<div>\n",
              "<style scoped>\n",
              "    .dataframe tbody tr th:only-of-type {\n",
              "        vertical-align: middle;\n",
              "    }\n",
              "\n",
              "    .dataframe tbody tr th {\n",
              "        vertical-align: top;\n",
              "    }\n",
              "\n",
              "    .dataframe thead th {\n",
              "        text-align: right;\n",
              "    }\n",
              "</style>\n",
              "<table border=\"1\" class=\"dataframe\">\n",
              "  <thead>\n",
              "    <tr style=\"text-align: right;\">\n",
              "      <th></th>\n",
              "      <th>Sr. No</th>\n",
              "      <th>Security Symbol</th>\n",
              "      <th>Security Name</th>\n",
              "      <th>Industry</th>\n",
              "      <th>Equity Capital (In Rs.)</th>\n",
              "      <th>Free Float Market Capitalisation (Rs. Crores)</th>\n",
              "      <th>Weightage (%)</th>\n",
              "      <th>Beta</th>\n",
              "      <th>R2</th>\n",
              "      <th>Volatility (%)</th>\n",
              "      <th>Monthly Return</th>\n",
              "      <th>Avg. Impact Cost (%)</th>\n",
              "    </tr>\n",
              "  </thead>\n",
              "  <tbody>\n",
              "    <tr>\n",
              "      <th>11</th>\n",
              "      <td>12</td>\n",
              "      <td>BIOCON</td>\n",
              "      <td>Biocon Ltd.</td>\n",
              "      <td>PHARMACEUTICALS</td>\n",
              "      <td>3.000000e+09</td>\n",
              "      <td>14518.35</td>\n",
              "      <td>2.27</td>\n",
              "      <td>1.12</td>\n",
              "      <td>0.10</td>\n",
              "      <td>2.87</td>\n",
              "      <td>10.793269</td>\n",
              "      <td>0.04</td>\n",
              "    </tr>\n",
              "    <tr>\n",
              "      <th>0</th>\n",
              "      <td>1</td>\n",
              "      <td>ABB</td>\n",
              "      <td>ABB India Ltd.</td>\n",
              "      <td>ELECTRICAL EQUIPMENT</td>\n",
              "      <td>4.238168e+08</td>\n",
              "      <td>7468.71</td>\n",
              "      <td>1.17</td>\n",
              "      <td>0.83</td>\n",
              "      <td>0.13</td>\n",
              "      <td>2.06</td>\n",
              "      <td>7.749924</td>\n",
              "      <td>0.08</td>\n",
              "    </tr>\n",
              "    <tr>\n",
              "      <th>5</th>\n",
              "      <td>6</td>\n",
              "      <td>AUROPHARMA</td>\n",
              "      <td>Aurobindo Pharma Ltd.</td>\n",
              "      <td>PHARMACEUTICALS</td>\n",
              "      <td>5.859076e+08</td>\n",
              "      <td>20936.59</td>\n",
              "      <td>3.27</td>\n",
              "      <td>1.20</td>\n",
              "      <td>0.16</td>\n",
              "      <td>3.28</td>\n",
              "      <td>4.447562</td>\n",
              "      <td>0.03</td>\n",
              "    </tr>\n",
              "    <tr>\n",
              "      <th>35</th>\n",
              "      <td>36</td>\n",
              "      <td>OIL</td>\n",
              "      <td>Oil India Ltd.</td>\n",
              "      <td>OIL EXPLORATION/PRODUCTION</td>\n",
              "      <td>1.134904e+10</td>\n",
              "      <td>5980.04</td>\n",
              "      <td>0.93</td>\n",
              "      <td>0.51</td>\n",
              "      <td>0.04</td>\n",
              "      <td>1.65</td>\n",
              "      <td>2.785581</td>\n",
              "      <td>0.05</td>\n",
              "    </tr>\n",
              "    <tr>\n",
              "      <th>24</th>\n",
              "      <td>25</td>\n",
              "      <td>ICICIGI</td>\n",
              "      <td>ICICI Lombard General Insurance Company Ltd.</td>\n",
              "      <td>FINANCE</td>\n",
              "      <td>4.540584e+09</td>\n",
              "      <td>7340.76</td>\n",
              "      <td>1.15</td>\n",
              "      <td>0.57</td>\n",
              "      <td>0.04</td>\n",
              "      <td>3.19</td>\n",
              "      <td>1.570648</td>\n",
              "      <td>0.07</td>\n",
              "    </tr>\n",
              "  </tbody>\n",
              "</table>\n",
              "</div>"
            ],
            "text/plain": [
              "   Sr. No Security Symbol  ... Monthly Return Avg. Impact Cost (%)\n",
              "11     12          BIOCON  ...      10.793269                 0.04\n",
              "0       1             ABB  ...       7.749924                 0.08\n",
              "5       6      AUROPHARMA  ...       4.447562                 0.03\n",
              "35     36             OIL  ...       2.785581                 0.05\n",
              "24     25         ICICIGI  ...       1.570648                 0.07\n",
              "\n",
              "[5 rows x 12 columns]"
            ]
          },
          "metadata": {
            "tags": []
          },
          "execution_count": 8
        }
      ]
    },
    {
      "cell_type": "code",
      "metadata": {
        "id": "YPeRXGEYEOpA"
      },
      "source": [
        "x3 =pd.DataFrame(x2[['Security Name','Weightage (%)','Monthly Return']])"
      ],
      "execution_count": null,
      "outputs": []
    },
    {
      "cell_type": "code",
      "metadata": {
        "colab": {
          "base_uri": "https://localhost:8080/",
          "height": 207
        },
        "id": "t2ouEtThGaai",
        "outputId": "1de84143-f568-4089-c6bb-92b53c8f95de"
      },
      "source": [
        "x3"
      ],
      "execution_count": null,
      "outputs": [
        {
          "output_type": "execute_result",
          "data": {
            "text/html": [
              "<div>\n",
              "<style scoped>\n",
              "    .dataframe tbody tr th:only-of-type {\n",
              "        vertical-align: middle;\n",
              "    }\n",
              "\n",
              "    .dataframe tbody tr th {\n",
              "        vertical-align: top;\n",
              "    }\n",
              "\n",
              "    .dataframe thead th {\n",
              "        text-align: right;\n",
              "    }\n",
              "</style>\n",
              "<table border=\"1\" class=\"dataframe\">\n",
              "  <thead>\n",
              "    <tr style=\"text-align: right;\">\n",
              "      <th></th>\n",
              "      <th>Security Name</th>\n",
              "      <th>Weightage (%)</th>\n",
              "      <th>Monthly Return</th>\n",
              "    </tr>\n",
              "  </thead>\n",
              "  <tbody>\n",
              "    <tr>\n",
              "      <th>11</th>\n",
              "      <td>Biocon Ltd.</td>\n",
              "      <td>2.27</td>\n",
              "      <td>10.793269</td>\n",
              "    </tr>\n",
              "    <tr>\n",
              "      <th>0</th>\n",
              "      <td>ABB India Ltd.</td>\n",
              "      <td>1.17</td>\n",
              "      <td>7.749924</td>\n",
              "    </tr>\n",
              "    <tr>\n",
              "      <th>5</th>\n",
              "      <td>Aurobindo Pharma Ltd.</td>\n",
              "      <td>3.27</td>\n",
              "      <td>4.447562</td>\n",
              "    </tr>\n",
              "    <tr>\n",
              "      <th>35</th>\n",
              "      <td>Oil India Ltd.</td>\n",
              "      <td>0.93</td>\n",
              "      <td>2.785581</td>\n",
              "    </tr>\n",
              "    <tr>\n",
              "      <th>24</th>\n",
              "      <td>ICICI Lombard General Insurance Company Ltd.</td>\n",
              "      <td>1.15</td>\n",
              "      <td>1.570648</td>\n",
              "    </tr>\n",
              "  </tbody>\n",
              "</table>\n",
              "</div>"
            ],
            "text/plain": [
              "                                   Security Name  Weightage (%)  Monthly Return\n",
              "11                                   Biocon Ltd.           2.27       10.793269\n",
              "0                                 ABB India Ltd.           1.17        7.749924\n",
              "5                          Aurobindo Pharma Ltd.           3.27        4.447562\n",
              "35                                Oil India Ltd.           0.93        2.785581\n",
              "24  ICICI Lombard General Insurance Company Ltd.           1.15        1.570648"
            ]
          },
          "metadata": {
            "tags": []
          },
          "execution_count": 10
        }
      ]
    },
    {
      "cell_type": "markdown",
      "metadata": {
        "id": "Hcoj2zQOvEpk"
      },
      "source": [
        "Nifty Next 50"
      ]
    },
    {
      "cell_type": "code",
      "metadata": {
        "colab": {
          "base_uri": "https://localhost:8080/",
          "height": 207
        },
        "id": "j_5S0UAskp39",
        "outputId": "119c838c-a6b9-4eff-b7b7-c5ec89133e64"
      },
      "source": [
        "sep=pd.read_csv('1niftynext50_mcwb.csv',header=2).dropna().nlargest(5,['Monthly Return']).loc[:, ['Security Name','Weightage (%)','Monthly Return']]\n",
        "sep\n"
      ],
      "execution_count": null,
      "outputs": [
        {
          "output_type": "execute_result",
          "data": {
            "text/html": [
              "<div>\n",
              "<style scoped>\n",
              "    .dataframe tbody tr th:only-of-type {\n",
              "        vertical-align: middle;\n",
              "    }\n",
              "\n",
              "    .dataframe tbody tr th {\n",
              "        vertical-align: top;\n",
              "    }\n",
              "\n",
              "    .dataframe thead th {\n",
              "        text-align: right;\n",
              "    }\n",
              "</style>\n",
              "<table border=\"1\" class=\"dataframe\">\n",
              "  <thead>\n",
              "    <tr style=\"text-align: right;\">\n",
              "      <th></th>\n",
              "      <th>Security Name</th>\n",
              "      <th>Weightage (%)</th>\n",
              "      <th>Monthly Return</th>\n",
              "    </tr>\n",
              "  </thead>\n",
              "  <tbody>\n",
              "    <tr>\n",
              "      <th>11</th>\n",
              "      <td>Biocon Ltd.</td>\n",
              "      <td>2.27</td>\n",
              "      <td>10.793269</td>\n",
              "    </tr>\n",
              "    <tr>\n",
              "      <th>0</th>\n",
              "      <td>ABB India Ltd.</td>\n",
              "      <td>1.17</td>\n",
              "      <td>7.749924</td>\n",
              "    </tr>\n",
              "    <tr>\n",
              "      <th>5</th>\n",
              "      <td>Aurobindo Pharma Ltd.</td>\n",
              "      <td>3.27</td>\n",
              "      <td>4.447562</td>\n",
              "    </tr>\n",
              "    <tr>\n",
              "      <th>35</th>\n",
              "      <td>Oil India Ltd.</td>\n",
              "      <td>0.93</td>\n",
              "      <td>2.785581</td>\n",
              "    </tr>\n",
              "    <tr>\n",
              "      <th>24</th>\n",
              "      <td>ICICI Lombard General Insurance Company Ltd.</td>\n",
              "      <td>1.15</td>\n",
              "      <td>1.570648</td>\n",
              "    </tr>\n",
              "  </tbody>\n",
              "</table>\n",
              "</div>"
            ],
            "text/plain": [
              "                                   Security Name  Weightage (%)  Monthly Return\n",
              "11                                   Biocon Ltd.           2.27       10.793269\n",
              "0                                 ABB India Ltd.           1.17        7.749924\n",
              "5                          Aurobindo Pharma Ltd.           3.27        4.447562\n",
              "35                                Oil India Ltd.           0.93        2.785581\n",
              "24  ICICI Lombard General Insurance Company Ltd.           1.15        1.570648"
            ]
          },
          "metadata": {
            "tags": []
          },
          "execution_count": 11
        }
      ]
    },
    {
      "cell_type": "code",
      "metadata": {
        "colab": {
          "base_uri": "https://localhost:8080/",
          "height": 207
        },
        "id": "wuOfkH8_qbC9",
        "outputId": "a41e499d-9b0f-491f-de7f-d1647d0af1d5"
      },
      "source": [
        "oct=pd.read_csv('2niftynext50_mcwb.csv',header=2).dropna().nlargest(5,['Monthly Return']).loc[:, ['Security Name','Weightage (%)','Monthly Return']]\n",
        "oct"
      ],
      "execution_count": null,
      "outputs": [
        {
          "output_type": "execute_result",
          "data": {
            "text/html": [
              "<div>\n",
              "<style scoped>\n",
              "    .dataframe tbody tr th:only-of-type {\n",
              "        vertical-align: middle;\n",
              "    }\n",
              "\n",
              "    .dataframe tbody tr th {\n",
              "        vertical-align: top;\n",
              "    }\n",
              "\n",
              "    .dataframe thead th {\n",
              "        text-align: right;\n",
              "    }\n",
              "</style>\n",
              "<table border=\"1\" class=\"dataframe\">\n",
              "  <thead>\n",
              "    <tr style=\"text-align: right;\">\n",
              "      <th></th>\n",
              "      <th>Security Name</th>\n",
              "      <th>Weightage (%)</th>\n",
              "      <th>Monthly Return</th>\n",
              "    </tr>\n",
              "  </thead>\n",
              "  <tbody>\n",
              "    <tr>\n",
              "      <th>9</th>\n",
              "      <td>Bharat Electronics Ltd.</td>\n",
              "      <td>1.24</td>\n",
              "      <td>15.88</td>\n",
              "    </tr>\n",
              "    <tr>\n",
              "      <th>48</th>\n",
              "      <td>United Spirits Ltd.</td>\n",
              "      <td>2.76</td>\n",
              "      <td>12.15</td>\n",
              "    </tr>\n",
              "    <tr>\n",
              "      <th>8</th>\n",
              "      <td>Bank of Baroda</td>\n",
              "      <td>1.69</td>\n",
              "      <td>11.21</td>\n",
              "    </tr>\n",
              "    <tr>\n",
              "      <th>41</th>\n",
              "      <td>SBI Life Insurance Company Ltd.</td>\n",
              "      <td>1.08</td>\n",
              "      <td>9.54</td>\n",
              "    </tr>\n",
              "    <tr>\n",
              "      <th>22</th>\n",
              "      <td>Havells India Ltd.</td>\n",
              "      <td>2.60</td>\n",
              "      <td>8.63</td>\n",
              "    </tr>\n",
              "  </tbody>\n",
              "</table>\n",
              "</div>"
            ],
            "text/plain": [
              "                      Security Name  Weightage (%)  Monthly Return\n",
              "9           Bharat Electronics Ltd.           1.24           15.88\n",
              "48              United Spirits Ltd.           2.76           12.15\n",
              "8                    Bank of Baroda           1.69           11.21\n",
              "41  SBI Life Insurance Company Ltd.           1.08            9.54\n",
              "22               Havells India Ltd.           2.60            8.63"
            ]
          },
          "metadata": {
            "tags": []
          },
          "execution_count": 12
        }
      ]
    },
    {
      "cell_type": "code",
      "metadata": {
        "colab": {
          "base_uri": "https://localhost:8080/",
          "height": 207
        },
        "id": "iFbFbPqPqdIY",
        "outputId": "53727146-db15-4d22-dd28-6d682839a229"
      },
      "source": [
        "nov=pd.read_csv('3niftynext50_mcwb.csv',header=2).dropna().nlargest(5,['Monthly Return']).loc[:, ['Security Name','Weightage (%)','Monthly Return']]\n",
        "nov"
      ],
      "execution_count": null,
      "outputs": [
        {
          "output_type": "execute_result",
          "data": {
            "text/html": [
              "<div>\n",
              "<style scoped>\n",
              "    .dataframe tbody tr th:only-of-type {\n",
              "        vertical-align: middle;\n",
              "    }\n",
              "\n",
              "    .dataframe tbody tr th {\n",
              "        vertical-align: top;\n",
              "    }\n",
              "\n",
              "    .dataframe thead th {\n",
              "        text-align: right;\n",
              "    }\n",
              "</style>\n",
              "<table border=\"1\" class=\"dataframe\">\n",
              "  <thead>\n",
              "    <tr style=\"text-align: right;\">\n",
              "      <th></th>\n",
              "      <th>Security Name</th>\n",
              "      <th>Weightage (%)</th>\n",
              "      <th>Monthly Return</th>\n",
              "    </tr>\n",
              "  </thead>\n",
              "  <tbody>\n",
              "    <tr>\n",
              "      <th>7</th>\n",
              "      <td>Bandhan Bank Ltd.</td>\n",
              "      <td>0.89</td>\n",
              "      <td>23.93</td>\n",
              "    </tr>\n",
              "    <tr>\n",
              "      <th>38</th>\n",
              "      <td>Pidilite Industries Ltd.</td>\n",
              "      <td>2.74</td>\n",
              "      <td>21.32</td>\n",
              "    </tr>\n",
              "    <tr>\n",
              "      <th>42</th>\n",
              "      <td>Shree Cement Ltd.</td>\n",
              "      <td>3.11</td>\n",
              "      <td>18.47</td>\n",
              "    </tr>\n",
              "    <tr>\n",
              "      <th>26</th>\n",
              "      <td>InterGlobe Aviation Ltd.</td>\n",
              "      <td>1.54</td>\n",
              "      <td>16.80</td>\n",
              "    </tr>\n",
              "    <tr>\n",
              "      <th>48</th>\n",
              "      <td>United Spirits Ltd.</td>\n",
              "      <td>3.10</td>\n",
              "      <td>16.57</td>\n",
              "    </tr>\n",
              "  </tbody>\n",
              "</table>\n",
              "</div>"
            ],
            "text/plain": [
              "               Security Name  Weightage (%)  Monthly Return\n",
              "7          Bandhan Bank Ltd.           0.89           23.93\n",
              "38  Pidilite Industries Ltd.           2.74           21.32\n",
              "42         Shree Cement Ltd.           3.11           18.47\n",
              "26  InterGlobe Aviation Ltd.           1.54           16.80\n",
              "48       United Spirits Ltd.           3.10           16.57"
            ]
          },
          "metadata": {
            "tags": []
          },
          "execution_count": 13
        }
      ]
    },
    {
      "cell_type": "code",
      "metadata": {
        "colab": {
          "base_uri": "https://localhost:8080/",
          "height": 207
        },
        "id": "MUSUzgqQqdnu",
        "outputId": "af0c1c88-e1b9-4c4e-f6a9-aaf6acd8915d"
      },
      "source": [
        "dec=pd.read_csv('4niftynext50_mcwb.csv',header=2).dropna().nlargest(5,['Monthly Return']).loc[:, ['Security Name','Weightage (%)','Monthly Return']]\n",
        "dec"
      ],
      "execution_count": null,
      "outputs": [
        {
          "output_type": "execute_result",
          "data": {
            "text/html": [
              "<div>\n",
              "<style scoped>\n",
              "    .dataframe tbody tr th:only-of-type {\n",
              "        vertical-align: middle;\n",
              "    }\n",
              "\n",
              "    .dataframe tbody tr th {\n",
              "        vertical-align: top;\n",
              "    }\n",
              "\n",
              "    .dataframe thead th {\n",
              "        text-align: right;\n",
              "    }\n",
              "</style>\n",
              "<table border=\"1\" class=\"dataframe\">\n",
              "  <thead>\n",
              "    <tr style=\"text-align: right;\">\n",
              "      <th></th>\n",
              "      <th>Security Name</th>\n",
              "      <th>Weightage (%)</th>\n",
              "      <th>Monthly Return</th>\n",
              "    </tr>\n",
              "  </thead>\n",
              "  <tbody>\n",
              "    <tr>\n",
              "      <th>7</th>\n",
              "      <td>Bandhan Bank Ltd.</td>\n",
              "      <td>0.98</td>\n",
              "      <td>13.75</td>\n",
              "    </tr>\n",
              "    <tr>\n",
              "      <th>8</th>\n",
              "      <td>Bank of Baroda</td>\n",
              "      <td>1.69</td>\n",
              "      <td>13.09</td>\n",
              "    </tr>\n",
              "    <tr>\n",
              "      <th>26</th>\n",
              "      <td>InterGlobe Aviation Ltd.</td>\n",
              "      <td>1.67</td>\n",
              "      <td>12.21</td>\n",
              "    </tr>\n",
              "    <tr>\n",
              "      <th>15</th>\n",
              "      <td>Colgate Palmolive (India) Ltd.</td>\n",
              "      <td>2.67</td>\n",
              "      <td>10.16</td>\n",
              "    </tr>\n",
              "    <tr>\n",
              "      <th>44</th>\n",
              "      <td>Siemens Ltd.</td>\n",
              "      <td>1.39</td>\n",
              "      <td>10.12</td>\n",
              "    </tr>\n",
              "  </tbody>\n",
              "</table>\n",
              "</div>"
            ],
            "text/plain": [
              "                     Security Name  Weightage (%)  Monthly Return\n",
              "7                Bandhan Bank Ltd.           0.98           13.75\n",
              "8                   Bank of Baroda           1.69           13.09\n",
              "26        InterGlobe Aviation Ltd.           1.67           12.21\n",
              "15  Colgate Palmolive (India) Ltd.           2.67           10.16\n",
              "44                    Siemens Ltd.           1.39           10.12"
            ]
          },
          "metadata": {
            "tags": []
          },
          "execution_count": 14
        }
      ]
    },
    {
      "cell_type": "code",
      "metadata": {
        "colab": {
          "base_uri": "https://localhost:8080/",
          "height": 207
        },
        "id": "Oeauj82Bqe2A",
        "outputId": "d098f96b-f445-4a2a-aa86-a66db533c63a"
      },
      "source": [
        "\n",
        "jan=pd.read_csv('5niftynext50_mcwb.csv',header=2).dropna().nlargest(5,['Monthly Return']).loc[:, ['Security Name','Weightage (%)','Monthly Return']]\n",
        "jan"
      ],
      "execution_count": null,
      "outputs": [
        {
          "output_type": "execute_result",
          "data": {
            "text/html": [
              "<div>\n",
              "<style scoped>\n",
              "    .dataframe tbody tr th:only-of-type {\n",
              "        vertical-align: middle;\n",
              "    }\n",
              "\n",
              "    .dataframe tbody tr th {\n",
              "        vertical-align: top;\n",
              "    }\n",
              "\n",
              "    .dataframe thead th {\n",
              "        text-align: right;\n",
              "    }\n",
              "</style>\n",
              "<table border=\"1\" class=\"dataframe\">\n",
              "  <thead>\n",
              "    <tr style=\"text-align: right;\">\n",
              "      <th></th>\n",
              "      <th>Security Name</th>\n",
              "      <th>Weightage (%)</th>\n",
              "      <th>Monthly Return</th>\n",
              "    </tr>\n",
              "  </thead>\n",
              "  <tbody>\n",
              "    <tr>\n",
              "      <th>5</th>\n",
              "      <td>Aurobindo Pharma Ltd.</td>\n",
              "      <td>3.50</td>\n",
              "      <td>7.48</td>\n",
              "    </tr>\n",
              "    <tr>\n",
              "      <th>29</th>\n",
              "      <td>Lupin Ltd.</td>\n",
              "      <td>3.32</td>\n",
              "      <td>3.72</td>\n",
              "    </tr>\n",
              "    <tr>\n",
              "      <th>22</th>\n",
              "      <td>Havells India Ltd.</td>\n",
              "      <td>2.82</td>\n",
              "      <td>3.17</td>\n",
              "    </tr>\n",
              "    <tr>\n",
              "      <th>11</th>\n",
              "      <td>Biocon Ltd.</td>\n",
              "      <td>2.15</td>\n",
              "      <td>3.06</td>\n",
              "    </tr>\n",
              "    <tr>\n",
              "      <th>18</th>\n",
              "      <td>Dabur India Ltd.</td>\n",
              "      <td>3.97</td>\n",
              "      <td>3.02</td>\n",
              "    </tr>\n",
              "  </tbody>\n",
              "</table>\n",
              "</div>"
            ],
            "text/plain": [
              "            Security Name  Weightage (%)  Monthly Return\n",
              "5   Aurobindo Pharma Ltd.           3.50            7.48\n",
              "29             Lupin Ltd.           3.32            3.72\n",
              "22     Havells India Ltd.           2.82            3.17\n",
              "11            Biocon Ltd.           2.15            3.06\n",
              "18       Dabur India Ltd.           3.97            3.02"
            ]
          },
          "metadata": {
            "tags": []
          },
          "execution_count": 15
        }
      ]
    },
    {
      "cell_type": "code",
      "metadata": {
        "colab": {
          "base_uri": "https://localhost:8080/",
          "height": 207
        },
        "id": "X2ppuD9Yum9z",
        "outputId": "eedd08d7-e9eb-4be0-e91e-e8191ccecd7f"
      },
      "source": [
        "\n",
        "feb=pd.read_csv('6niftynext50_mcwb.csv',header=2).dropna().nlargest(5,['Monthly Return']).loc[:, ['Security Name','Weightage (%)','Monthly Return']]\n",
        "feb"
      ],
      "execution_count": null,
      "outputs": [
        {
          "output_type": "execute_result",
          "data": {
            "text/html": [
              "<div>\n",
              "<style scoped>\n",
              "    .dataframe tbody tr th:only-of-type {\n",
              "        vertical-align: middle;\n",
              "    }\n",
              "\n",
              "    .dataframe tbody tr th {\n",
              "        vertical-align: top;\n",
              "    }\n",
              "\n",
              "    .dataframe thead th {\n",
              "        text-align: right;\n",
              "    }\n",
              "</style>\n",
              "<table border=\"1\" class=\"dataframe\">\n",
              "  <thead>\n",
              "    <tr style=\"text-align: right;\">\n",
              "      <th></th>\n",
              "      <th>Security Name</th>\n",
              "      <th>Weightage (%)</th>\n",
              "      <th>Monthly Return</th>\n",
              "    </tr>\n",
              "  </thead>\n",
              "  <tbody>\n",
              "    <tr>\n",
              "      <th>7</th>\n",
              "      <td>Bandhan Bank Ltd.</td>\n",
              "      <td>0.91</td>\n",
              "      <td>18.84</td>\n",
              "    </tr>\n",
              "    <tr>\n",
              "      <th>32</th>\n",
              "      <td>Motherson Sumi Systems Ltd.</td>\n",
              "      <td>3.09</td>\n",
              "      <td>15.65</td>\n",
              "    </tr>\n",
              "    <tr>\n",
              "      <th>46</th>\n",
              "      <td>Sun TV Network Ltd.</td>\n",
              "      <td>0.95</td>\n",
              "      <td>14.74</td>\n",
              "    </tr>\n",
              "    <tr>\n",
              "      <th>39</th>\n",
              "      <td>Piramal Enterprises Ltd.</td>\n",
              "      <td>3.24</td>\n",
              "      <td>14.47</td>\n",
              "    </tr>\n",
              "    <tr>\n",
              "      <th>2</th>\n",
              "      <td>Aditya Birla Capital Ltd.</td>\n",
              "      <td>0.87</td>\n",
              "      <td>13.46</td>\n",
              "    </tr>\n",
              "  </tbody>\n",
              "</table>\n",
              "</div>"
            ],
            "text/plain": [
              "                  Security Name  Weightage (%)  Monthly Return\n",
              "7             Bandhan Bank Ltd.           0.91           18.84\n",
              "32  Motherson Sumi Systems Ltd.           3.09           15.65\n",
              "46          Sun TV Network Ltd.           0.95           14.74\n",
              "39     Piramal Enterprises Ltd.           3.24           14.47\n",
              "2     Aditya Birla Capital Ltd.           0.87           13.46"
            ]
          },
          "metadata": {
            "tags": []
          },
          "execution_count": 16
        }
      ]
    },
    {
      "cell_type": "markdown",
      "metadata": {
        "id": "8otbOb4mvBlU"
      },
      "source": [
        "Nifty 50"
      ]
    },
    {
      "cell_type": "code",
      "metadata": {
        "colab": {
          "base_uri": "https://localhost:8080/",
          "height": 207
        },
        "id": "hyMyAQQPvUlB",
        "outputId": "a97cd30b-33cf-4e36-e6be-2decb79ae79b"
      },
      "source": [
        "sepnifty=pd.read_csv('1sepnifty.csv',header=2).dropna().nlargest(5,['Monthly Return']).loc[:, ['Security Name','Weightage (%)','Monthly Return']]\n",
        "sepnifty"
      ],
      "execution_count": null,
      "outputs": [
        {
          "output_type": "execute_result",
          "data": {
            "text/html": [
              "<div>\n",
              "<style scoped>\n",
              "    .dataframe tbody tr th:only-of-type {\n",
              "        vertical-align: middle;\n",
              "    }\n",
              "\n",
              "    .dataframe tbody tr th {\n",
              "        vertical-align: top;\n",
              "    }\n",
              "\n",
              "    .dataframe thead th {\n",
              "        text-align: right;\n",
              "    }\n",
              "</style>\n",
              "<table border=\"1\" class=\"dataframe\">\n",
              "  <thead>\n",
              "    <tr style=\"text-align: right;\">\n",
              "      <th></th>\n",
              "      <th>Security Name</th>\n",
              "      <th>Weightage (%)</th>\n",
              "      <th>Monthly Return</th>\n",
              "    </tr>\n",
              "  </thead>\n",
              "  <tbody>\n",
              "    <tr>\n",
              "      <th>47</th>\n",
              "      <td>Wipro Ltd.</td>\n",
              "      <td>0.84</td>\n",
              "      <td>7.551867</td>\n",
              "    </tr>\n",
              "    <tr>\n",
              "      <th>39</th>\n",
              "      <td>Tata Consultancy Services Ltd.</td>\n",
              "      <td>5.38</td>\n",
              "      <td>5.066397</td>\n",
              "    </tr>\n",
              "    <tr>\n",
              "      <th>15</th>\n",
              "      <td>HCL Technologies Ltd.</td>\n",
              "      <td>1.39</td>\n",
              "      <td>3.951455</td>\n",
              "    </tr>\n",
              "    <tr>\n",
              "      <th>6</th>\n",
              "      <td>Bharat Petroleum Corporation Ltd.</td>\n",
              "      <td>0.67</td>\n",
              "      <td>3.327810</td>\n",
              "    </tr>\n",
              "    <tr>\n",
              "      <th>46</th>\n",
              "      <td>Vedanta Ltd.</td>\n",
              "      <td>0.99</td>\n",
              "      <td>2.020202</td>\n",
              "    </tr>\n",
              "  </tbody>\n",
              "</table>\n",
              "</div>"
            ],
            "text/plain": [
              "                        Security Name  Weightage (%)  Monthly Return\n",
              "47                         Wipro Ltd.           0.84        7.551867\n",
              "39     Tata Consultancy Services Ltd.           5.38        5.066397\n",
              "15              HCL Technologies Ltd.           1.39        3.951455\n",
              "6   Bharat Petroleum Corporation Ltd.           0.67        3.327810\n",
              "46                       Vedanta Ltd.           0.99        2.020202"
            ]
          },
          "metadata": {
            "tags": []
          },
          "execution_count": 17
        }
      ]
    },
    {
      "cell_type": "code",
      "metadata": {
        "id": "BiOzCzXO9Md6"
      },
      "source": [
        ""
      ],
      "execution_count": null,
      "outputs": []
    },
    {
      "cell_type": "code",
      "metadata": {
        "colab": {
          "base_uri": "https://localhost:8080/",
          "height": 207
        },
        "id": "asndPT8Kvmgk",
        "outputId": "d3ccb3d2-febd-4dcc-d19d-cf66703d68ce"
      },
      "source": [
        "octnifty=pd.read_csv('2oct nifty.csv',header=2).dropna().nlargest(5,['Monthly Return']).loc[:, ['Security Name','Weightage (%)','Monthly Return']]\n",
        "octnifty"
      ],
      "execution_count": null,
      "outputs": [
        {
          "output_type": "execute_result",
          "data": {
            "text/html": [
              "<div>\n",
              "<style scoped>\n",
              "    .dataframe tbody tr th:only-of-type {\n",
              "        vertical-align: middle;\n",
              "    }\n",
              "\n",
              "    .dataframe tbody tr th {\n",
              "        vertical-align: top;\n",
              "    }\n",
              "\n",
              "    .dataframe thead th {\n",
              "        text-align: right;\n",
              "    }\n",
              "</style>\n",
              "<table border=\"1\" class=\"dataframe\">\n",
              "  <thead>\n",
              "    <tr style=\"text-align: right;\">\n",
              "      <th></th>\n",
              "      <th>Security Name</th>\n",
              "      <th>Weightage (%)</th>\n",
              "      <th>Monthly Return</th>\n",
              "    </tr>\n",
              "  </thead>\n",
              "  <tbody>\n",
              "    <tr>\n",
              "      <th>23</th>\n",
              "      <td>ICICI Bank Ltd.</td>\n",
              "      <td>5.52</td>\n",
              "      <td>16.18</td>\n",
              "    </tr>\n",
              "    <tr>\n",
              "      <th>4</th>\n",
              "      <td>Bajaj Finance Ltd.</td>\n",
              "      <td>1.36</td>\n",
              "      <td>9.90</td>\n",
              "    </tr>\n",
              "    <tr>\n",
              "      <th>37</th>\n",
              "      <td>State Bank of India</td>\n",
              "      <td>2.55</td>\n",
              "      <td>5.99</td>\n",
              "    </tr>\n",
              "    <tr>\n",
              "      <th>43</th>\n",
              "      <td>Titan Company Ltd.</td>\n",
              "      <td>0.85</td>\n",
              "      <td>4.84</td>\n",
              "    </tr>\n",
              "    <tr>\n",
              "      <th>49</th>\n",
              "      <td>Zee Entertainment Enterprises Ltd.</td>\n",
              "      <td>0.61</td>\n",
              "      <td>2.85</td>\n",
              "    </tr>\n",
              "  </tbody>\n",
              "</table>\n",
              "</div>"
            ],
            "text/plain": [
              "                         Security Name  Weightage (%)  Monthly Return\n",
              "23                     ICICI Bank Ltd.           5.52           16.18\n",
              "4                   Bajaj Finance Ltd.           1.36            9.90\n",
              "37                 State Bank of India           2.55            5.99\n",
              "43                  Titan Company Ltd.           0.85            4.84\n",
              "49  Zee Entertainment Enterprises Ltd.           0.61            2.85"
            ]
          },
          "metadata": {
            "tags": []
          },
          "execution_count": 18
        }
      ]
    },
    {
      "cell_type": "code",
      "metadata": {
        "colab": {
          "base_uri": "https://localhost:8080/",
          "height": 207
        },
        "id": "DXZoXx2evojo",
        "outputId": "31923754-447c-4029-869e-7d87064a5e4a"
      },
      "source": [
        "novnifty=pd.read_csv('3novnifty.csv',header=2).dropna().nlargest(5,['Monthly Return']).loc[:, ['Security Name','Weightage (%)','Monthly Return']]\n",
        "novnifty"
      ],
      "execution_count": null,
      "outputs": [
        {
          "output_type": "execute_result",
          "data": {
            "text/html": [
              "<div>\n",
              "<style scoped>\n",
              "    .dataframe tbody tr th:only-of-type {\n",
              "        vertical-align: middle;\n",
              "    }\n",
              "\n",
              "    .dataframe tbody tr th {\n",
              "        vertical-align: top;\n",
              "    }\n",
              "\n",
              "    .dataframe thead th {\n",
              "        text-align: right;\n",
              "    }\n",
              "</style>\n",
              "<table border=\"1\" class=\"dataframe\">\n",
              "  <thead>\n",
              "    <tr style=\"text-align: right;\">\n",
              "      <th></th>\n",
              "      <th>Security Name</th>\n",
              "      <th>Weightage (%)</th>\n",
              "      <th>Monthly Return</th>\n",
              "    </tr>\n",
              "  </thead>\n",
              "  <tbody>\n",
              "    <tr>\n",
              "      <th>6</th>\n",
              "      <td>Bharat Petroleum Corporation Ltd.</td>\n",
              "      <td>0.59</td>\n",
              "      <td>17.92</td>\n",
              "    </tr>\n",
              "    <tr>\n",
              "      <th>32</th>\n",
              "      <td>Maruti Suzuki India Ltd.</td>\n",
              "      <td>2.35</td>\n",
              "      <td>15.80</td>\n",
              "    </tr>\n",
              "    <tr>\n",
              "      <th>0</th>\n",
              "      <td>Adani Ports and Special Economic Zone Ltd.</td>\n",
              "      <td>0.66</td>\n",
              "      <td>14.68</td>\n",
              "    </tr>\n",
              "    <tr>\n",
              "      <th>26</th>\n",
              "      <td>IndusInd Bank Ltd.</td>\n",
              "      <td>1.93</td>\n",
              "      <td>14.50</td>\n",
              "    </tr>\n",
              "    <tr>\n",
              "      <th>45</th>\n",
              "      <td>UltraTech Cement Ltd.</td>\n",
              "      <td>0.96</td>\n",
              "      <td>14.30</td>\n",
              "    </tr>\n",
              "  </tbody>\n",
              "</table>\n",
              "</div>"
            ],
            "text/plain": [
              "                                 Security Name  Weightage (%)  Monthly Return\n",
              "6            Bharat Petroleum Corporation Ltd.           0.59           17.92\n",
              "32                    Maruti Suzuki India Ltd.           2.35           15.80\n",
              "0   Adani Ports and Special Economic Zone Ltd.           0.66           14.68\n",
              "26                          IndusInd Bank Ltd.           1.93           14.50\n",
              "45                       UltraTech Cement Ltd.           0.96           14.30"
            ]
          },
          "metadata": {
            "tags": []
          },
          "execution_count": 19
        }
      ]
    },
    {
      "cell_type": "code",
      "metadata": {
        "colab": {
          "base_uri": "https://localhost:8080/",
          "height": 207
        },
        "id": "FmQE6-Hmvq9k",
        "outputId": "4a048570-0c09-4f89-e5d8-70e5a085ea37"
      },
      "source": [
        "decnifty=pd.read_csv('4dec nifty.csv',header=2).dropna().nlargest(5,['Monthly Return']).loc[:, ['Security Name','Weightage (%)','Monthly Return']]\n",
        "decnifty"
      ],
      "execution_count": null,
      "outputs": [
        {
          "output_type": "execute_result",
          "data": {
            "text/html": [
              "<div>\n",
              "<style scoped>\n",
              "    .dataframe tbody tr th:only-of-type {\n",
              "        vertical-align: middle;\n",
              "    }\n",
              "\n",
              "    .dataframe tbody tr th {\n",
              "        vertical-align: top;\n",
              "    }\n",
              "\n",
              "    .dataframe thead th {\n",
              "        text-align: right;\n",
              "    }\n",
              "</style>\n",
              "<table border=\"1\" class=\"dataframe\">\n",
              "  <thead>\n",
              "    <tr style=\"text-align: right;\">\n",
              "      <th></th>\n",
              "      <th>Security Name</th>\n",
              "      <th>Weightage (%)</th>\n",
              "      <th>Monthly Return</th>\n",
              "    </tr>\n",
              "  </thead>\n",
              "  <tbody>\n",
              "    <tr>\n",
              "      <th>24</th>\n",
              "      <td>Indiabulls Housing Finance Ltd.</td>\n",
              "      <td>0.65</td>\n",
              "      <td>19.32</td>\n",
              "    </tr>\n",
              "    <tr>\n",
              "      <th>6</th>\n",
              "      <td>Bharat Petroleum Corporation Ltd.</td>\n",
              "      <td>0.67</td>\n",
              "      <td>11.82</td>\n",
              "    </tr>\n",
              "    <tr>\n",
              "      <th>35</th>\n",
              "      <td>Power Grid Corporation of India Ltd.</td>\n",
              "      <td>1.05</td>\n",
              "      <td>10.27</td>\n",
              "    </tr>\n",
              "    <tr>\n",
              "      <th>19</th>\n",
              "      <td>Hindustan Petroleum Corporation Ltd.</td>\n",
              "      <td>0.44</td>\n",
              "      <td>9.00</td>\n",
              "    </tr>\n",
              "    <tr>\n",
              "      <th>5</th>\n",
              "      <td>Bajaj Finserv Ltd.</td>\n",
              "      <td>0.90</td>\n",
              "      <td>8.05</td>\n",
              "    </tr>\n",
              "  </tbody>\n",
              "</table>\n",
              "</div>"
            ],
            "text/plain": [
              "                           Security Name  Weightage (%)  Monthly Return\n",
              "24       Indiabulls Housing Finance Ltd.           0.65           19.32\n",
              "6      Bharat Petroleum Corporation Ltd.           0.67           11.82\n",
              "35  Power Grid Corporation of India Ltd.           1.05           10.27\n",
              "19  Hindustan Petroleum Corporation Ltd.           0.44            9.00\n",
              "5                     Bajaj Finserv Ltd.           0.90            8.05"
            ]
          },
          "metadata": {
            "tags": []
          },
          "execution_count": 20
        }
      ]
    },
    {
      "cell_type": "code",
      "metadata": {
        "colab": {
          "base_uri": "https://localhost:8080/",
          "height": 207
        },
        "id": "KKevFeu6vqZp",
        "outputId": "733b0aca-cfb0-4ac2-ace4-163ffcd00419"
      },
      "source": [
        "jannifty=pd.read_csv('6jannifty.csv',header=2).dropna().nlargest(5,['Monthly Return']).loc[:, ['Security Name','Weightage (%)','Monthly Return']]\n",
        "jannifty"
      ],
      "execution_count": null,
      "outputs": [
        {
          "output_type": "execute_result",
          "data": {
            "text/html": [
              "<div>\n",
              "<style scoped>\n",
              "    .dataframe tbody tr th:only-of-type {\n",
              "        vertical-align: middle;\n",
              "    }\n",
              "\n",
              "    .dataframe tbody tr th {\n",
              "        vertical-align: top;\n",
              "    }\n",
              "\n",
              "    .dataframe thead th {\n",
              "        text-align: right;\n",
              "    }\n",
              "</style>\n",
              "<table border=\"1\" class=\"dataframe\">\n",
              "  <thead>\n",
              "    <tr style=\"text-align: right;\">\n",
              "      <th></th>\n",
              "      <th>Security Name</th>\n",
              "      <th>Weightage (%)</th>\n",
              "      <th>Monthly Return</th>\n",
              "    </tr>\n",
              "  </thead>\n",
              "  <tbody>\n",
              "    <tr>\n",
              "      <th>2</th>\n",
              "      <td>Axis Bank Ltd.</td>\n",
              "      <td>2.96</td>\n",
              "      <td>16.58</td>\n",
              "    </tr>\n",
              "    <tr>\n",
              "      <th>27</th>\n",
              "      <td>Infosys Ltd.</td>\n",
              "      <td>6.57</td>\n",
              "      <td>13.75</td>\n",
              "    </tr>\n",
              "    <tr>\n",
              "      <th>8</th>\n",
              "      <td>Bharti Infratel Ltd.</td>\n",
              "      <td>0.57</td>\n",
              "      <td>12.84</td>\n",
              "    </tr>\n",
              "    <tr>\n",
              "      <th>47</th>\n",
              "      <td>Wipro Ltd.</td>\n",
              "      <td>0.96</td>\n",
              "      <td>11.59</td>\n",
              "    </tr>\n",
              "    <tr>\n",
              "      <th>36</th>\n",
              "      <td>Reliance Industries Ltd.</td>\n",
              "      <td>9.69</td>\n",
              "      <td>9.44</td>\n",
              "    </tr>\n",
              "  </tbody>\n",
              "</table>\n",
              "</div>"
            ],
            "text/plain": [
              "               Security Name  Weightage (%)  Monthly Return\n",
              "2             Axis Bank Ltd.           2.96           16.58\n",
              "27              Infosys Ltd.           6.57           13.75\n",
              "8       Bharti Infratel Ltd.           0.57           12.84\n",
              "47                Wipro Ltd.           0.96           11.59\n",
              "36  Reliance Industries Ltd.           9.69            9.44"
            ]
          },
          "metadata": {
            "tags": []
          },
          "execution_count": 21
        }
      ]
    },
    {
      "cell_type": "code",
      "metadata": {
        "colab": {
          "base_uri": "https://localhost:8080/",
          "height": 207
        },
        "id": "TfPVmhYOvp7i",
        "outputId": "5679e468-cb8f-48c2-8573-50505b4f9eeb"
      },
      "source": [
        "febnifty=pd.read_csv('5febnifty.csv',header=2).dropna().nlargest(5,['Monthly Return']).loc[:, ['Security Name','Weightage (%)','Monthly Return']]\n",
        "febnifty"
      ],
      "execution_count": null,
      "outputs": [
        {
          "output_type": "execute_result",
          "data": {
            "text/html": [
              "<div>\n",
              "<style scoped>\n",
              "    .dataframe tbody tr th:only-of-type {\n",
              "        vertical-align: middle;\n",
              "    }\n",
              "\n",
              "    .dataframe tbody tr th {\n",
              "        vertical-align: top;\n",
              "    }\n",
              "\n",
              "    .dataframe thead th {\n",
              "        text-align: right;\n",
              "    }\n",
              "</style>\n",
              "<table border=\"1\" class=\"dataframe\">\n",
              "  <thead>\n",
              "    <tr style=\"text-align: right;\">\n",
              "      <th></th>\n",
              "      <th>Security Name</th>\n",
              "      <th>Weightage (%)</th>\n",
              "      <th>Monthly Return</th>\n",
              "    </tr>\n",
              "  </thead>\n",
              "  <tbody>\n",
              "    <tr>\n",
              "      <th>49</th>\n",
              "      <td>Zee Entertainment Enterprises Ltd.</td>\n",
              "      <td>0.60</td>\n",
              "      <td>22.75</td>\n",
              "    </tr>\n",
              "    <tr>\n",
              "      <th>48</th>\n",
              "      <td>Yes Bank Ltd.</td>\n",
              "      <td>0.99</td>\n",
              "      <td>19.09</td>\n",
              "    </tr>\n",
              "    <tr>\n",
              "      <th>3</th>\n",
              "      <td>Bajaj Auto Ltd.</td>\n",
              "      <td>0.91</td>\n",
              "      <td>13.55</td>\n",
              "    </tr>\n",
              "    <tr>\n",
              "      <th>42</th>\n",
              "      <td>Tech Mahindra Ltd.</td>\n",
              "      <td>1.21</td>\n",
              "      <td>13.42</td>\n",
              "    </tr>\n",
              "    <tr>\n",
              "      <th>44</th>\n",
              "      <td>UPL Ltd.</td>\n",
              "      <td>0.75</td>\n",
              "      <td>11.58</td>\n",
              "    </tr>\n",
              "  </tbody>\n",
              "</table>\n",
              "</div>"
            ],
            "text/plain": [
              "                         Security Name  Weightage (%)  Monthly Return\n",
              "49  Zee Entertainment Enterprises Ltd.           0.60           22.75\n",
              "48                       Yes Bank Ltd.           0.99           19.09\n",
              "3                      Bajaj Auto Ltd.           0.91           13.55\n",
              "42                  Tech Mahindra Ltd.           1.21           13.42\n",
              "44                            UPL Ltd.           0.75           11.58"
            ]
          },
          "metadata": {
            "tags": []
          },
          "execution_count": 22
        }
      ]
    },
    {
      "cell_type": "markdown",
      "metadata": {
        "id": "qCMtzw98y11J"
      },
      "source": [
        "Task2 "
      ]
    },
    {
      "cell_type": "markdown",
      "metadata": {
        "id": "ltrHPHz-y4gu"
      },
      "source": [
        "nifty next 50"
      ]
    },
    {
      "cell_type": "code",
      "metadata": {
        "colab": {
          "base_uri": "https://localhost:8080/"
        },
        "id": "rAVLcvbpysWf",
        "outputId": "5cac26dc-c5e0-4a6f-b9ff-ac7d54eba722"
      },
      "source": [
        "sep['Total Return'] = sep['Monthly Return']*sep['Weightage (%)'] #assuming that weights are already divided by 100 as it is percentile\n",
        "sep['Total Return'].sum()"
      ],
      "execution_count": null,
      "outputs": [
        {
          "output_type": "execute_result",
          "data": {
            "text/plain": [
              "52.5084951038"
            ]
          },
          "metadata": {
            "tags": []
          },
          "execution_count": 23
        }
      ]
    },
    {
      "cell_type": "code",
      "metadata": {
        "colab": {
          "base_uri": "https://localhost:8080/"
        },
        "id": "VykgwRlO0Gx6",
        "outputId": "94981414-a01e-444e-c418-558a9ca7eb7c"
      },
      "source": [
        "oct['Total Return'] = oct['Monthly Return']*oct['Weightage (%)'] #assuming that weights are already divided by 100 as it is percentile\n",
        "oct['Total Return'].sum()"
      ],
      "execution_count": null,
      "outputs": [
        {
          "output_type": "execute_result",
          "data": {
            "text/plain": [
              "104.91130000000001"
            ]
          },
          "metadata": {
            "tags": []
          },
          "execution_count": 24
        }
      ]
    },
    {
      "cell_type": "code",
      "metadata": {
        "colab": {
          "base_uri": "https://localhost:8080/"
        },
        "id": "n_zJdbuJ0I28",
        "outputId": "e7170273-62a2-475a-ea50-1b58a3c5ed3d"
      },
      "source": [
        "nov['Total Return'] = nov['Monthly Return']*nov['Weightage (%)'] #assuming that weights are already divided by 100 as it is percentile\n",
        "nov['Total Return'].sum()"
      ],
      "execution_count": null,
      "outputs": [
        {
          "output_type": "execute_result",
          "data": {
            "text/plain": [
              "214.39520000000005"
            ]
          },
          "metadata": {
            "tags": []
          },
          "execution_count": 25
        }
      ]
    },
    {
      "cell_type": "code",
      "metadata": {
        "colab": {
          "base_uri": "https://localhost:8080/"
        },
        "id": "SXhgmenI0JEi",
        "outputId": "5a57d66e-c82c-4cd8-d393-707845494541"
      },
      "source": [
        "dec['Total Return'] = dec['Monthly Return']*dec['Weightage (%)'] #assuming that weights are already divided by 100 as it is percentile\n",
        "dec['Total Return'].sum()   "
      ],
      "execution_count": null,
      "outputs": [
        {
          "output_type": "execute_result",
          "data": {
            "text/plain": [
              "97.1818"
            ]
          },
          "metadata": {
            "tags": []
          },
          "execution_count": 26
        }
      ]
    },
    {
      "cell_type": "code",
      "metadata": {
        "colab": {
          "base_uri": "https://localhost:8080/"
        },
        "id": "ZDhOG4_P0Kfc",
        "outputId": "7ddd8a6f-0954-42e9-89ac-a676fe0591ed"
      },
      "source": [
        "jan['Total Return'] = jan['Monthly Return']*jan['Weightage (%)'] #assuming that weights are already divided by 100 as it is percentile\n",
        "jan['Total Return'].sum()"
      ],
      "execution_count": null,
      "outputs": [
        {
          "output_type": "execute_result",
          "data": {
            "text/plain": [
              "66.0382"
            ]
          },
          "metadata": {
            "tags": []
          },
          "execution_count": 27
        }
      ]
    },
    {
      "cell_type": "code",
      "metadata": {
        "colab": {
          "base_uri": "https://localhost:8080/"
        },
        "id": "v13gMSN00ln_",
        "outputId": "83ee0527-391f-4172-802e-6539761e8e60"
      },
      "source": [
        "feb['Total Return'] = feb['Monthly Return']*feb['Weightage (%)'] #assuming that weights are already divided by 100 as it is percentile\n",
        "feb['Total Return'].sum()"
      ],
      "execution_count": null,
      "outputs": [
        {
          "output_type": "execute_result",
          "data": {
            "text/plain": [
              "138.09890000000001"
            ]
          },
          "metadata": {
            "tags": []
          },
          "execution_count": 28
        }
      ]
    },
    {
      "cell_type": "code",
      "metadata": {
        "id": "y3XO8kdB4_kZ"
      },
      "source": [
        "niftynext = pd.DataFrame()\n",
        "niftynext = niftynext.append([sep['Total Return'].sum(),oct['Total Return'].sum(),nov['Total Return'].sum(),dec['Total Return'].sum(),jan['Total Return'].sum(),feb['Total Return'].sum()])"
      ],
      "execution_count": null,
      "outputs": []
    },
    {
      "cell_type": "code",
      "metadata": {
        "colab": {
          "base_uri": "https://localhost:8080/",
          "height": 238
        },
        "id": "3MqxnvAF79BB",
        "outputId": "d96b39f8-947a-4d06-e0ab-d3bb64dac405"
      },
      "source": [
        "Task2 = niftynext.rename(columns={0:'niftynext'})\n",
        "Task2"
      ],
      "execution_count": null,
      "outputs": [
        {
          "output_type": "execute_result",
          "data": {
            "text/html": [
              "<div>\n",
              "<style scoped>\n",
              "    .dataframe tbody tr th:only-of-type {\n",
              "        vertical-align: middle;\n",
              "    }\n",
              "\n",
              "    .dataframe tbody tr th {\n",
              "        vertical-align: top;\n",
              "    }\n",
              "\n",
              "    .dataframe thead th {\n",
              "        text-align: right;\n",
              "    }\n",
              "</style>\n",
              "<table border=\"1\" class=\"dataframe\">\n",
              "  <thead>\n",
              "    <tr style=\"text-align: right;\">\n",
              "      <th></th>\n",
              "      <th>niftynext</th>\n",
              "    </tr>\n",
              "  </thead>\n",
              "  <tbody>\n",
              "    <tr>\n",
              "      <th>0</th>\n",
              "      <td>52.508495</td>\n",
              "    </tr>\n",
              "    <tr>\n",
              "      <th>1</th>\n",
              "      <td>104.911300</td>\n",
              "    </tr>\n",
              "    <tr>\n",
              "      <th>2</th>\n",
              "      <td>214.395200</td>\n",
              "    </tr>\n",
              "    <tr>\n",
              "      <th>3</th>\n",
              "      <td>97.181800</td>\n",
              "    </tr>\n",
              "    <tr>\n",
              "      <th>4</th>\n",
              "      <td>66.038200</td>\n",
              "    </tr>\n",
              "    <tr>\n",
              "      <th>5</th>\n",
              "      <td>138.098900</td>\n",
              "    </tr>\n",
              "  </tbody>\n",
              "</table>\n",
              "</div>"
            ],
            "text/plain": [
              "    niftynext\n",
              "0   52.508495\n",
              "1  104.911300\n",
              "2  214.395200\n",
              "3   97.181800\n",
              "4   66.038200\n",
              "5  138.098900"
            ]
          },
          "metadata": {
            "tags": []
          },
          "execution_count": 39
        }
      ]
    },
    {
      "cell_type": "code",
      "metadata": {
        "colab": {
          "base_uri": "https://localhost:8080/"
        },
        "id": "JvUoH-fi9OfG",
        "outputId": "b5489685-45d6-4c99-91b6-93f74674fab0"
      },
      "source": [
        "sepnifty['Total Return'] = sepnifty['Monthly Return']*sepnifty['Weightage (%)'] #assuming that weights are already divided by 100 as it is percentile\n",
        "sepnifty['Total Return'].sum()"
      ],
      "execution_count": null,
      "outputs": [
        {
          "output_type": "execute_result",
          "data": {
            "text/plain": [
              "43.3229406008"
            ]
          },
          "metadata": {
            "tags": []
          },
          "execution_count": 40
        }
      ]
    },
    {
      "cell_type": "code",
      "metadata": {
        "colab": {
          "base_uri": "https://localhost:8080/"
        },
        "id": "9WdqcQy0-9oR",
        "outputId": "6c312b53-85b6-4179-dbf1-d0c9b1c483ab"
      },
      "source": [
        "octnifty['Total Return'] = octnifty['Monthly Return']*octnifty['Weightage (%)'] #assuming that weights are already divided by 100 as it is percentile\n",
        "octnifty['Total Return'].sum()"
      ],
      "execution_count": null,
      "outputs": [
        {
          "output_type": "execute_result",
          "data": {
            "text/plain": [
              "123.9046"
            ]
          },
          "metadata": {
            "tags": []
          },
          "execution_count": 44
        }
      ]
    },
    {
      "cell_type": "code",
      "metadata": {
        "colab": {
          "base_uri": "https://localhost:8080/"
        },
        "id": "STBCh8xD_AJb",
        "outputId": "21fca05c-4e42-4472-9fe8-be6eb27937f4"
      },
      "source": [
        "novnifty['Total Return'] = novnifty['Monthly Return']*novnifty['Weightage (%)'] #assuming that weights are already divided by 100 as it is percentile\n",
        "novnifty['Total Return'].sum()"
      ],
      "execution_count": null,
      "outputs": [
        {
          "output_type": "execute_result",
          "data": {
            "text/plain": [
              "99.10459999999999"
            ]
          },
          "metadata": {
            "tags": []
          },
          "execution_count": 45
        }
      ]
    },
    {
      "cell_type": "code",
      "metadata": {
        "colab": {
          "base_uri": "https://localhost:8080/"
        },
        "id": "WzRbRnBU-__z",
        "outputId": "7304c5ac-3c00-4225-f1cb-b1d1e16d9933"
      },
      "source": [
        "decnifty['Total Return'] = decnifty['Monthly Return']*decnifty['Weightage (%)'] #assuming that weights are already divided by 100 as it is percentile\n",
        "decnifty['Total Return'].sum()   "
      ],
      "execution_count": null,
      "outputs": [
        {
          "output_type": "execute_result",
          "data": {
            "text/plain": [
              "42.465900000000005"
            ]
          },
          "metadata": {
            "tags": []
          },
          "execution_count": 46
        }
      ]
    },
    {
      "cell_type": "code",
      "metadata": {
        "colab": {
          "base_uri": "https://localhost:8080/"
        },
        "id": "FlDOhtMR-_Yp",
        "outputId": "c1a6b261-36ad-4299-8d2c-aa4812fb0671"
      },
      "source": [
        "jannifty['Total Return'] = jannifty['Monthly Return']*jannifty['Weightage (%)'] #assuming that weights are already divided by 100 as it is percentile\n",
        "jannifty['Total Return'].sum()"
      ],
      "execution_count": null,
      "outputs": [
        {
          "output_type": "execute_result",
          "data": {
            "text/plain": [
              "249.3331"
            ]
          },
          "metadata": {
            "tags": []
          },
          "execution_count": 48
        }
      ]
    },
    {
      "cell_type": "code",
      "metadata": {
        "colab": {
          "base_uri": "https://localhost:8080/"
        },
        "id": "Jl1Als4j-_NF",
        "outputId": "d35c4c26-06ea-44c0-d994-4fc21bf69c2a"
      },
      "source": [
        "febnifty['Total Return'] = febnifty['Monthly Return']*febnifty['Weightage (%)'] #assuming that weights are already divided by 100 as it is percentile\n",
        "febnifty['Total Return'].sum()"
      ],
      "execution_count": null,
      "outputs": [
        {
          "output_type": "execute_result",
          "data": {
            "text/plain": [
              "69.8028"
            ]
          },
          "metadata": {
            "tags": []
          },
          "execution_count": 49
        }
      ]
    },
    {
      "cell_type": "code",
      "metadata": {
        "id": "x5re2JlD9dYu"
      },
      "source": [
        "Nifty = pd.Series([sepnifty['Total Return'].sum(),octnifty['Total Return'].sum(),novnifty['Total Return'].sum(),decnifty['Total Return'].sum(),jannifty['Total Return'].sum(),febnifty['Total Return'].sum()])"
      ],
      "execution_count": 62,
      "outputs": []
    },
    {
      "cell_type": "code",
      "metadata": {
        "colab": {
          "base_uri": "https://localhost:8080/",
          "height": 238
        },
        "id": "OoD_5W2l_2wY",
        "outputId": "b6898bc3-c53d-489b-c6b7-a8db2058ca87"
      },
      "source": [
        "Task2['Nifty'] = Nifty\n",
        "Task2"
      ],
      "execution_count": 63,
      "outputs": [
        {
          "output_type": "execute_result",
          "data": {
            "text/html": [
              "<div>\n",
              "<style scoped>\n",
              "    .dataframe tbody tr th:only-of-type {\n",
              "        vertical-align: middle;\n",
              "    }\n",
              "\n",
              "    .dataframe tbody tr th {\n",
              "        vertical-align: top;\n",
              "    }\n",
              "\n",
              "    .dataframe thead th {\n",
              "        text-align: right;\n",
              "    }\n",
              "</style>\n",
              "<table border=\"1\" class=\"dataframe\">\n",
              "  <thead>\n",
              "    <tr style=\"text-align: right;\">\n",
              "      <th></th>\n",
              "      <th>niftynext</th>\n",
              "      <th>Nifty</th>\n",
              "    </tr>\n",
              "  </thead>\n",
              "  <tbody>\n",
              "    <tr>\n",
              "      <th>0</th>\n",
              "      <td>52.508495</td>\n",
              "      <td>43.322941</td>\n",
              "    </tr>\n",
              "    <tr>\n",
              "      <th>1</th>\n",
              "      <td>104.911300</td>\n",
              "      <td>123.904600</td>\n",
              "    </tr>\n",
              "    <tr>\n",
              "      <th>2</th>\n",
              "      <td>214.395200</td>\n",
              "      <td>99.104600</td>\n",
              "    </tr>\n",
              "    <tr>\n",
              "      <th>3</th>\n",
              "      <td>97.181800</td>\n",
              "      <td>42.465900</td>\n",
              "    </tr>\n",
              "    <tr>\n",
              "      <th>4</th>\n",
              "      <td>66.038200</td>\n",
              "      <td>249.333100</td>\n",
              "    </tr>\n",
              "    <tr>\n",
              "      <th>5</th>\n",
              "      <td>138.098900</td>\n",
              "      <td>69.802800</td>\n",
              "    </tr>\n",
              "  </tbody>\n",
              "</table>\n",
              "</div>"
            ],
            "text/plain": [
              "    niftynext       Nifty\n",
              "0   52.508495   43.322941\n",
              "1  104.911300  123.904600\n",
              "2  214.395200   99.104600\n",
              "3   97.181800   42.465900\n",
              "4   66.038200  249.333100\n",
              "5  138.098900   69.802800"
            ]
          },
          "metadata": {
            "tags": []
          },
          "execution_count": 63
        }
      ]
    },
    {
      "cell_type": "code",
      "metadata": {
        "id": "_oS0CkoXMPjn"
      },
      "source": [
        "Month = ['Sep18','Oct18','Nov18','Dec18','Jan19','Feb19']\n",
        "Task2['Month'] = Month"
      ],
      "execution_count": 65,
      "outputs": []
    },
    {
      "cell_type": "code",
      "metadata": {
        "colab": {
          "base_uri": "https://localhost:8080/",
          "height": 238
        },
        "id": "4SjgiCqqM7kj",
        "outputId": "acd93282-5fc3-4cee-adf2-5685ded2010b"
      },
      "source": [
        "Task2"
      ],
      "execution_count": 67,
      "outputs": [
        {
          "output_type": "execute_result",
          "data": {
            "text/html": [
              "<div>\n",
              "<style scoped>\n",
              "    .dataframe tbody tr th:only-of-type {\n",
              "        vertical-align: middle;\n",
              "    }\n",
              "\n",
              "    .dataframe tbody tr th {\n",
              "        vertical-align: top;\n",
              "    }\n",
              "\n",
              "    .dataframe thead th {\n",
              "        text-align: right;\n",
              "    }\n",
              "</style>\n",
              "<table border=\"1\" class=\"dataframe\">\n",
              "  <thead>\n",
              "    <tr style=\"text-align: right;\">\n",
              "      <th></th>\n",
              "      <th>niftynext</th>\n",
              "      <th>Nifty</th>\n",
              "      <th>Month</th>\n",
              "    </tr>\n",
              "  </thead>\n",
              "  <tbody>\n",
              "    <tr>\n",
              "      <th>0</th>\n",
              "      <td>52.508495</td>\n",
              "      <td>43.322941</td>\n",
              "      <td>Sep18</td>\n",
              "    </tr>\n",
              "    <tr>\n",
              "      <th>1</th>\n",
              "      <td>104.911300</td>\n",
              "      <td>123.904600</td>\n",
              "      <td>Oct18</td>\n",
              "    </tr>\n",
              "    <tr>\n",
              "      <th>2</th>\n",
              "      <td>214.395200</td>\n",
              "      <td>99.104600</td>\n",
              "      <td>Nov18</td>\n",
              "    </tr>\n",
              "    <tr>\n",
              "      <th>3</th>\n",
              "      <td>97.181800</td>\n",
              "      <td>42.465900</td>\n",
              "      <td>Dec18</td>\n",
              "    </tr>\n",
              "    <tr>\n",
              "      <th>4</th>\n",
              "      <td>66.038200</td>\n",
              "      <td>249.333100</td>\n",
              "      <td>Jan19</td>\n",
              "    </tr>\n",
              "    <tr>\n",
              "      <th>5</th>\n",
              "      <td>138.098900</td>\n",
              "      <td>69.802800</td>\n",
              "      <td>Feb19</td>\n",
              "    </tr>\n",
              "  </tbody>\n",
              "</table>\n",
              "</div>"
            ],
            "text/plain": [
              "    niftynext       Nifty  Month\n",
              "0   52.508495   43.322941  Sep18\n",
              "1  104.911300  123.904600  Oct18\n",
              "2  214.395200   99.104600  Nov18\n",
              "3   97.181800   42.465900  Dec18\n",
              "4   66.038200  249.333100  Jan19\n",
              "5  138.098900   69.802800  Feb19"
            ]
          },
          "metadata": {
            "tags": []
          },
          "execution_count": 67
        }
      ]
    },
    {
      "cell_type": "code",
      "metadata": {
        "id": "bZPrhcqINcQJ"
      },
      "source": [
        "import matplotlib.pyplot as plt\n"
      ],
      "execution_count": 71,
      "outputs": []
    },
    {
      "cell_type": "code",
      "metadata": {
        "id": "ee4rIlgUStCI"
      },
      "source": [
        "plotdata['pies'].plot(kind=\"bar\", title=\"test\")\n"
      ],
      "execution_count": null,
      "outputs": []
    },
    {
      "cell_type": "code",
      "metadata": {
        "colab": {
          "base_uri": "https://localhost:8080/",
          "height": 311
        },
        "id": "8_X3qu4mVD-C",
        "outputId": "68e2bd23-2f79-49ce-d37d-101096390676"
      },
      "source": [
        "Task2.plot(kind=\"bar\", title=\"Nifty\",color = ['y','g'])\n",
        "plt.xlabel(\"Month\")\n",
        "plt.ylabel(\"Returns\")"
      ],
      "execution_count": 87,
      "outputs": [
        {
          "output_type": "execute_result",
          "data": {
            "text/plain": [
              "Text(0, 0.5, 'Returns')"
            ]
          },
          "metadata": {
            "tags": []
          },
          "execution_count": 87
        },
        {
          "output_type": "display_data",
          "data": {
            "image/png": "[encoded data removed]",
            "text/plain": [
              "<Figure size 432x288 with 1 Axes>"
            ]
          },
          "metadata": {
            "tags": [],
            "needs_background": "light"
          }
        }
      ]
    },
    {
      "cell_type": "code",
      "metadata": {
        "id": "8u0uPkY6XkoI"
      },
      "source": [
        "Task2 = Task2.set_index('Month')"
      ],
      "execution_count": 88,
      "outputs": []
    },
    {
      "cell_type": "code",
      "metadata": {
        "colab": {
          "base_uri": "https://localhost:8080/",
          "height": 354
        },
        "id": "gbGnA_9dYHdB",
        "outputId": "c989229b-9547-4206-e4ea-f699e4351590"
      },
      "source": [
        "Task2.plot(kind=\"bar\", title=\"6 Months Return Summary\",color = ['y','g'])\n",
        "plt.xlabel(\"Month\")\n",
        "plt.ylabel(\"Returns\")\n",
        "plt.figure(figsize=(200,100))"
      ],
      "execution_count": 95,
      "outputs": [
        {
          "output_type": "execute_result",
          "data": {
            "text/plain": [
              "<Figure size 14400x7200 with 0 Axes>"
            ]
          },
          "metadata": {
            "tags": []
          },
          "execution_count": 95
        },
        {
          "output_type": "display_data",
          "data": {
            "image/png": "[encoded data removed]",
            "text/plain": [
              "<Figure size 432x288 with 1 Axes>"
            ]
          },
          "metadata": {
            "tags": [],
            "needs_background": "light"
          }
        },
        {
          "output_type": "display_data",
          "data": {
            "text/plain": [
              "<Figure size 14400x7200 with 0 Axes>"
            ]
          },
          "metadata": {
            "tags": []
          }
        }
      ]
    }
  ]
}